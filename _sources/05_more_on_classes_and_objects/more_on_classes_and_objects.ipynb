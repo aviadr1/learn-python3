{
 "cells": [
  {
   "cell_type": "markdown",
   "metadata": {},
   "source": [
    "\n",
    "<a href=\"https://colab.research.google.com/github/aviadr1/learn-advanced-python/blob/master/content/05_more_on_classes_and_objects/more_on_classes_and_objects.ipynb\" target=\"_blank\">\n",
    "<img src=\"https://colab.research.google.com/assets/colab-badge.svg\" \n",
    "     title=\"Open this file in Google Colab\" alt=\"Colab\"/>\n",
    "</a>\n"
   ]
  },
  {
   "cell_type": "code",
   "execution_count": null,
   "metadata": {},
   "outputs": [],
   "source": []
  },
  {
   "cell_type": "code",
   "execution_count": 1,
   "metadata": {},
   "outputs": [
    {
     "name": "stdout",
     "output_type": "stream",
     "text": [
      "Terry Gilliam walking\n",
      "Terry Gilliam swimming\n",
      "Terry Gilliam running\n"
     ]
    }
   ],
   "source": [
    "class Person:\n",
    "    def __init__(self, name):\n",
    "        self.name = name\n",
    "    def __repr__(self):\n",
    "        return f\"{type(self).__name__}({self.name!r})\"\n",
    "    def walk(self):\n",
    "        print(self.name, 'walking')\n",
    "    def run(self):\n",
    "        print(self.name,'running')\n",
    "    def swim(self):\n",
    "        print(self.name,'swimming')\n",
    "        \n",
    "class OlympicRunner(Person):\n",
    "    def run(self):\n",
    "        print(self.name,self.name,\"running incredibly fast!\")\n",
    "        \n",
    "    def show_medals(self):\n",
    "        print(self.name, 'showing my olympic medals')\n",
    "    \n",
    "def train(person):\n",
    "    person.walk()\n",
    "    person.swim()\n",
    "    person.run()\n",
    "    \n",
    "terry = Person('Terry Gilliam')\n",
    "graham = Person('Graham Chapman')\n",
    "train(terry)"
   ]
  },
  {
   "cell_type": "markdown",
   "metadata": {},
   "source": [
    "## Constructors are inheritable\n",
    "\n",
    "we define a constructor in class `Person`, notice how since I didnt redefine the constructor \n",
    "in `OlympicRunner` I can reuse it"
   ]
  },
  {
   "cell_type": "code",
   "execution_count": 2,
   "metadata": {},
   "outputs": [
    {
     "data": {
      "text/plain": [
       "OlympicRunner('Usain Bolt')"
      ]
     },
     "execution_count": 2,
     "metadata": {},
     "output_type": "execute_result"
    }
   ],
   "source": [
    "usainbolt = OlympicRunner('Usain Bolt')\n",
    "usainbolt"
   ]
  },
  {
   "cell_type": "markdown",
   "metadata": {},
   "source": [
    "## Bound and unbound methods\n",
    "### Umbound methods"
   ]
  },
  {
   "cell_type": "code",
   "execution_count": 3,
   "metadata": {},
   "outputs": [
    {
     "name": "stdout",
     "output_type": "stream",
     "text": [
      "Terry Gilliam swimming\n",
      "Terry Gilliam swimming\n",
      "<function Person.swim at 0x0612F468>\n",
      "Terry Gilliam swimming\n",
      "Graham Chapman swimming\n"
     ]
    }
   ],
   "source": [
    "# what's heppening here\n",
    "terry.swim()\n",
    "\n",
    "# its actually equivalent to:\n",
    "Person.swim(terry)\n",
    "\n",
    "# we can take the function swim out of the Person class\n",
    "swim = Person.swim\n",
    "\n",
    "# this is called an unbound function - it is not glued to a particular object\n",
    "print(swim) # <function Person.swim at 0x06737228>\n",
    "\n",
    "# we can call it on any person\n",
    "swim(terry)\n",
    "swim(graham)"
   ]
  },
  {
   "cell_type": "markdown",
   "metadata": {},
   "source": [
    "### Bound methods"
   ]
  },
  {
   "cell_type": "code",
   "execution_count": 4,
   "metadata": {},
   "outputs": [
    {
     "name": "stdout",
     "output_type": "stream",
     "text": [
      "<bound method Person.swim of Person('Terry Gilliam')>\n",
      "Terry Gilliam swimming\n",
      "you cannot change the object: swim() takes 1 positional argument but 2 were given\n"
     ]
    }
   ],
   "source": [
    "# lets take the function 'swim' from terry\n",
    "terry_swim = terry.swim\n",
    "print(terry_swim) # <bound method Person.swim of Person('Terry Gilliam')>\n",
    "\n",
    "# this function is bound to Terry Gilliam. \n",
    "# the 'self' parameter has been determined - we dont need any parameters\n",
    "terry_swim()\n",
    "\n",
    "try:\n",
    "    terry_swim(graham)\n",
    "except Exception as ex:\n",
    "    print('you cannot change the object:', ex)"
   ]
  },
  {
   "cell_type": "markdown",
   "metadata": {},
   "source": [
    "## Monkey-patching methods to a class or instance\n",
    "\n",
    "* We can monkey-patch classes (change classes at run time) by just adding function to the class\n",
    "* We can 'trick' functions to think they are methods of a class, bound to a particular object\n",
    "* We can add methods to a particular object\n",
    "\n",
    "> This works through the magic of 'descriptors' i.e. objects that know who owns them \\[ [more details](https://docs.python.org/3.7/howto/descriptor.html) \\]"
   ]
  },
  {
   "cell_type": "code",
   "execution_count": 5,
   "metadata": {},
   "outputs": [
    {
     "name": "stdout",
     "output_type": "stream",
     "text": [
      "<function sing at 0x0612F198>\n",
      "<bound method sing of Person('Terry Gilliam')>\n",
      "Person('Terry Gilliam') is singing\n",
      "\n",
      "<function train at 0x0612F2B8>\n",
      "the train function is not bound: train() missing 1 required positional argument: 'person' \n",
      "\n",
      "<bound method train of OlympicRunner('Usain Bolt')>\n",
      "Usain Bolt walking\n",
      "Usain Bolt swimming\n",
      "Usain Bolt Usain Bolt running incredibly fast!\n",
      "Usain Bolt walking\n",
      "Usain Bolt swimming\n",
      "Usain Bolt Usain Bolt running incredibly fast!\n"
     ]
    }
   ],
   "source": [
    "def sing(self):\n",
    "    print(self, 'is singing')\n",
    "\n",
    "# add sing() method to Person class\n",
    "# from this moment on, any Person object also has a sing() method \n",
    "Person.sing = sing\n",
    "print(sing)\n",
    "print(terry.sing)\n",
    "terry.sing()\n",
    "print()\n",
    "\n",
    "# can we add functions to a particular instance?\n",
    "# just putting a function in an instance does not bind it to the instance\n",
    "print(train) # the train() function\n",
    "usainbolt.train = train\n",
    "try:\n",
    "    usainbolt.train() # this won't work\n",
    "except Exception as ex:\n",
    "    print('the train function is not bound:', ex, '\\n')\n",
    "    \n",
    "# here's how we can can do it\n",
    "# bind the function `train` to think it bound to usainbolt\n",
    "train_usain = train.__get__(usainbolt, type(usainbolt))\n",
    "print(train_usain)\n",
    "train_usain()\n",
    "usainbolt.train = train_usain\n",
    "usainbolt.train()"
   ]
  },
  {
   "cell_type": "markdown",
   "metadata": {},
   "source": [
    "## Where is everything?\n",
    "\n",
    "* the attributes of each instance are stored in a `__dict__` attribute\n",
    "* the class of an instance is stored in the `__class__` attribute\n",
    "* methods are usually stored in the `__dict__` object of the class\n",
    "* base classes are stored in the `__base__` and `__bases__` atrributes of the class\n",
    "\n",
    "It gets a bit more complicated though:\n",
    "* an object can have a `__slots__`  variable instead of a `__dict__` this is used to save memory [more details](https://stackoverflow.com/questions/472000/usage-of-slots)\n",
    "* an object can have a `__getattr__` (or `__getattribute__`) function to return additional attributes [more details](https://stackoverflow.com/questions/4295678/understanding-the-difference-between-getattr-and-getattribute)"
   ]
  },
  {
   "cell_type": "code",
   "execution_count": 6,
   "metadata": {},
   "outputs": [
    {
     "name": "stdout",
     "output_type": "stream",
     "text": [
      "{'name': 'Usain Bolt',\n",
      " 'train': <bound method train of OlympicRunner('Usain Bolt')>}\n",
      "\n",
      "<class '__main__.OlympicRunner'>\n",
      "mappingproxy({'__doc__': None,\n",
      "              '__module__': '__main__',\n",
      "              'run': <function OlympicRunner.run at 0x0612F300>,\n",
      "              'show_medals': <function OlympicRunner.show_medals at 0x0612F4B0>})\n",
      "\n",
      "<class '__main__.Person'>\n",
      "mappingproxy({'__dict__': <attribute '__dict__' of 'Person' objects>,\n",
      "              '__doc__': None,\n",
      "              '__init__': <function Person.__init__ at 0x0612F348>,\n",
      "              '__module__': '__main__',\n",
      "              '__repr__': <function Person.__repr__ at 0x0612F390>,\n",
      "              '__weakref__': <attribute '__weakref__' of 'Person' objects>,\n",
      "              'run': <function Person.run at 0x0612F420>,\n",
      "              'sing': <function sing at 0x0612F198>,\n",
      "              'swim': <function Person.swim at 0x0612F468>,\n",
      "              'walk': <function Person.walk at 0x0612F3D8>})\n"
     ]
    }
   ],
   "source": [
    "from pprint import pprint\n",
    "pprint(usainbolt.__dict__)\n",
    "print()\n",
    "\n",
    "pprint(usainbolt.__class__) # OlympicRunner\n",
    "pprint(OlympicRunner.__dict__)\n",
    "print()\n",
    "\n",
    "pprint(OlympicRunner.__base__)\n",
    "pprint(Person.__dict__)"
   ]
  },
  {
   "cell_type": "markdown",
   "metadata": {},
   "source": [
    "## Testing if an object has an attribute\n",
    "\n",
    "To get an attribute `x` from an object `obj`, we can easily just write `obj.x`\n",
    "but what if the object doesn't have the x property? then `obj.x` will throw an exception\n",
    "```\n",
    "---------------------------------------------------------------------------\n",
    "AttributeError                            Traceback (most recent call last)\n",
    "<ipython-input-42-5a93966dfc11> in <module>\n",
    "----> 4 obj.x\n",
    "\n",
    "AttributeError: object has no attribute 'x'\n",
    "```\n",
    "\n",
    "how can we test for an attribute? we can either catch the exception, or use the `getattr()` function:\n",
    "```\n",
    "getattr(object, name[, default]) -> value\n",
    "```"
   ]
  },
  {
   "cell_type": "code",
   "execution_count": 7,
   "metadata": {},
   "outputs": [
    {
     "name": "stdout",
     "output_type": "stream",
     "text": [
      "<bound method OlympicRunner.run of OlympicRunner('Usain Bolt')>\n",
      "no time machine yet\n"
     ]
    }
   ],
   "source": [
    "run = getattr(usainbolt, 'run') # equivalent to usainbolt.run\n",
    "print(run)\n",
    "\n",
    "time_machine = attribute_usain_doesnt_have = getattr(usainbolt, 'time_machine', None)\n",
    "print(time_machine) if time_machine is not None else print('no time machine yet')"
   ]
  },
  {
   "cell_type": "markdown",
   "metadata": {},
   "source": [
    "## inspecting objects\n",
    "\n",
    "the `dir` function is useful when inspecting objects in an interactive environment - it is designed to return the most 'interesting' things in an object. \n",
    "but it is not necessarily complete or consistent, and may change between versions\n",
    "  \n",
    "if are writing reflection code to iterate through other objects, we need something more consistent and powerful - the `inspect` module \\[ [more details](https://docs.python.org/3/library/inspect.html) \\]"
   ]
  },
  {
   "cell_type": "code",
   "execution_count": 8,
   "metadata": {},
   "outputs": [
    {
     "name": "stdout",
     "output_type": "stream",
     "text": [
      "'c:\\\\users\\\\aviad\\\\appdata\\\\local\\\\programs\\\\python\\\\python37-32\\\\lib\\\\inspect.py'\n",
      "\n",
      "[('__init__', <bound method Person.__init__ of OlympicRunner('Usain Bolt')>),\n",
      " ('__repr__', <bound method Person.__repr__ of OlympicRunner('Usain Bolt')>),\n",
      " ('run', <bound method OlympicRunner.run of OlympicRunner('Usain Bolt')>),\n",
      " ('show_medals',\n",
      "  <bound method OlympicRunner.show_medals of OlympicRunner('Usain Bolt')>),\n",
      " ('sing', <bound method sing of OlympicRunner('Usain Bolt')>),\n",
      " ('swim', <bound method Person.swim of OlympicRunner('Usain Bolt')>),\n",
      " ('train', <bound method train of OlympicRunner('Usain Bolt')>),\n",
      " ('walk', <bound method Person.walk of OlympicRunner('Usain Bolt')>)]\n",
      "\n",
      "<Signature (person)>\n",
      "\n"
     ]
    }
   ],
   "source": [
    "import inspect\n",
    "pprint(inspect.getfile(inspect)) # what .py created this module?\n",
    "print()\n",
    "\n",
    "pprint(inspect.getmembers(usainbolt, inspect.ismethod)) # get methods of usainbolt\n",
    "print()\n",
    "\n",
    "pprint(inspect.signature(train)) # returns the parameters of the function train()\n",
    "print()"
   ]
  },
  {
   "cell_type": "markdown",
   "metadata": {},
   "source": [
    "## Which method will get called?\n",
    "\n",
    "When calling a function that exists in both a base class (`Person.run()`) and in a derived class (`OlympicRunner.run()`) which function will actually be called?\n",
    "\n",
    "* the function that will be called depends on the type of the object and the **Method Resolution Order** or *MRO* - (see example below). \n",
    "* when calling `usainbolt.run()` python will access `type(usainbolt).__mro__` to get at the list of classes in the object's inheritance tree. \n",
    "* python will iterate through this list of classes, looking for the method `run` and returns the method from the first class that has this method.\n",
    "\n",
    "the property of having a different function called depending on the type of the object and its location in an inheritance tree is a well-known OO principle that goes by many names:\n",
    "\n",
    "* Polymorphism\n",
    "* Virtual functions\n",
    "* Liskov-Substition principle\n",
    "* Single dispatch\n",
    "\n",
    ">> _in python, all methods are 'virtual'_"
   ]
  },
  {
   "cell_type": "code",
   "execution_count": 21,
   "metadata": {},
   "outputs": [
    {
     "name": "stdout",
     "output_type": "stream",
     "text": [
      "(<class '__main__.Person'>, <class 'object'>) \n",
      "\n",
      "(<class '__main__.OlympicRunner'>, <class '__main__.Person'>, <class 'object'>) \n",
      "\n",
      "Terry Gilliam swimming\n",
      "Usain Bolt swimming\n",
      "Terry Gilliam running\n",
      "Usain Bolt Usain Bolt running incredibly fast!\n"
     ]
    }
   ],
   "source": [
    "# objects of type Person first look for methods in class Person, then in class object\n",
    "print(Person.__mro__, '\\n')\n",
    "\n",
    "# objects of type OlympicRunner first look for methods in class OlympicRunner, then in Person, then in class object\n",
    "print(OlympicRunner.__mro__, '\\n')\n",
    "\n",
    "terry.swim()     # Person.swim(terry)\n",
    "usainbolt.swim() # Person.swim(usainbolt)\n",
    "terry.run()      # Person.run()\n",
    "usainbolt.run()  # OlympicRunner.run(usainbolt)\n"
   ]
  },
  {
   "cell_type": "markdown",
   "metadata": {},
   "source": [
    "## Accessing your base class(es)\n",
    "### The explicit method\n",
    "\n",
    "Sometimes when inheriting a class we want to override a function, while still reusing the implementation of the base class.\n",
    "we can do so by explitily referring naming the unbound name of the function we want to use from the base class:"
   ]
  },
  {
   "cell_type": "code",
   "execution_count": 26,
   "metadata": {},
   "outputs": [
    {
     "name": "stdout",
     "output_type": "stream",
     "text": [
      "Kardashian running\n",
      "Kardashian taking picture and uploading to instagram\n"
     ]
    }
   ],
   "source": [
    "class InstagramCelebrity(Person):        \n",
    "    def run(self):\n",
    "        Person.run(self) # call the run() method defined in class Person\n",
    "        print(self.name, 'taking picture and uploading to instagram')\n",
    "\n",
    "kardashian = InstagramCelebrity('Kardashian')\n",
    "kardashian.run()"
   ]
  },
  {
   "cell_type": "markdown",
   "metadata": {},
   "source": [
    "### using super()\n",
    "\n",
    "> What if we don't want to explicitly write the name of the base class? `super()` can help with that\n",
    "\n",
    "consider these two scenarios:\n",
    "1. Notice in the example above how we've not followed the _DRY_ principle (Don't Repeat Yourself) and explicitly referred to class `Person` in `InstagramCelebrity.run()`? what if we later decided that `InstagramCelebrity` should not inherit directly from `Person` but rather inherit from (say) `Celebrity`? we would need to change the run() method to call `Celebrity.run(self)` instead, but we might forget to do so. <br><br>\n",
    "\n",
    "2. What if we have a complicated _diamond-shape multiple inheritance_ and we're not sure what's the right base class to call?\n",
    "\n",
    "Lets first focus on scenario 1, where we don't really need to know much about how `super()` works. <br>\n",
    "in the example below works exactly the same as the example above, except it uses `super()` instead of an explicit `Person.` notation\n"
   ]
  },
  {
   "cell_type": "code",
   "execution_count": null,
   "metadata": {},
   "outputs": [],
   "source": [
    "class InstagramCelebrity(Person):        \n",
    "    def run(self):\n",
    "        super().run() # calls the run() on the first base class that has a run() function\n",
    "        print(self.name, 'taking picture and uploading to instagram')\n",
    "\n",
    "kardashian = InstagramCelebrity('Kardashian')\n",
    "kardashian.run()"
   ]
  },
  {
   "cell_type": "markdown",
   "metadata": {},
   "source": [
    "### Super and multiple inheritance\n",
    "we'll talk about how super() interacts with multiple inheritance in lesson 06"
   ]
  },
  {
   "cell_type": "markdown",
   "metadata": {},
   "source": [
    "# class scope: code and variables\n",
    "\n",
    "consider the following code:\n",
    "\n",
    "```\n",
    "class Comedian(Person):\n",
    "    funny_level = 0\n",
    "```\n",
    "what's happening here? when is this code run? where does the `funny_level` attribute live?\n",
    "\n",
    "1. code inside a class scope is run at the time the class is defined, **NOT** when an instance is created\n",
    "2. variables defined at class scope, including methods defined using `def` or any other variables, end up as attributes of the class in its `__dict__` "
   ]
  },
  {
   "cell_type": "code",
   "execution_count": 53,
   "metadata": {},
   "outputs": [
    {
     "name": "stdout",
     "output_type": "stream",
     "text": [
      "0\n",
      "mappingproxy({'__module__': '__main__', 'funny_level': 0, '__doc__': None})\n",
      "{'name': 'Eric Idle'}\n",
      "50\n",
      "{'funny_level': 100, 'name': 'Eric Idle'}\n",
      "100\n",
      "50\n"
     ]
    }
   ],
   "source": [
    "class Comedian(Person):\n",
    "    # this code is run NOW, when this class is being defined\n",
    "    funny_level = 0\n",
    "\n",
    "# therefore we can access Comedian.funny_level even BEFORE creating any instances\n",
    "print(Comedian.funny_level) # 0\n",
    "pprint(Comedian.__dict__) # funny_level is an attribute of Comedian class\n",
    "Comedian.funny_level = 50\n",
    "\n",
    "# create a comedian instance\n",
    "eric = Comedian('Eric Idle')\n",
    "\n",
    "#  eric doesn't its own funny_level attribute\n",
    "pprint(eric.__dict__)\n",
    "\n",
    "# eric.funny_level actually returns Comedian.funny_level\n",
    "print(eric.funny_level) # 50 \n",
    "\n",
    "# when we're assigning a value to eric.funny_level, we're actually ADDING a new attribute to eric's __dict__\n",
    "eric.funny_level = 100\n",
    "pprint(eric.__dict__)\n",
    "print(eric.funny_level) # 100\n",
    "print(Comedian.funny_level) # unchanged, it is still 50\n"
   ]
  },
  {
   "cell_type": "markdown",
   "metadata": {},
   "source": [
    "## What kind of code can we run at class scope?\n",
    "\n",
    "Answer: **any legal python code** can be written at class scope, including:\n",
    "* defining functions (obviously)\n",
    "* defining variables\n",
    "* creating inner classes\n",
    "* calling functions or print\n",
    "* even run loops! "
   ]
  },
  {
   "cell_type": "code",
   "execution_count": 75,
   "metadata": {},
   "outputs": [
    {
     "name": "stdout",
     "output_type": "stream",
     "text": [
      "computing squares:\n",
      "finished computing squares: [0, 1, 4, 9, 16, 25, 36, 49, 64, 81]\n",
      "Defining an inner function now\n",
      "\n",
      "[0, 1, 4, 9, 16, 25, 36, 49, 64, 81]\n",
      "['squares', 'i', 'InnerClass', 'myfunc']\n"
     ]
    }
   ],
   "source": [
    "def show_dict_helper(dict_): return [ k for k in dict_ if not k.startswith('__')]\n",
    "\n",
    "class Test:\n",
    "    \n",
    "    print(\"computing squares:\")\n",
    "    squares = []\n",
    "    for i in range(10):\n",
    "        squares.append(i**2)\n",
    "    print(\"finished computing squares:\", squares)\n",
    "        \n",
    "    class InnerClass:\n",
    "        print(\"Defining an inner function now\")\n",
    "        \n",
    "    def myfunc(self):\n",
    "        pass\n",
    "\n",
    "        \n",
    "print()        \n",
    "pprint(Test.squares)\n",
    "pprint(show_dict_helper(Test.__dict__)) # ['squares', 'i', 'InnerClass', 'myfunc']      "
   ]
  },
  {
   "cell_type": "code",
   "execution_count": 83,
   "metadata": {},
   "outputs": [
    {
     "name": "stdout",
     "output_type": "stream",
     "text": [
      "mappingproxy({'__doc__': None,\n",
      "              '__init__': <function Comedian2.__init__ at 0x067ADA08>,\n",
      "              '__module__': '__main__'})\n",
      "{'funny_level': 100, 'name': 'Eric Idle'}\n"
     ]
    }
   ],
   "source": [
    "## How is it different from __init__ methods?\n",
    "class Comedian2(Person):\n",
    "    \n",
    "    # code to *define* the __init__ function runs *now*\n",
    "    # the __init__ function goes into Comedian2.__dict__\n",
    "    def __init__(self, name, funny_level):\n",
    "        # this code runs only when we are creating an instance\n",
    "        # name, funny_level end up in the instance's dict\n",
    "        self.name = name\n",
    "        self.funny_level = funny_level\n",
    "        \n",
    "eric2 = Comedian2('Eric Idle', funny_level=100)\n",
    "\n",
    "# now Comedian2 only has attributes related to the class\n",
    "pprint(Comedian2.__dict__) # mostly just __init__\n",
    "\n",
    "# and our instance eric2 has all the attributes related to instances\n",
    "pprint(eric2.__dict__) # 'name' and 'funny_level'\n",
    "\n"
   ]
  },
  {
   "cell_type": "markdown",
   "metadata": {},
   "source": [
    "# using `__getattr__()` to dynamically support more attributes\n",
    "\n",
    "python is incredibly dynamic and extensible. a class can handle requests for attributes even if they don't actual \"exist\" in the class by implementing the `__getattr__` function. this can be useful in many design patterns such as `Composition` or `Proxy` as we will see in the next chapter.\n",
    "\n",
    "> The notebook **ex 05 - questions** has a question about `__setattr__()`\n",
    "\n",
    "meanwhile, lets look at a silly example of an `ImprovComedian` class that returns random jokes for every attribute that isn't found in the class"
   ]
  },
  {
   "cell_type": "code",
   "execution_count": 104,
   "metadata": {},
   "outputs": [
    {
     "name": "stdout",
     "output_type": "stream",
     "text": [
      "Seinfeld 100\n",
      "so regarding numbers... what's a freudian slip? its when you mean one thing but you say your mother\n",
      "so regarding sleep... What's the difference between insomnia and amnesia? I stayed up all night yesterday trying to remember ...\n"
     ]
    }
   ],
   "source": [
    "import random\n",
    "class ImprovComedian(Comedian2):\n",
    "    JOKES = [\n",
    "        'why is 10 afraid of 7? because 7 8 9',\n",
    "        'How did 10 die ? he was in the middle of 9 11',\n",
    "        \"What's the difference between insomnia and amnesia? \" \\\n",
    "            \"I stayed up all night yesterday trying to remember ...\",\n",
    "        \"what's a freudian slip? its when you mean one thing but you say your mother\"\n",
    "    ]\n",
    "        \n",
    "    # return random joke for every attribute that doesn't already exist in the class\n",
    "    def __getattr__(self, name):\n",
    "        return f\"so regarding {name}... \" + random.choice(type(self).JOKES)    \n",
    "\n",
    "    \n",
    "seinfeld = ImprovComedian('Seinfeld', 100)\n",
    "print(seinfeld.name, seinfeld.funny_level) # normal attributes continue to work\n",
    "\n",
    "# when you ask for attributes that \"don't exist\" __getattr__ gets called\n",
    "print(seinfeld.numbers)\n",
    "print(seinfeld.sleep)"
   ]
  },
  {
   "cell_type": "code",
   "execution_count": null,
   "metadata": {},
   "outputs": [],
   "source": []
  }
 ],
 "metadata": {
  "kernelspec": {
   "display_name": "Python 3",
   "language": "python",
   "name": "python3"
  },
  "language_info": {
   "codemirror_mode": {
    "name": "ipython",
    "version": 3
   },
   "file_extension": ".py",
   "mimetype": "text/x-python",
   "name": "python",
   "nbconvert_exporter": "python",
   "pygments_lexer": "ipython3",
   "version": "3.7.3"
  }
 },
 "nbformat": 4,
 "nbformat_minor": 2
}
