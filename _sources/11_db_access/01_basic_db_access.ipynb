{
 "cells": [
  {
   "cell_type": "markdown",
   "metadata": {},
   "source": [
    "\n",
    "<a href=\"https://colab.research.google.com/github/aviadr1/learn-advanced-python/blob/master/content/11_db_access/01_basic_db_access.ipynb\" target=\"_blank\">\n",
    "<img src=\"https://colab.research.google.com/assets/colab-badge.svg\" \n",
    "     title=\"Open this file in Google Colab\" alt=\"Colab\"/>\n",
    "</a>\n"
   ]
  },
  {
   "cell_type": "markdown",
   "metadata": {},
   "source": [
    "# sqlite\n",
    "SQLite is an open-source library that provides a lightweight **disk-based** database.\n",
    "\n",
    "> 1. sqlite it  doesn’t require a separate server process\n",
    "> 2. allows accessing the database using a nonstandard variant of the SQL query language. \n",
    "> 3. provides a SQL interface compliant with the python's DB-API 2.0 specification described by [PEP 249][1].\n",
    "\n",
    "applications can use SQLite for internal data storage. It’s also possible to prototype an application using SQLite and then port the code to a larger database such as PostgreSQL or Oracle.\n",
    "\n",
    "[1]: https://www.python.org/dev/peps/pep-0249"
   ]
  },
  {
   "cell_type": "markdown",
   "metadata": {},
   "source": [
    "To use the module, you must first create a `Connection` object that represents the database.\n",
    "\n",
    "a connection object's key methods are:\n",
    "1. `cursor()`\n",
    "    returns a cursor object that can execute queries and retrieve results\n",
    "\n",
    "2. `commit()`\n",
    "    submits the current transaction to the DB. If you don’t call this method, anything you did since the last call to commit() is not visible from other database connections. If you wonder why you don’t see the data you’ve written to the database, please check you didn’t forget to call this method.\n",
    "\n",
    "3. `rollback()`\n",
    "    rolls back any changes to the database since the last call to commit().\n",
    "\n",
    "4. `close()`\n",
    "    closes the database connection. Note that this does not automatically call commit(). If you just close your database connection without calling commit() first, your changes will be lost!\n",
    "\n",
    "in our example the data will be stored in a local file called `example.db`:\n"
   ]
  },
  {
   "cell_type": "code",
   "execution_count": 23,
   "metadata": {},
   "outputs": [],
   "source": [
    "import sqlite3\n",
    "conn = sqlite3.connect('example.db')"
   ]
  },
  {
   "cell_type": "markdown",
   "metadata": {},
   "source": [
    "> You can also supply the special name `:memory:` to create a database in RAM.\n",
    "\n",
    "Once you have a Connection, you can create a `Cursor` object and call its `execute()` method to perform SQL commands:"
   ]
  },
  {
   "cell_type": "code",
   "execution_count": 24,
   "metadata": {},
   "outputs": [],
   "source": [
    "c = conn.cursor()\n",
    "\n",
    "# Create table called stocks\n",
    "c.execute('''\n",
    "    CREATE TABLE stocks (\n",
    "        date text, \n",
    "        trans text, \n",
    "        symbol text, \n",
    "        qty real, \n",
    "        price real\n",
    "        )\n",
    "    ''')\n",
    "\n",
    "# Save (commit) the changes\n",
    "conn.commit()"
   ]
  },
  {
   "cell_type": "code",
   "execution_count": 25,
   "metadata": {},
   "outputs": [],
   "source": [
    "# We can also close the connection if we are done with it.\n",
    "# Just be sure any changes have been committed or they will be lost.\n",
    "conn.close()"
   ]
  },
  {
   "cell_type": "markdown",
   "metadata": {},
   "source": [
    "since we don't want to forget closing the connection, here's a nice utility function\n",
    "that opens a connection and returns a handy cursor object"
   ]
  },
  {
   "cell_type": "code",
   "execution_count": 4,
   "metadata": {},
   "outputs": [],
   "source": [
    "from contextlib import contextmanager\n",
    "\n",
    "@contextmanager\n",
    "def sqlite3_connect(database, *args, **kwargs):\n",
    "    conn = sqlite3.connect(database, *args, **kwargs)\n",
    "    try:\n",
    "        cursor = conn.cursor()\n",
    "        yield (conn, cursor)\n",
    "    finally:\n",
    "        conn.close()\n",
    "    "
   ]
  },
  {
   "cell_type": "markdown",
   "metadata": {},
   "source": [
    "and here's how `sqlite3_connect()` can be used: "
   ]
  },
  {
   "cell_type": "code",
   "execution_count": 5,
   "metadata": {},
   "outputs": [],
   "source": [
    "with sqlite3_connect('example.db') as [conn, c]:\n",
    "\n",
    "    # Insert a row of data\n",
    "    c.execute(\"INSERT INTO stocks VALUES ('2008-01-05','BUY','AAPL',120,37.14)\")\n",
    "\n",
    "    # Save (commit) the changes\n",
    "    conn.commit()\n",
    "    \n",
    "# closing is done for us"
   ]
  },
  {
   "cell_type": "markdown",
   "metadata": {},
   "source": [
    "Usually your SQL operations will need to use values from Python variables like people's names, and fields from forms.\n",
    "\n",
    "DO NOT assemble your SQL using Python’s string operations because doing so is insecure; it makes your program vulnerable to an SQL injection attack \n",
    "\n",
    "![XKCD](https://imgs.xkcd.com/comics/exploits_of_a_mom.png)\n",
    "\n",
    "Instead, use the API’s parameter substitution - Put ? as a placeholder wherever you want to use a value, and then provide a tuple of values as the second argument to the cursor’s execute() method."
   ]
  },
  {
   "cell_type": "code",
   "execution_count": 28,
   "metadata": {},
   "outputs": [
    {
     "name": "stdout",
     "output_type": "stream",
     "text": [
      "None\n"
     ]
    }
   ],
   "source": [
    "with sqlite3_connect('example.db') as [conn, c]:\n",
    "\n",
    "    # DO NOT use str.format or f-strings or any other way to embed your variables into strings\n",
    "\n",
    "    # INSTEAD, use the sanitized substitution capability of the execute() function\n",
    "    t = ('RHAT',)\n",
    "    c.execute('SELECT * FROM stocks WHERE symbol=?', t)\n",
    "    print(c.fetchone())\n",
    "\n",
    "    # Larger example that inserts many records at a time\n",
    "    purchases = [('2006-03-28', 'BUY', 'IBM', 1000, 45.00),\n",
    "                 ('2006-04-05', 'BUY', 'MSFT', 1000, 72.00),\n",
    "                 ('2006-04-06', 'SELL', 'IBM', 500, 53.00),\n",
    "                ]\n",
    "    c.executemany('INSERT INTO stocks VALUES (?,?,?,?,?)', purchases)\n",
    "    \n",
    "    conn.commit()"
   ]
  },
  {
   "cell_type": "markdown",
   "metadata": {},
   "source": [
    "To retrieve data after executing a SELECT statement, you can treat the cursor as an iterator:"
   ]
  },
  {
   "cell_type": "code",
   "execution_count": 29,
   "metadata": {},
   "outputs": [
    {
     "name": "stdout",
     "output_type": "stream",
     "text": [
      "(('date', None, None, None, None, None, None), ('trans', None, None, None, None, None, None), ('symbol', None, None, None, None, None, None), ('qty', None, None, None, None, None, None), ('price', None, None, None, None, None, None))\n",
      "('2006-03-28', 'BUY', 'IBM', 1000.0, 45.0)\n",
      "(('date', None, None, None, None, None, None), ('trans', None, None, None, None, None, None), ('symbol', None, None, None, None, None, None), ('qty', None, None, None, None, None, None), ('price', None, None, None, None, None, None))\n",
      "('2006-04-06', 'SELL', 'IBM', 500.0, 53.0)\n",
      "(('date', None, None, None, None, None, None), ('trans', None, None, None, None, None, None), ('symbol', None, None, None, None, None, None), ('qty', None, None, None, None, None, None), ('price', None, None, None, None, None, None))\n",
      "('2006-04-05', 'BUY', 'MSFT', 1000.0, 72.0)\n"
     ]
    }
   ],
   "source": [
    "with sqlite3_connect('example.db') as [conn, c]:\n",
    "    for row in c.execute('SELECT * FROM stocks ORDER BY price'):\n",
    "        print(row)"
   ]
  },
  {
   "cell_type": "markdown",
   "metadata": {},
   "source": [
    "> you can also call the cursor’s `fetchone()` method to retrieve a single matching row, or call `fetchall()` to get a list of the matching rows."
   ]
  },
  {
   "cell_type": "markdown",
   "metadata": {},
   "source": [
    "## Table metadata\n",
    "\n",
    "We can access all the tables, their fields and their types using a simple query"
   ]
  },
  {
   "cell_type": "code",
   "execution_count": 17,
   "metadata": {},
   "outputs": [
    {
     "name": "stdout",
     "output_type": "stream",
     "text": [
      "stocks\n",
      "CREATE TABLE stocks (\n",
      "        date text, \n",
      "        trans text, \n",
      "        symbol text, \n",
      "        qty real, \n",
      "        price real\n",
      "        )\n",
      "test\n",
      "CREATE TABLE test(\n",
      "            p\n",
      "            )\n"
     ]
    }
   ],
   "source": [
    "with sqlite3_connect('example.db') as [conn, c]:\n",
    "    rs = c.execute(\n",
    "    \"\"\"\n",
    "    SELECT name, sql FROM sqlite_master\n",
    "    WHERE type='table'\n",
    "    ORDER BY name;\n",
    "    \"\"\")\n",
    "    \n",
    "    for name, sql, *args in rs:\n",
    "        print(name)\n",
    "        print(sql)"
   ]
  },
  {
   "cell_type": "markdown",
   "metadata": {},
   "source": [
    "##  SQLite and Python types\n",
    "SQLite natively supports the following types: `NULL`, `INTEGER`, `REAL`, `TEXT`, `BLOB`.\n",
    "\n",
    "The following Python types can thus be sent to SQLite without any problem:\n",
    "\n",
    "| Python type | SQLite type |\n",
    "|--|--|\n",
    "| None | NULL |\n",
    "| int | INTEGER |\n",
    "| float | REAL |\n",
    "| str | TEXT |\n",
    "| bytes | BLOB |\n",
    "\n",
    "SQLite supports only a limited set of types natively. To use other Python types with SQLite, you must adapt them to one of the sqlite3 module’s supported types for SQLite: one of `NoneType`, `int`, `float`, `str`, `bytes`.\n"
   ]
  },
  {
   "cell_type": "markdown",
   "metadata": {},
   "source": [
    "## Custom types\n",
    "\n",
    "there are two ways to read/write objects from a database:\n",
    "1. encoding the object into a text/blob column using some format (often JSON)\n",
    "2. converting objects into tables rows (respecting foreign keys as potential links to other objects)\n",
    "\n",
    "with a DB-API based SQL interface like sqlite3, both of these methods can contain a lot of boiler plate code and so we will leave them out of thid tutorial"
   ]
  },
  {
   "cell_type": "markdown",
   "metadata": {},
   "source": [
    "# pyodbc\n",
    "> pip install pyodbc\n",
    "\n",
    "[pyodbc](https://github.com/mkleehammer/pyodbc/wiki) is a python-ODBC bridge library that also supports the DB-API 2.0 specification. and can connect to a vast number of databases, including MS SQL Server, MySQL, PostgreSQL, Oracel, Google Big Data, SQLite, among others.\n",
    "\n",
    "> supporting the DB-API 2.0 means that code that uses pyodbc can look almost identical to code using SQLite\n",
    "\n",
    "> Open Database Connectivity (ODBC) is the standard that allows using identical (or at least very similar) SQL statements for querying different Databases (DBMS). The designers of ODBC aimed to make it independent of database systems and operating systems. \n",
    "\n",
    "> ODBC accomplishes DBMS independence by using an ODBC driver as a translation layer between the application and the DBMS. The driver often has to be installed on the client operating system"
   ]
  },
  {
   "cell_type": "markdown",
   "metadata": {},
   "source": [
    "## Example connections\n",
    "\n",
    "to connect to a DB, your often need to know the server/IP it is running on,\n",
    "the name of the datanase, and username/password to access the databse"
   ]
  },
  {
   "cell_type": "code",
   "execution_count": 40,
   "metadata": {},
   "outputs": [],
   "source": [
    "import pyodbc\n",
    "\n",
    "server = \"your_server\"\n",
    "db = \"your_db\"\n",
    "user = \"your_user\"\n",
    "password = \"your_password\""
   ]
  },
  {
   "cell_type": "markdown",
   "metadata": {},
   "source": [
    "### MS SQL Server"
   ]
  },
  {
   "cell_type": "code",
   "execution_count": 35,
   "metadata": {},
   "outputs": [
    {
     "name": "stdout",
     "output_type": "stream",
     "text": [
      "DRIVER={ODBC Driver 17 for SQL Server};SERVER=your_server;DATABASE=your_db;UID=your_user;PWD=your_password\n"
     ]
    }
   ],
   "source": [
    "connection_str = \\\n",
    "    'DRIVER={ODBC Driver 17 for SQL Server};' + \\\n",
    "    f'SERVER={server};'\\\n",
    "    f'DATABASE={db};'\\\n",
    "    f'UID={user};' \\\n",
    "    f'PWD={password}'\n",
    "print(connection_str)\n",
    "\n",
    "# # Connect to MS SQL Server\n",
    "# conn = pyodbc.connect(connection_str)\n"
   ]
  },
  {
   "cell_type": "markdown",
   "metadata": {},
   "source": [
    "### MySQL"
   ]
  },
  {
   "cell_type": "code",
   "execution_count": 36,
   "metadata": {},
   "outputs": [
    {
     "name": "stdout",
     "output_type": "stream",
     "text": [
      "DRIVER={MySQL ODBC 3.51 Driver};SERVER=your_server;DATABASE=your_db;UID=your_user;PASSWORD=your_password;\n"
     ]
    }
   ],
   "source": [
    "connection_str = \\\n",
    "    \"DRIVER={MySQL ODBC 3.51 Driver};\" \\\n",
    "    f\"SERVER={server};\" \\\n",
    "    f\"DATABASE={db};\"\\\n",
    "    f\"UID={user};\"\\\n",
    "    f\"PASSWORD={password};\"\n",
    "print(connection_str)\n",
    "\n",
    "# # Connect to MySQL\n",
    "# conn = pyodbc.connect(connection_str) \n"
   ]
  },
  {
   "cell_type": "markdown",
   "metadata": {},
   "source": [
    "## SQLite\n",
    "\n",
    "> We don't to connect to SQLite via ODBC, because python can use these databases directly. <br>\n",
    "> however, if we want to show this as a demo, we need to install the SQLite ODBC driver\n",
    "\n",
    "> For Windows, you can get the SQLite ODBC driver [here](http://www.ch-werner.de/sqliteodbc/). Download \"sqliteodbc.exe\" if you are using 32-bit Python, or \"sqliteodbc_w64.exe\" if you are using 64-bit Python."
   ]
  },
  {
   "cell_type": "code",
   "execution_count": 39,
   "metadata": {},
   "outputs": [
    {
     "name": "stdout",
     "output_type": "stream",
     "text": [
      "Driver=SQLite3 ODBC Driver;Database=example.db\n",
      "('2006-03-28', 'BUY', 'IBM', 1000.0, 45.0)\n",
      "('2006-04-06', 'SELL', 'IBM', 500.0, 53.0)\n",
      "('2006-04-05', 'BUY', 'MSFT', 1000.0, 72.0)\n"
     ]
    }
   ],
   "source": [
    "db=\"example.db\"\n",
    "\n",
    "connection_str = \\\n",
    "    \"Driver=SQLite3 ODBC Driver;\" \\\n",
    "    f\"Database={db}\"\n",
    "    \n",
    "print(connection_str)\n",
    "conn = pyodbc.connect(connection_str)\n",
    "c = conn.cursor()\n",
    "\n",
    "for row in c.execute('SELECT * FROM stocks ORDER BY price'):\n",
    "    print(row)"
   ]
  }
 ],
 "metadata": {
  "kernelspec": {
   "display_name": "Python 3",
   "language": "python",
   "name": "python3"
  },
  "language_info": {
   "codemirror_mode": {
    "name": "ipython",
    "version": 3
   },
   "file_extension": ".py",
   "mimetype": "text/x-python",
   "name": "python",
   "nbconvert_exporter": "python",
   "pygments_lexer": "ipython3",
   "version": "3.7.4"
  }
 },
 "nbformat": 4,
 "nbformat_minor": 2
}
