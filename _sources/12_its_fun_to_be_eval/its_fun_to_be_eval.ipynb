{
 "cells": [
  {
   "cell_type": "markdown",
   "metadata": {},
   "source": [
    "\n",
    "<a href=\"https://colab.research.google.com/github/aviadr1/learn-advanced-python/blob/master/content/12_its_fun_to_be_eval/its_fun_to_be_eval.ipynb\" target=\"_blank\">\n",
    "<img src=\"https://colab.research.google.com/assets/colab-badge.svg\" \n",
    "     title=\"Open this file in Google Colab\" alt=\"Colab\"/>\n",
    "</a>\n"
   ]
  },
  {
   "cell_type": "markdown",
   "metadata": {},
   "source": [
    "# Its fun to be eval\n",
    "\n",
    "it is said about python that\n",
    "> python gives you enough rope to shoot yourself in both feet\n",
    "\n",
    "one of the awesomest tools (but also a HUGE potential security issue) is the ability to dynamically run any code.\n",
    "we can do this using the _unholy trinity_:\n",
    "1. `eval`\n",
    "2. `exec`\n",
    "3. `compile` \n",
    "\n",
    "we will take a look at some fun things we can do with `eval`"
   ]
  },
  {
   "cell_type": "markdown",
   "metadata": {},
   "source": [
    "## eval\n",
    "> ```\n",
    "> eval(source, globals=None, locals=None, /)\n",
    "> ```\n",
    "\n",
    "the `eval` function (pronounced like EVIL) allows us to evaluate a string as a single __expression__\n",
    "\n",
    "An expression in Python is whatever you can have as the value in a variable assignment:\n",
    "```\n",
    "a_variable = (anything you can put within these parentheses is an expression)\n",
    "```\n",
    "\n",
    "eval __returns__ the value of the given expression\n",
    "\n"
   ]
  },
  {
   "cell_type": "code",
   "execution_count": 15,
   "metadata": {},
   "outputs": [
    {
     "name": "stdout",
     "output_type": "stream",
     "text": [
      "123\n"
     ]
    }
   ],
   "source": [
    "a=1\n",
    "b=2\n",
    "c=3\n",
    "x=10\n",
    "result = eval(\"a*x**2 + b*x + c\")\n",
    "print(result)"
   ]
  },
  {
   "cell_type": "markdown",
   "metadata": {},
   "source": [
    "### Example: parse JSON using eval\n",
    "a JSON object is basically a javascript expression.\n",
    "as it happens, javascript/JSON syntax is very similar (but not identical [1] ) to python syntax. <br>\n",
    "many JSON strings can easily be parsed using `eval`\n",
    "\n",
    "[1]: https://docs.python.org/3/library/json.html#encoders-and-decoders"
   ]
  },
  {
   "cell_type": "code",
   "execution_count": 21,
   "metadata": {},
   "outputs": [
    {
     "name": "stdout",
     "output_type": "stream",
     "text": [
      "<class 'dict'> dict_keys(['firstName', 'lastName', 'hobbies', 'age', 'children'])\n"
     ]
    }
   ],
   "source": [
    "json_str = \"\"\"\n",
    "{\n",
    "    \"firstName\": \"Jane\",\n",
    "    \"lastName\": \"Doe\",\n",
    "    \"hobbies\": [\"running\", \"sky diving\", \"singing\"],\n",
    "    \"age\": 35,\n",
    "    \"children\": [\n",
    "        {\n",
    "            \"firstName\": \"Alice\",\n",
    "            \"age\": 6\n",
    "        },\n",
    "        {\n",
    "            \"firstName\": \"Bob\",\n",
    "            \"age\": 8\n",
    "        }\n",
    "    ]\n",
    "}\n",
    "\"\"\"\n",
    "\n",
    "json_obj = eval(json_str)\n",
    "print(type(json_obj), json_obj.keys())"
   ]
  },
  {
   "cell_type": "markdown",
   "metadata": {},
   "source": [
    "## exec\n",
    "> ```\n",
    "> exec(source, globals=None, locals=None, /)\n",
    "> ```\n",
    "\n",
    "The `exec` function allows us to evaluate a string as a statement or series of statements\n",
    "\n",
    "two famous modules that use exec:\n",
    "\n",
    "1. namedtuples\n",
    "2. doctest\n",
    "\n",
    "Note: exec __ignores the return value__ from its code, and always returns `None`\n"
   ]
  },
  {
   "cell_type": "code",
   "execution_count": 24,
   "metadata": {},
   "outputs": [
    {
     "name": "stdout",
     "output_type": "stream",
     "text": [
      "10 + 20 = 30\n"
     ]
    }
   ],
   "source": [
    "code = \"\"\"\n",
    "x=10\n",
    "y=20\n",
    "z=x+y\n",
    "print(x, '+', y, '=', z)\n",
    "\"\"\"\n",
    "\n",
    "exec(code)\n"
   ]
  },
  {
   "cell_type": "markdown",
   "metadata": {},
   "source": [
    "### controlling the environment\n",
    "\n",
    "Both `exec` and `eval` accept 2 additional positional arguments - `globals` and `locals` - \n",
    "which are the global and local variable scopes that the code sees. \n",
    "These default to the globals() and locals() within the scope that called exec or eval, \n",
    "but any dictionary can be used for globals and any mapping for locals (including dict of course). \n",
    "These can be used not only to restrict/modify the variables that the code sees, but are often also used \n",
    "for capturing the variables that the executed code creates\n",
    "\n",
    "> NOTE: exec and eval add the built-ins module as `__builtins__` to the globals automatically if it is missing."
   ]
  },
  {
   "cell_type": "markdown",
   "metadata": {},
   "source": [
    "### Example: rule engine\n",
    "\n",
    "lets imagine we have some rule-based product, such as a firewall.\n",
    "\n",
    "furthermore:\n",
    "1. we would like to be able to add, modify and delete rules of this product, by changing the configuration of the product, but without changing the source code of the product itself\n",
    "2. we would like to be able to write very complex rules, that may needs complicated logic or even loops\n",
    "\n",
    "to solve for such requirements, we can ask users to write these rules as strings in configuration files, expressed in python langauge. <br>\n",
    "and to load and `exec`-ute these strings at runtime from the host product"
   ]
  },
  {
   "cell_type": "code",
   "execution_count": 34,
   "metadata": {},
   "outputs": [
    {
     "name": "stdout",
     "output_type": "stream",
     "text": [
      "50.0\n"
     ]
    }
   ],
   "source": [
    "# rule we read from file\n",
    "rule = \"\"\"\n",
    "if x>100:\n",
    "    result = 100\n",
    "elif y<0:\n",
    "    result = 0\n",
    "else:\n",
    "    result = (x+y) / 2 \n",
    "\"\"\"\n",
    "\n",
    "# create an environment for our rule to run in\n",
    "globals_ = {}\n",
    "locals_ = {'x' : 75, 'y': 25}\n",
    "\n",
    "# run the rule\n",
    "exec(rule, globals_, locals_)\n",
    "\n",
    "# get the result\n",
    "result = locals_['result']\n",
    "print(result)"
   ]
  },
  {
   "cell_type": "markdown",
   "metadata": {},
   "source": [
    "In the example above we used a __convention__ that the rule should output the result of its calculation into the `result` variable. this is a very simple and effective method of extracting the results from an exec.\n",
    "\n",
    "> it is possible (but requires much more work) to create an rule processing engine that does not require such conventions. one way is to look more deeply into the code we're executing, such as by using python's [ast](https://docs.python.org/3.7/library/ast.html) abstract syntax trees module"
   ]
  },
  {
   "cell_type": "markdown",
   "metadata": {},
   "source": [
    "## why is exec / eval a security risk?\n",
    "\n",
    "Consider a situation, where your server runs rules written in text files, and an attacker gets access to modify these text files The attacker could write a rule that imports the `os` module and then use it to execute arbitrary code on the operating system.\n",
    "\n",
    "If you allow users to input a value using eval(input()), the user may issue commands to change file or even delete all the files using command os.system('rm -rf *').\n",
    "\n",
    "If you are using eval(input()) in your code, it's a good idea to check which variables and methods the user can use. You can see which variables and methods are available using dir() method."
   ]
  },
  {
   "cell_type": "code",
   "execution_count": 5,
   "metadata": {},
   "outputs": [],
   "source": [
    "security_risk_code = \"\"\"\n",
    "import os\n",
    "os.system(\"echo gotcha, I have access to your OS I can delete all your files >> gotcha.txt\")\n",
    "os.system('notepad gotcha.txt')\n",
    "\"\"\"\n",
    "\n",
    "# exec code - you just lost control\n",
    "exec(security_risk_code)"
   ]
  },
  {
   "cell_type": "markdown",
   "metadata": {},
   "source": [
    "We can use the same attack even with the much simpler `eval` <br>\n",
    "we just need the expression to itself run an `exec` code: "
   ]
  },
  {
   "cell_type": "code",
   "execution_count": 6,
   "metadata": {},
   "outputs": [],
   "source": [
    "security_risk_expression = \"\"\"\\\n",
    "exec(\\\"\\\"\\\"import os\n",
    "os.system(\"echo gotcha, I have access to your OS I can delete all your files >> gotcha.txt\")\n",
    "os.system('notepad gotcha.txt')\n",
    "\\\"\\\"\\\")\n",
    "\"\"\"\n",
    "\n",
    "eval(security_risk_expression)"
   ]
  },
  {
   "cell_type": "markdown",
   "metadata": {},
   "source": [
    "to solve this particular vulnerability, you should explicitly add an empty `__builtins__` key to the globals dictionary passed to `exec` or `eval`\n",
    "\n",
    "> NOTE: just because we solved THIS security issue, doesn't mean that there can't be more security issues, especially as you become more leniant with what the executed code can or can't do. the only way to be 100% sure we're not exposed to tricky security issues with eval/exec is to _not use them_"
   ]
  },
  {
   "cell_type": "code",
   "execution_count": 12,
   "metadata": {},
   "outputs": [
    {
     "name": "stdout",
     "output_type": "stream",
     "text": [
      "prevented security issue: __import__ not found\n",
      "prevented security issue: name 'exec' is not defined\n"
     ]
    }
   ],
   "source": [
    "try:\n",
    "    exec(security_risk_code, {'__builtins__': {}})\n",
    "except Exception as ex:\n",
    "    print('prevented security issue:', ex)\n",
    "    \n",
    "try:\n",
    "    eval(security_risk_expression, {'__builtins__': {}})\n",
    "except Exception as ex:\n",
    "    print('prevented security issue:', ex)"
   ]
  },
  {
   "cell_type": "markdown",
   "metadata": {},
   "source": [
    "## Further reading\n",
    "\n",
    "1. Difference between eval, exec and compile [1]\n",
    "2. How to get results out of eval [2]\n",
    "3. How to safely use eval in python [3]\n",
    "4. Use of exec in python [4]\n",
    "\n",
    "[1]: https://stackoverflow.com/questions/2220699/whats-the-difference-between-eval-exec-and-compile\n",
    "[2]: https://stackoverflow.com/questions/37237034/how-to-get-results-out-of-a-python-exec-eval-call\n",
    "[3]: https://stackoverflow.com/questions/9672791/how-to-safely-use-exec-in-python\n",
    "[4]: https://stackoverflow.com/questions/4158117/use-of-exec-and-eval-in-python\n",
    "\n"
   ]
  },
  {
   "cell_type": "code",
   "execution_count": null,
   "metadata": {},
   "outputs": [],
   "source": []
  }
 ],
 "metadata": {
  "kernelspec": {
   "display_name": "Python 3",
   "language": "python",
   "name": "python3"
  },
  "language_info": {
   "codemirror_mode": {
    "name": "ipython",
    "version": 3
   },
   "file_extension": ".py",
   "mimetype": "text/x-python",
   "name": "python",
   "nbconvert_exporter": "python",
   "pygments_lexer": "ipython3",
   "version": "3.7.3"
  }
 },
 "nbformat": 4,
 "nbformat_minor": 2
}
