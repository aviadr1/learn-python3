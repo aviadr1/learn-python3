{
  "nbformat": 4,
  "nbformat_minor": 0,
  "metadata": {
    "kernelspec": {
      "display_name": "Python 3",
      "language": "python",
      "name": "python3"
    },
    "language_info": {
      "codemirror_mode": {
        "name": "ipython",
        "version": 3
      },
      "file_extension": ".py",
      "mimetype": "text/x-python",
      "name": "python",
      "nbconvert_exporter": "python",
      "pygments_lexer": "ipython3",
      "version": "3.7.3"
    },
    "colab": {
      "name": "questions.ipynb",
      "provenance": []
    }
  },
  "cells": [
    {
      "cell_type": "markdown",
      "metadata": {
        "id": "Rj2Ycby3W9om",
        "colab_type": "text"
      },
      "source": [
        "\n",
        "<a href=\"https://colab.research.google.com/github/aviadr1/learn-advanced-python/blob/master/content/14_pandas/edm_us_adult_census_income/questions.ipynb\" target=\"_blank\">\n",
        "<img src=\"https://colab.research.google.com/assets/colab-badge.svg\" \n",
        "     title=\"Open this file in Google Colab\" alt=\"Colab\"/>\n",
        "</a>\n"
      ]
    },
    {
      "cell_type": "markdown",
      "metadata": {
        "id": "YsMAnwdxYFJq",
        "colab_type": "text"
      },
      "source": [
        "# get the data\n",
        "run the following two cells below to get the data for this exercise,\n",
        "then followup by reading the questions and writing your own code to answer them."
      ]
    },
    {
      "cell_type": "code",
      "metadata": {
        "id": "LhWeSUM8XMMq",
        "colab_type": "code",
        "colab": {}
      },
      "source": [
        "!pip install requests"
      ],
      "execution_count": 0,
      "outputs": []
    },
    {
      "cell_type": "code",
      "metadata": {
        "id": "RUsHrWEqW-6c",
        "colab_type": "code",
        "colab": {}
      },
      "source": [
        "import requests\n",
        "\n",
        "url = \"http://mlr.cs.umass.edu/ml/machine-learning-databases/adult/adult.data\"\n",
        "request = requests.get(url)\n",
        "request.raise_for_status()\n",
        "with open('adult.csv', 'w') as f:\n",
        "    f.write(request.text)\n",
        "\n",
        "### now the data is available in the file adult.csv. \n",
        "### read the questions below\n",
        "# import pandas as pd\n",
        "# pd.read_csv('adult.csv')    "
      ],
      "execution_count": 0,
      "outputs": []
    },
    {
      "cell_type": "markdown",
      "metadata": {
        "id": "i2sOaeqiW9op",
        "colab_type": "text"
      },
      "source": [
        "# income for adults from the 1994 census\n",
        "This dataset was extracted  done by Barry Becker from the 1994 Census database. \n",
        "source: http://mlr.cs.umass.edu/ml/datasets/Adult\n",
        "\n",
        "Listing of attributes:\n",
        "\n",
        "* age: continuous.\n",
        "* workclass: Private, Self-emp-not-inc, Self-emp-inc, Federal-gov, Local-gov, State-gov, Without-pay, Never-worked.\n",
        "* fnlwgt: continuous.\n",
        "* education: Bachelors, Some-college, 11th, HS-grad, Prof-school, Assoc-acdm, Assoc-voc, 9th, 7th-8th, 12th, Masters, 1st-4th, 10th, Doctorate, 5th-6th, Preschool.\n",
        "* education-num: continuous.\n",
        "* marital-status: Married-civ-spouse, Divorced, Never-married, Separated, Widowed, Married-spouse-absent, Married-AF-spouse.\n",
        "* occupation: Tech-support, Craft-repair, Other-service, Sales, Exec-managerial, Prof-specialty, Handlers-cleaners, Machine-op-inspct, Adm-clerical, Farming-fishing, Transport-moving, Priv-house-serv, Protective-serv, Armed-Forces.\n",
        "* relationship: Wife, Own-child, Husband, Not-in-family, Other-relative, Unmarried.\n",
        "* race: White, Asian-Pac-Islander, Amer-Indian-Eskimo, Other, Black.\n",
        "* sex: Female, Male.\n",
        "* capital-gain: continuous.\n",
        "* capital-loss: continuous.\n",
        "* hours-per-week: continuous.\n",
        "* native-country: United-States, Cambodia, England, Puerto-Rico, Canada, Germany, Outlying-US(Guam-USVI-etc), India, Japan, Greece, South, China, Cuba, Iran, Honduras, Philippines, Italy, Poland, Jamaica, Vietnam, Mexico, Portugal, Ireland, France, Dominican-Republic, Laos, Ecuador, Taiwan, Haiti, Columbia, Hungary, Guatemala, Nicaragua, Scotland, Thailand, Yugoslavia, El-Salvador, Trinadad&Tobago, Peru, Hong, Holand-Netherlands.\n",
        "* income: >50K, <=50K.\n"
      ]
    },
    {
      "cell_type": "markdown",
      "metadata": {
        "id": "2P4hHgdtW9oq",
        "colab_type": "text"
      },
      "source": [
        "## 1. load the data\n",
        "1. extract the column names from the description and read the csv while supplying the columns names\n",
        "   - rename columns with a hyphen `-` to use underscores `_` insead. example: `capital-gain --> capital_gain`\n",
        "   - look at the head()\n",
        "2. look at info, dtype, check for nan values\n",
        "3. what are the value counts of the categorical variables: workclass, education, marital_status, occupation, relationship, race, sex, native_country, income?\n",
        "   - do you notice the extra space ' ' at the beginning of each value?\n",
        "   - remove the extra space\n",
        "4. turn 'sex' and 'income' into 0/1 fields\n",
        "   - replace the categorical 'sex' column with a numerical 'female' column with value 1 for females and 0 for males\n",
        "   - replace the categorical 'income' column with a numerical 'over50k' column with value 1 for '>50k' and 0 for '<50K'\n",
        "5. use `.describe()` function to get descriptive statistics for most columns\n",
        "   - make sure that 'sex' and 'over50k' are now numerical fields"
      ]
    },
    {
      "cell_type": "markdown",
      "metadata": {
        "id": "nVpu3sCkW9or",
        "colab_type": "text"
      },
      "source": [
        "## 2. explore capital gains / losses\n",
        "### capital_gain\n",
        "1. plot the histogram for capital gains\n",
        "   - verbally describe what you see\n",
        "2. for people who have `capital_gain > 0` \n",
        "   - plot the histogram for capital gains\n",
        "3. how many people have capital gains over 25000?\n",
        "   - use `value_counts()` to look at all the values of capital_gain over 25000. \n",
        "   - what's weird about the data?\n",
        "4. could the people who had capital_gain==25124 be related?\n",
        "5. does capital_gain over 50k mean income is over 50k?\n",
        "\n",
        "### capital_loss\n",
        "1. plot the histogram of capital_loss\n",
        "2. for people who have `capital_loss > 0` \n",
        "   - plot the histogram for capital_loss\n",
        "3. how many people had both `capital_gain>0` and `capital_loss>0` ?\n",
        "4. who can afford to lose money on capital investments?\n",
        "   - what percent of people overall had over 50K income? \n",
        "   - what percent of people with 0 capital_loss? with capital_loss>0?\n",
        "\n",
        "### combining and binning\n",
        "1. create a new `capital_change` column that equals `capital_gain - capital_loss`\n",
        "2. use the `qcut` function to quantize/bin/cut `capital_change` into a new columns called `capital_change_bin` with 10 bins of equal proportions.\n",
        "   1. do not bin `capital_change==0` values as there are too many of them\n",
        "   2. to simplify using this column later, use the left side of the interval created as the label\n",
        "   3. label rows with `capital_change==0` as having `capital_change_bin=0`\n",
        "   4. make sure you have no null values for `capital_change_bin`\n",
        "3. how many people have a non-zero capital_change? \n",
        "   - lets call this 'has_capital_change'\n",
        "   - plot 'has_capital_change' over 'over50k'\n",
        "   - what do you learn from this diagram\n",
        "4. plot `capital_change` by `over50k`\n",
        "   - what do you learn from this diagram\n",
        "4. plot `over50k` by `capital_change_bin`\n",
        "   - what can you learn from this diagram?\n",
        "   "
      ]
    },
    {
      "cell_type": "markdown",
      "metadata": {
        "id": "ubfcz6GUW9ot",
        "colab_type": "text"
      },
      "source": [
        "## education\n",
        "1. what is the mean education_num by education? \n",
        "  - sort the education categories by the mean_values. does it make sense\n",
        "  - check out other descriptive statistics to see if anything falls out of place\n",
        "  - turn education into a categorical ordered type\n",
        "  - plot education VS education_num\n",
        "  - what have we learned?\n",
        "1. plot the distribution for `education`\n",
        "2. plot over50k by education\n",
        "   - what can we learn?\n",
        "3. plot hours_per_week by education\n",
        "   1. what can we learn from this plot?\n",
        "   2. now use the hue=\"over50k\" of seaborn to see hours_per_week by education/over50k.\n",
        "      - learn anything else?\n",
        "4. plot education_num by occupation\n",
        "  - sort by mean education_num\n",
        "4. plot education_num by workclass\n",
        "  - sort by mean education_num\n",
        "5. create a crosstab or a pivot_table of education VS occupation.\n",
        "   - normalize it by the education rows \n",
        "     (each row X shows the conditional probability of having occupation Y by education level X) \n",
        "   - create a heatmap that shows which occpupations are most likely for each education level\n",
        "   - verbally describe what you've learned\n",
        "6.  create a crosstab or a pivot_table of education VS workclass.\n",
        "   - normalize it by the education rows \n",
        "     (each row X shows the conditional probability of having workclass Y by education level X) \n",
        "   - create a heatmap that shows which workclass is most likely for each education level\n",
        "   - verbally describe what you've learned\n",
        "   - re-run this analysis without the private sector\n",
        "7. plot \"race\" vs \"education_num\n",
        "8. plot \"relationship\" vs \"education_num"
      ]
    },
    {
      "cell_type": "markdown",
      "metadata": {
        "id": "oqjlIaC6W9ou",
        "colab_type": "text"
      },
      "source": [
        "## occupation / workclass\n",
        "1. how many levels of occupation?\n",
        "2. how many levels of worklass?\n",
        "3. how many combinations? potential? actual?\n",
        "4. plot `over50k` by `occupation`\n",
        "   - sort by mean `over50k`\n",
        "   - compare this to `over50k` by `education`. which variable more strongly predicts income?\n",
        "   - compare this to `education_num` by `occupation`. are the highest paying jobs correlated with highest earning education?\n",
        "5. plot `over50k` by `workclass`\n",
        "6. look at combinations of occupation / workclass\n",
        "   1. what are the top combinations in terms of earning over50k (mean)? how many people in that category?\n",
        "   2. how many of these combinations have more than 100 people?\n",
        "   3. show a heatmap of the mean over50k of occupation-vs-worklass for combinations with more than 100 people. \n",
        "      center the heatmap at the populations mean over50k for increased effect.\n",
        "      what conclusions can you draw?\n",
        "7. create a numerical encoding for occupation / workclass pairs\n",
        "   - create a new column called \"occ_class\" that combines the string of the occupation and workclass\n",
        "   - use the library [category_encoders](http://contrib.scikit-learn.org/categorical-encoding/), here's an [intro](https://towardsdatascience.com/smarter-ways-to-encode-categorical-data-for-machine-learning-part-1-of-3-6dca2f71b159) how to do it\n",
        "   - use the weight of evidence encoder `ce.woe.WOEEncoder` here's an [article](https://towardsdatascience.com/all-about-categorical-variable-encoding-305f3361fd02#targetText=Weight%20of%20Evidence%20Encoding,-Weight%20of%20Evidence&targetText=Weight%20of%20evidence%20(WOE)%20is%20a%20measure%20of%20how%20much,P(Bads)%20%3D%201.) explaining it\n",
        "   - add the encoded occ_class as a new column called `occ_class_woe` to your dataframe\n",
        "      "
      ]
    },
    {
      "cell_type": "markdown",
      "metadata": {
        "id": "M4iJoZbqW9ow",
        "colab_type": "text"
      },
      "source": [
        "## correlations\n",
        "1. which features are most important, which correlate?\n",
        "    - compute the correction matrix of features with themselves\n",
        "2. draw a clustermap or heatmap of this correlation\n",
        "   - center the cluster at 0\n",
        "   - annotate the plot with the correlation values\n",
        "3. look at the strongest correlations and draw some conclusions.\n",
        "    "
      ]
    },
    {
      "cell_type": "markdown",
      "metadata": {
        "id": "ryvJarvTW9ox",
        "colab_type": "text"
      },
      "source": [
        "## TODO:\n",
        "1. look at `relationship` and `marriage_status`. how meaningful are they? should we encode them?\n",
        "2. look at `native_country`. how does immigration effect other variables? should we build further categories based on continent or on 1st/2nd/3rd world countries? should we add an `is_immigrant` boolean column?\n",
        "3. we've done the analysis treating each row of the data as a person, when **in fact** each row represents a large group of people, with the variable `fnlwgt` counting how many people are in the group. redo some of the analysis with weighted averages\n",
        "4. look further at age. should we cut this continous variable into age groups like 18-25, 25-40 etc ?\n",
        "   - combine age/relationship to see if relationship effects can be explained away by age\n",
        "4. `education_num` seems to be a label encoding of `education`. I think some degrees are not properly captured with that encoding, like `assoc-voc`. it would be interesting to to recode it with woe against `over50k` and see if anything changes. \n",
        "5. data quality questions: \n",
        "   - why are women under-represented in this data\n",
        "   - why are there no hispanic/latin category in race?\n",
        "6. compare to other interesting analysis:\n",
        "   - Predicting Earning Potential using the Adult Dataset https://rpubs.com/H_Zhu/235617\n",
        "   - related notebook on kaggle https://www.kaggle.com/uciml/adult-census-income\n",
        "   "
      ]
    },
    {
      "cell_type": "code",
      "metadata": {
        "id": "y_U5vQTFW9oy",
        "colab_type": "code",
        "colab": {}
      },
      "source": [
        ""
      ],
      "execution_count": 0,
      "outputs": []
    }
  ]
}