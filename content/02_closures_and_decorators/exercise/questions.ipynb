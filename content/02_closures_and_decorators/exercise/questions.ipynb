{
 "cells": [
  {
   "cell_type": "markdown",
   "metadata": {
    "colab_type": "text",
    "id": "_B58DjuUSVBE"
   },
   "source": [
    "\n",
    "<a href=\"https://colab.research.google.com/github/aviadr1/learn-advanced-python/blob/master/content/02_closures_and_decorators/exercise/questions.ipynb\" target=\"_blank\">\n",
    "<img src=\"https://colab.research.google.com/assets/colab-badge.svg\" \n",
    "     title=\"Open this file in Google Colab\" alt=\"Colab\"/>\n",
    "</a>\n"
   ]
  },
  {
   "cell_type": "markdown",
   "metadata": {
    "colab_type": "text",
    "id": "MgVU2oywSV8y"
   },
   "source": [
    "# bind1st - create a one parameter function from a two parameter function\n",
    "\n",
    "Imagine we have some function that takes two parameters, like `divide(x,y)` \n",
    "```python\n",
    "def divide(x,y):\n",
    "    return x/y\n",
    "```\n",
    "\n",
    "Write a function called `bind1st(func, value)` that can create a one parameter function from this two parameter function?\n",
    "it should work like this\n",
    "\n",
    "```python\n",
    "# take the divide function, and the value 100\n",
    "# and create a new function called divide_100_by(y) \n",
    "divide_100_by = bind1st(divide, 100) \n",
    "print(divide_100_by(2)) # prints 50\n",
    "print(divide_100_by(10)) # prints 10\n",
    "```"
   ]
  },
  {
   "cell_type": "code",
   "execution_count": 0,
   "metadata": {
    "colab": {},
    "colab_type": "code",
    "id": "Ag81KH4iS_1W"
   },
   "outputs": [],
   "source": []
  },
  {
   "cell_type": "code",
   "execution_count": 0,
   "metadata": {
    "colab": {},
    "colab_type": "code",
    "id": "Ya8baJKjSXrJ"
   },
   "outputs": [],
   "source": [
    "### useful: this tests your function bind1st\n",
    "def divide(a,b):\n",
    "    return a/b\n",
    "\n",
    "def multiply(x,y):\n",
    "    return x*y\n",
    "\n",
    "\n",
    "divide_100_by = bind1st(divide, 100) \n",
    "assert divide_100_by(2) == 50\n",
    "\n",
    "multiply_by_2 = bind1st(multiply, 2) \n",
    "assert multiply_by_2(50) == 100"
   ]
  },
  {
   "cell_type": "markdown",
   "metadata": {
    "colab_type": "text",
    "id": "LQE_WPzQUwZM"
   },
   "source": [
    "# bind - a general way to bind function parameters\n",
    "\n",
    "This question continues from the previous one, but this time, we want to bind more than one parameter.\n",
    "Write a function called `bind(func, *args, **kwargs)` that:\n",
    "- receives any function `func` that has any number of parameters\n",
    "- `*args` - a variable number of positional arguments\n",
    "- `**kwargs` - a variable number of keyword arguments\n",
    "and returns a new function with where `*args` and `**kwargs` have been bound.\n",
    "\n",
    "for instance:\n",
    "```python\n",
    "def connect_to_database(usr, pwd, srv, port, protocol):\n",
    "    print(\"connecting to db:\")\n",
    "    print(f\"user={usr}, password={pwd}, server={srv}, port={port}, protocol={protocol}\")\n",
    "\n",
    "http_connect = bind(connect_to_database, protocol=\"http\")\n",
    "```\n"
   ]
  },
  {
   "cell_type": "code",
   "execution_count": 0,
   "metadata": {
    "colab": {},
    "colab_type": "code",
    "id": "3nbUpronWqXP"
   },
   "outputs": [],
   "source": []
  },
  {
   "cell_type": "code",
   "execution_count": 15,
   "metadata": {
    "colab": {
     "base_uri": "https://localhost:8080/",
     "height": 86
    },
    "colab_type": "code",
    "id": "09tcLGy5W_Xc",
    "outputId": "4dd5f45c-bac1-41bc-a4c4-8e0104901ec9"
   },
   "outputs": [
    {
     "name": "stdout",
     "output_type": "stream",
     "text": [
      "connecting to db:\n",
      "user=jamesbond, password=007, server=mi, port=6, protocol=http\n",
      "connecting to db:\n",
      "user=jamesbond, password=007, server=mi, port=6, protocol=http\n"
     ]
    }
   ],
   "source": [
    "### useful: use this to test your `bind` function\n",
    "def connect_to_database(usr, pwd, srv, port, protocol):\n",
    "    print(\"connecting to db:\")\n",
    "    print(f\"user={usr}, password={pwd}, server={srv}, port={port}, protocol={protocol}\")\n",
    " \n",
    "http_connect = bind(connect_to_database, protocol=\"http\")\n",
    "# prints: user=jamesbond, password=007, server=mi, port=6, protocol=http\n",
    "http_connect(\"jamesbond\", \"007\", \"mi\", 6) \n",
    "\n",
    "jamesbond_connect_http = bind(http_connect, \"jamesbond\", \"007\") \n",
    "# prints: user=jamesbond, password=007, server=mi, port=6, protocol=http\n",
    "jamesbond_connect_http(\"mi\", 6)"
   ]
  },
  {
   "cell_type": "markdown",
   "metadata": {
    "colab_type": "text",
    "id": "qwN7WSxESVBG"
   },
   "source": [
    "# Observable decorator\n",
    "\n",
    "Consider the `Observable` class based on the \"observable\" pattern\n",
    "```\n",
    "class Observable:\n",
    "    def __init__(self):\n",
    "        self.handlers = []\n",
    "    \n",
    "    def register(self, callable_):\n",
    "        self.handlers.append(callable_)\n",
    "        \n",
    "    def notify(self, obj, event, *args, **kwargs):\n",
    "        for handler in self.handlers:\n",
    "            handler(obj, event, *args, **kwargs)\n",
    "            \n",
    "def start_observing(obj):\n",
    "    obj.observable_events = Observable()\n",
    "\n",
    "def observable(obj):\n",
    "    return obj.observable_events\n",
    "```\n",
    "\n",
    "Create two decorator functions \n",
    "```\n",
    "observable_class(klass)- decorates a class to become observable`\n",
    "observe(func) - decorates a method to become observable\n",
    "```\n",
    "\n",
    "such that given a simple class like the following:\n",
    "```\n",
    "class Test:\n",
    "    def test(self, message):\n",
    "        print('test', message)\n",
    "```\n",
    "\n",
    "you could decorate Test using the decorators:\n",
    "```\n",
    "@observable_class\n",
    "class Test:\n",
    "    @observe\n",
    "    def test(self, message):\n",
    "        print('test', message)\n",
    "```\n",
    "\n",
    "and then be able to get notifications whenever the `Test.test()` function is used:\n",
    "\n",
    "```\n",
    "def simple_handler(obj, event, *args, **kwargs):\n",
    "    print('notified:', obj, event, *args, **kwargs)\n",
    "    \n",
    "t = Test()\n",
    "t.observable().register(simple_handler)\n",
    "t.test('hello')\n",
    "```\n",
    "\n",
    "expected output:\n",
    "```\n",
    "notified: <__main__.Test object at 0x000002E99F51A7F0> test hello\n",
    "test hello\n",
    "```"
   ]
  },
  {
   "cell_type": "code",
   "execution_count": 0,
   "metadata": {
    "colab": {},
    "colab_type": "code",
    "id": "UY2imNu-SVBH"
   },
   "outputs": [],
   "source": [
    "### useful starting point\n",
    "class Observable:\n",
    "    def __init__(self):\n",
    "        self.handlers = []\n",
    "    \n",
    "    def register(self, callable_):\n",
    "        self.handlers.append(callable_)\n",
    "        \n",
    "    def notify(self, obj, event, *args, **kwargs):\n",
    "        for handler in self.handlers:\n",
    "            handler(obj, event, *args, **kwargs)\n",
    "            \n",
    "def start_observing(obj):\n",
    "    obj.observable_events = Observable()\n",
    "\n",
    "def observable(obj):\n",
    "    return obj.observable_events\n",
    "    "
   ]
  },
  {
   "cell_type": "code",
   "execution_count": 0,
   "metadata": {
    "colab": {},
    "colab_type": "code",
    "id": "HxObJAveSVBK",
    "outputId": "b796fc49-1d82-4c75-c7d0-a0f6f9ea7e0f"
   },
   "outputs": [
    {
     "name": "stdout",
     "output_type": "stream",
     "text": [
      "notified: <__main__.Test object at 0x000001957A3ED2E8> test hello\n",
      "test hello\n"
     ]
    }
   ],
   "source": []
  },
  {
   "cell_type": "code",
   "execution_count": 0,
   "metadata": {
    "colab": {},
    "colab_type": "code",
    "id": "UNgGr1OaSVBO"
   },
   "outputs": [],
   "source": []
  }
 ],
 "metadata": {
  "colab": {
   "name": "questions.ipynb",
   "provenance": []
  },
  "kernelspec": {
   "display_name": "Python 3",
   "language": "python",
   "name": "python3"
  },
  "language_info": {
   "codemirror_mode": {
    "name": "ipython",
    "version": 3
   },
   "file_extension": ".py",
   "mimetype": "text/x-python",
   "name": "python",
   "nbconvert_exporter": "python",
   "pygments_lexer": "ipython3",
   "version": "3.7.3"
  }
 },
 "nbformat": 4,
 "nbformat_minor": 0
}
