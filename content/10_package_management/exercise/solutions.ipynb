{
 "cells": [
  {
   "cell_type": "markdown",
   "metadata": {},
   "source": [
    "\n",
    "<a href=\"https://colab.research.google.com/github/aviadr1/learn-advanced-python/blob/master/content/10_package_management/exercise/solutions.ipynb\" target=\"_blank\">\n",
    "<img src=\"https://colab.research.google.com/assets/colab-badge.svg\" \n",
    "     title=\"Open this file in Google Colab\" alt=\"Colab\"/>\n",
    "</a>\n"
   ]
  },
  {
   "cell_type": "markdown",
   "metadata": {},
   "source": [
    "# using new modules without polluting your system\n",
    "\n",
    "in this exercize we're going to use `pipenv` to try out some new modules without polluting your environment"
   ]
  },
  {
   "cell_type": "markdown",
   "metadata": {},
   "source": [
    "## start a new project called cute-python\n",
    "\n",
    "make a new folder called cute-python"
   ]
  },
  {
   "cell_type": "code",
   "execution_count": 1,
   "metadata": {},
   "outputs": [
    {
     "data": {
      "text/plain": [
       "'E:\\\\dev\\\\GitHub\\\\learn-advanced-python\\\\notebooks'"
      ]
     },
     "execution_count": 1,
     "metadata": {},
     "output_type": "execute_result"
    }
   ],
   "source": [
    "# useful: current directory\n",
    "import os\n",
    "os.path.realpath('.')"
   ]
  },
  {
   "cell_type": "code",
   "execution_count": 2,
   "metadata": {},
   "outputs": [
    {
     "data": {
      "text/plain": [
       "'E:\\\\dev\\\\GitHub\\\\learn-advanced-python\\\\notebooks\\\\cute-python'"
      ]
     },
     "execution_count": 2,
     "metadata": {},
     "output_type": "execute_result"
    }
   ],
   "source": [
    "if not os.path.exists('cute-python'):\n",
    "    os.mkdir('cute-python')\n",
    "os.chdir('cute-python')\n",
    "os.path.realpath('.')"
   ]
  },
  {
   "cell_type": "markdown",
   "metadata": {},
   "source": [
    "## function that downloads image from web\n",
    "\n",
    "> remember to use `pipenv` for this step\n",
    "\n",
    "we want to download a particular image from the web: <br>\n",
    "```https://inews.co.uk/wp-content/uploads/2018/03/Nobody-expects-the-Spanish-Inquisition_.jpg```\n",
    "\n",
    "why not use an awesome library to perform our HTTP download for us?\n",
    "lets see if this library is indeed so awesome without affecting our whole system.\n",
    "\n",
    "1. use `pipenv` to install the `requests` library for the `cute-python` project\n",
    "2. use the [requests](https://2.python-requests.org/en/master/) library to write a function that downloads the image file mentioned above to a file called `cute-python.jpg`\n",
    "   > hint: you're looking for the `requests.get()` function, <br>\n",
    "   > you need to write the _content_ to a binary file opened like this `open('cute-python.jpg', \"wb\")`"
   ]
  },
  {
   "cell_type": "code",
   "execution_count": 1,
   "metadata": {},
   "outputs": [
    {
     "data": {
      "text/plain": [
       "'\\npipenv install requests\\n'"
      ]
     },
     "execution_count": 1,
     "metadata": {},
     "output_type": "execute_result"
    }
   ],
   "source": [
    "# run this in the shell:\n",
    "\"\"\"\n",
    ">> pipenv install requests\n",
    "\"\"\""
   ]
  },
  {
   "cell_type": "code",
   "execution_count": 3,
   "metadata": {},
   "outputs": [],
   "source": [
    "code = \"\"\"\n",
    "import requests\n",
    "def download():\n",
    "    url = 'https://inews.co.uk/wp-content/uploads/2018/03/Nobody-expects-the-Spanish-Inquisition_.jpg'\n",
    "    with open('cute-python.jpg', 'wb') as file:\n",
    "        r = requests.get(url, allow_redirects=True)\n",
    "        file.write(r.content)\n",
    "\n",
    "if __name__ == '__main__':\n",
    "    download()\n",
    "\"\"\"\n",
    "with open('download.py', 'w') as codefile:\n",
    "    codefile.write(code)\n"
   ]
  },
  {
   "cell_type": "code",
   "execution_count": 3,
   "metadata": {},
   "outputs": [
    {
     "data": {
      "text/plain": [
       "'\\n>> pipenv shell\\n(cute-python) >> python download.py\\n'"
      ]
     },
     "execution_count": 3,
     "metadata": {},
     "output_type": "execute_result"
    }
   ],
   "source": [
    "# run this in the shell\n",
    "\"\"\"\n",
    ">> pipenv shell\n",
    "(cute-python) >> python download.py\n",
    "\"\"\""
   ]
  },
  {
   "cell_type": "markdown",
   "metadata": {},
   "source": [
    "# lets also show the file\n",
    "here's some code based on `matplotlib` and `pillow` modules that can show the image\n",
    "```\n",
    "import matplotlib.pyplot as plt\n",
    "import matplotlib.image as mpimg\n",
    "plt.imshow(mpimg.imread('cute-python.jpg'))\n",
    "plt.show()\n",
    "```\n",
    "\n",
    "1. lets use pipenv to get these two modules for our project\n",
    "2. lets add this code to a file called `show.py` and run it\n"
   ]
  },
  {
   "cell_type": "code",
   "execution_count": null,
   "metadata": {},
   "outputs": [],
   "source": [
    "# run this in the shell\n",
    "\"\"\"\n",
    ">> pipenv install pillow matplotlib\n",
    "\"\"\""
   ]
  },
  {
   "cell_type": "code",
   "execution_count": 9,
   "metadata": {},
   "outputs": [],
   "source": [
    "code = \"\"\"\n",
    "import matplotlib.pyplot as plt\n",
    "import matplotlib.image as mpimg\n",
    "plt.imshow(mpimg.imread('cute-python.jpg'))\n",
    "plt.show()\n",
    "\"\"\"\n",
    "with open('show.py', 'w') as codefile:\n",
    "    codefile.write(code)"
   ]
  },
  {
   "cell_type": "code",
   "execution_count": 12,
   "metadata": {},
   "outputs": [
    {
     "data": {
      "text/plain": [
       "'\\n>> pipenv run python show.py\\n'"
      ]
     },
     "execution_count": 12,
     "metadata": {},
     "output_type": "execute_result"
    }
   ],
   "source": [
    "# run this in the shell\n",
    "\"\"\"\n",
    ">> pipenv run python show.py\n",
    "\"\"\""
   ]
  },
  {
   "cell_type": "markdown",
   "metadata": {},
   "source": [
    "# what are our project's dependencies?\n",
    "\n",
    "1. what libraries we actuall care about did we install\n",
    "2. what sub-dependencies were installed in addition?"
   ]
  },
  {
   "cell_type": "code",
   "execution_count": 14,
   "metadata": {},
   "outputs": [
    {
     "name": "stdout",
     "output_type": "stream",
     "text": [
      "matplotlib==3.1.1\n",
      "  - cycler [required: >=0.10, installed: 0.10.0]\n",
      "    - six [required: Any, installed: 1.12.0]\n",
      "  - kiwisolver [required: >=1.0.1, installed: 1.1.0]\n",
      "    - setuptools [required: Any, installed: 41.0.1]\n",
      "  - numpy [required: >=1.11, installed: 1.16.4]\n",
      "  - pyparsing [required: >=2.0.1,!=2.1.6,!=2.1.2,!=2.0.4, installed: 2.4.0]\n",
      "  - python-dateutil [required: >=2.1, installed: 2.8.0]\n",
      "    - six [required: >=1.5, installed: 1.12.0]\n",
      "Pillow==6.1.0\n",
      "requests==2.22.0\n",
      "  - certifi [required: >=2017.4.17, installed: 2019.6.16]\n",
      "  - chardet [required: >=3.0.2,<3.1.0, installed: 3.0.4]\n",
      "  - idna [required: >=2.5,<2.9, installed: 2.8]\n",
      "  - urllib3 [required: >=1.21.1,<1.26,!=1.25.1,!=1.25.0, installed: 1.25.3]\n"
     ]
    }
   ],
   "source": [
    "!pipenv graph"
   ]
  },
  {
   "cell_type": "markdown",
   "metadata": {},
   "source": []
  }
 ],
 "metadata": {
  "kernelspec": {
   "display_name": "Python 3",
   "language": "python",
   "name": "python3"
  },
  "language_info": {
   "codemirror_mode": {
    "name": "ipython",
    "version": 3
   },
   "file_extension": ".py",
   "mimetype": "text/x-python",
   "name": "python",
   "nbconvert_exporter": "python",
   "pygments_lexer": "ipython3",
   "version": "3.7.3"
  }
 },
 "nbformat": 4,
 "nbformat_minor": 2
}
