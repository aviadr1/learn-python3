{
 "cells": [
  {
   "cell_type": "markdown",
   "metadata": {},
   "source": [
    "\n",
    "<a href=\"https://colab.research.google.com/github/aviadr1/learn-advanced-python/blob/master/content/12_its_fun_to_be_eval/exercise/solutions.ipynb\" target=\"_blank\">\n",
    "<img src=\"https://colab.research.google.com/assets/colab-badge.svg\" \n",
    "     title=\"Open this file in Google Colab\" alt=\"Colab\"/>\n",
    "</a>\n"
   ]
  },
  {
   "cell_type": "markdown",
   "metadata": {},
   "source": [
    "# 1. doctest\n",
    "\n",
    "do you remember the module `doctest` which allows writing tests inside a functions doc comment?\n",
    "\n",
    "take a look at the code below, isnt this quite magical?\n",
    "\n",
    "### your exercise\n",
    "the exercise is to write a function called `func_test` that gets a function as a parameter and tests it using the tests in the functions docstreing\n",
    "```\n",
    "def func_test(func):\n",
    "```\n",
    "\n",
    "1. func_test should use the `func.__doc__` to get the docstring of the function to test\n",
    "2. lines with '>>>' are what needs to be evaluated (hint: use `eval` for a MUCH simpler solution)\n",
    "3. lines afer '>>>' that don't start with '>>>' are the expected result\n",
    "4. `func_test` should return a dictionary with the number of failed tests, and number of tests ran\n",
    "5. try to mimic the output of the `doctest` module\n",
    "6. there's a simple code to test your `func_test` below"
   ]
  },
  {
   "cell_type": "code",
   "execution_count": 22,
   "metadata": {},
   "outputs": [
    {
     "name": "stdout",
     "output_type": "stream",
     "text": [
      "**********************************************************************\n",
      "File \"__main__\", line 6, in __main__.my_func\n",
      "Failed example:\n",
      "    my_func('hello ', 3, 'world')\n",
      "Expected:\n",
      "    hello hello hello world\n",
      "Got:\n",
      "    'hello hello hello world'\n",
      "**********************************************************************\n",
      "File \"__main__\", line 8, in __main__.my_func\n",
      "Failed example:\n",
      "    my_func(0, 0, 0)\n",
      "Expected:\n",
      "    what happens when things are wrong?\n",
      "Got:\n",
      "    0\n",
      "**********************************************************************\n",
      "1 items had failures:\n",
      "   2 of   3 in __main__.my_func\n",
      "***Test Failed*** 2 failures.\n"
     ]
    },
    {
     "data": {
      "text/plain": [
       "TestResults(failed=2, attempted=3)"
      ]
     },
     "execution_count": 22,
     "metadata": {},
     "output_type": "execute_result"
    }
   ],
   "source": [
    "### useful example of doctest usage\n",
    "def my_func(x, y, z):\n",
    "    \"\"\"\n",
    "    >>> my_func(1, 2, 3)\n",
    "    5\n",
    "    >>> my_func('hello ', 3, 'world')\n",
    "    hello hello hello world\n",
    "    >>> my_func(0, 0, 0)\n",
    "    what happens when things are wrong?\n",
    "    \"\"\"\n",
    "    return x * y + z\n",
    "\n",
    "import doctest\n",
    "doctest.testmod()"
   ]
  },
  {
   "cell_type": "code",
   "execution_count": 23,
   "metadata": {},
   "outputs": [],
   "source": [
    "def _print_failure(example, expected, got):\n",
    "    print(\"**********************************************************************\")\n",
    "    print(\"Failed example:\")\n",
    "    print('\\t', example)\n",
    "    print('Expected:')\n",
    "    print('\\t', expected)\n",
    "    print('Got:')\n",
    "    print('\\t', got)\n",
    "    \n",
    "def func_test(func):\n",
    "    doc = func.__doc__\n",
    "    prev_line_eval = None\n",
    "    tests_ran = 0\n",
    "    tests_failed = 0\n",
    "    for line in doc.splitlines():\n",
    "        line = line.strip()\n",
    "        if line.startswith('>>>'):\n",
    "            prev_line_eval = line[3:]\n",
    "            result = str(eval(prev_line_eval))\n",
    "            \n",
    "        elif prev_line_eval:\n",
    "            tests_ran += 1\n",
    "            if result != line:\n",
    "                _print_failure(prev_line_eval, line, result)\n",
    "                tests_failed +=1\n",
    "            \n",
    "            prev_line_eval = None\n",
    "    \n",
    "    print(\"**********************************************************************\")\n",
    "    return {\"failed\" : tests_failed, \"attempted\" : tests_ran}\n",
    "            \n",
    "        \n",
    "        "
   ]
  },
  {
   "cell_type": "code",
   "execution_count": 25,
   "metadata": {},
   "outputs": [
    {
     "name": "stdout",
     "output_type": "stream",
     "text": [
      "**********************************************************************\n",
      "Failed example:\n",
      "\t  my_func(0, 0, 0)\n",
      "Expected:\n",
      "\t what happens when things are wrong?\n",
      "Got:\n",
      "\t 0\n",
      "**********************************************************************\n"
     ]
    }
   ],
   "source": [
    "### useful: test your 'func_test' function\n",
    "result = func_test(my_func)\n",
    "assert result['failed'] == 1\n",
    "assert result['attempted'] == 3\n"
   ]
  },
  {
   "cell_type": "markdown",
   "metadata": {},
   "source": [
    "# 2. Game of life\n",
    "\n",
    "python has been used by a lot of game engines as a way to 'script' the engine.\n",
    "in this example, we have written an incredibly simple game called 'Conway's game of life' [1].\n",
    "> fun fact: this game is is Turing complete. which means that anything that could be calculated, can be calculated using this game. In fact, several different programmable computer architectures have been implemented in Conway's Life, including a pattern that simulates Tetris.\n",
    "\n",
    "![Animation](https://upload.wikimedia.org/wikipedia/commons/e/e5/Gospers_glider_gun.gif)\n",
    "\n",
    "The game consists of an infinite 2d board on which cells live or die.\n",
    "\n",
    "The rules of the game are simple:\n",
    "1. Any live cell with fewer than two live neighbours dies, as if by underpopulation.\n",
    "2. Any live cell with two or three live neighbours lives on to the next generation.\n",
    "3. Any live cell with more than three live neighbours dies, as if by overpopulation.\n",
    "4. Any dead cell with three live neighbours becomes a live cell, as if by reproduction.\n",
    "\n",
    "the file `game-of-life.py` contains a full implementation of the game. go ahead and run it now\n",
    "```\n",
    ">> python game-of-life.py\n",
    "```\n",
    "\n",
    "## Your task\n",
    "\n",
    "1. add a custom rule engine to the game\n",
    "\n",
    "    to do this you have to edit the file `game-of-life.py` you find in this directory\n",
    "    and implement two methods that are currently unimplemented:\n",
    "\n",
    "    1. implement the `read_custom_rules()` function\n",
    "    2. implement the `apply_custom_rules()` function <br><br>\n",
    "\n",
    "2. look at the `apply_default_rules()` function, and implement the default rules of the game as two rule files `rule-1.txt` and `rule-2.txt` <br><br>\n",
    "\n",
    "3. invent new rules or modify the a rules by adding more `rule-xyz.txt` files and without changing the `game-of-life.py` file\n",
    "\n",
    "> __HINTS__: \n",
    "> 1. both of the functions you need to implement have a handy `TODO` comment to help you with your task\n",
    "> 2. apart from implementing these functions, no other code needs to be modified\n",
    "> 3. here's how rule #1 and rule #3 can be implemented together as a custom rule in a file called `rule-1.txt`\n",
    "     ```\n",
    "     if grid[i, j]  == ON:\n",
    "        if (total_neighbours < 2) or (total_neighbours > 3):\n",
    "            result = OFF\n",
    "     ```\n",
    "> 4. a solution can be found in `game-of-life.solution.py`\n",
    "\n",
    "\n",
    "The bundled game of life code is based on this awesome implementation [2]\n",
    "\n",
    "\n",
    "[1]: https://en.wikipedia.org/wiki/Conway%27s_Game_of_Life\n",
    "[2]: https://electronut.in/simple-python-matplotlib-implementation-of-conways-game-of-life/\n"
   ]
  }
 ],
 "metadata": {
  "kernelspec": {
   "display_name": "Python 3",
   "language": "python",
   "name": "python3"
  },
  "language_info": {
   "codemirror_mode": {
    "name": "ipython",
    "version": 3
   },
   "file_extension": ".py",
   "mimetype": "text/x-python",
   "name": "python",
   "nbconvert_exporter": "python",
   "pygments_lexer": "ipython3",
   "version": "3.7.3"
  }
 },
 "nbformat": 4,
 "nbformat_minor": 2
}
