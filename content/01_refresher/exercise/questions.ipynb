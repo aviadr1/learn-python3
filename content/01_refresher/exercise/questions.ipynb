{
 "cells": [
  {
   "cell_type": "markdown",
   "metadata": {},
   "source": [
    "\n",
    "<a href=\"https://colab.research.google.com/github/aviadr1/learn-advanced-python/blob/master/content/01_refresher/exercise/questions.ipynb\" target=\"_blank\">\n",
    "<img src=\"https://colab.research.google.com/assets/colab-badge.svg\" \n",
    "     title=\"Open this file in Google Colab\" alt=\"Colab\"/>\n",
    "</a>\n"
   ]
  },
  {
   "cell_type": "markdown",
   "metadata": {},
   "source": [
    "# multi-level sorting\n",
    "\n",
    "here's a list of fruits and their prices:\n",
    "\n",
    "```\n",
    "prices = {\n",
    "    'apple' : 20, \n",
    "    'melon' : 7,\n",
    "    'peach' : 20,\n",
    "    'grapes' : 25,\n",
    "    'watermelon' : 5,\n",
    "    'apricot' : 7,\n",
    "    'citrus' : 5\n",
    "}\n",
    "fruits_in_store = list(prices.keys())\n",
    "```\n",
    "can you use the function `sorted` to `fruits_in_store` first by price and then by alphabetical order?\n"
   ]
  },
  {
   "cell_type": "code",
   "execution_count": 4,
   "metadata": {},
   "outputs": [],
   "source": [
    "### useful\n",
    "prices = {\n",
    "    'apple' : 20, \n",
    "    'melon' : 7,\n",
    "    'peach' : 20,\n",
    "    'grapes' : 25,\n",
    "    'watermelon' : 5,\n",
    "    'apricot' : 7,\n",
    "    'citrus' : 5\n",
    "}\n",
    "fruits_in_store = list(prices.keys())"
   ]
  },
  {
   "cell_type": "code",
   "execution_count": 5,
   "metadata": {},
   "outputs": [
    {
     "data": {
      "text/plain": [
       "['citrus', 'watermelon', 'apricot', 'melon', 'apple', 'peach', 'grapes']"
      ]
     },
     "execution_count": 5,
     "metadata": {},
     "output_type": "execute_result"
    }
   ],
   "source": []
  },
  {
   "cell_type": "code",
   "execution_count": 10,
   "metadata": {},
   "outputs": [
    {
     "name": "stdout",
     "output_type": "stream",
     "text": [
      "<function make_sorter.<locals>.sort_key at 0x00377E40>\n"
     ]
    },
    {
     "data": {
      "text/plain": [
       "['melon', 'apple', 'peach', 'citrus', 'grapes', 'apricot', 'watermelon']"
      ]
     },
     "execution_count": 10,
     "metadata": {},
     "output_type": "execute_result"
    }
   ],
   "source": []
  },
  {
   "cell_type": "markdown",
   "metadata": {},
   "source": [
    "# count repeating words in a song\n",
    "\n",
    "Count the number of times each word appears in this short song \n",
    "```\n",
    "song = \"\"\"\\\n",
    "Lovely Spam! Wonderful Spam!\n",
    "Lovely Spam! Wonderful Spam\n",
    "Spa-a-a-a-a-a-a-am\n",
    "Spa-a-a-a-a-a-a-am\n",
    "Spa-a-a-a-a-a-a-am\n",
    "Spa-a-a-a-a-a-a-am\n",
    "Lovely Spam! (Lovely Spam!)\n",
    "Lovely Spam! (Lovely Spam!)\n",
    "Lovely Spam!\n",
    "Spam, Spam, Spam, Spam!\n",
    "\"\"\"\n",
    "```\n",
    "\n",
    "you may find certain classes in the module `collections` useful"
   ]
  },
  {
   "cell_type": "code",
   "execution_count": 43,
   "metadata": {},
   "outputs": [
    {
     "name": "stdout",
     "output_type": "stream",
     "text": [
      "{'Lovely': 7, 'Spa-a-a-a-a-a-a-am': 4, 'Spam': 13, 'Wonderful': 2}\n",
      "\n",
      "{'Lovely': 7, 'Spa-a-a-a-a-a-a-am': 4, 'Spam': 13, 'Wonderful': 2}\n",
      "\n",
      "{'Lovely': 7, 'Spa-a-a-a-a-a-a-am': 4, 'Spam': 13, 'Wonderful': 2}\n",
      "\n",
      "{'Lovely': 7, 'Spa-a-a-a-a-a-a-am': 4, 'Spam': 13, 'Wonderful': 2}\n",
      "\n"
     ]
    }
   ],
   "source": []
  },
  {
   "cell_type": "markdown",
   "metadata": {},
   "source": [
    "# file read generator\n",
    "how is it that we can iterate over lines in a file with a for loop?\n",
    "in this exercize we will write a generator function that shows how this works in practice.\n",
    "\n",
    "write a function called `def make_file_reader(f):` that can be used in the following manner:\n",
    "```\n",
    "for line in make_file_reader(open('spam.txt')):\n",
    "    print(line)\n",
    "```\n",
    "\n",
    "the `make_file_reader` function should take very little time/memory to run, \n",
    "regardless of how big the file is. the file could potentially be 1000GB or more and still take only milliseconds to run.\n",
    "\n",
    "you are only allowed to use the function `f.readline()` on file objects.\n",
    "\n"
   ]
  },
  {
   "cell_type": "code",
   "execution_count": 46,
   "metadata": {},
   "outputs": [],
   "source": []
  },
  {
   "cell_type": "code",
   "execution_count": 47,
   "metadata": {},
   "outputs": [
    {
     "name": "stdout",
     "output_type": "stream",
     "text": [
      "Lovely Spam Wonderful Spam\n",
      "Lovely Spam Wonderful Spam\n",
      "Spa-a-a-a-a-a-a-am\n",
      "Spa-a-a-a-a-a-a-am\n",
      "Spa-a-a-a-a-a-a-am\n",
      "Spa-a-a-a-a-a-a-am\n",
      "Lovely Spam Lovely Spam\n",
      "Lovely Spam Lovely Spam\n",
      "Lovely Spam\n",
      "Spam Spam Spam Spam\n",
      "\n"
     ]
    }
   ],
   "source": [
    "### useful test for your make_file_reader()\n",
    "with open('spam.txt', 'w') as f: print(song, file=f)\n",
    "\n",
    "for line in make_file_reader(open('spam.txt')):\n",
    "    print(line, end='')"
   ]
  }
 ],
 "metadata": {
  "colab": {
   "name": "questions.ipynb"
  },
  "kernelspec": {
   "display_name": "Python 3",
   "language": "python",
   "name": "python3"
  },
  "language_info": {
   "codemirror_mode": {
    "name": "ipython",
    "version": 3
   },
   "file_extension": ".py",
   "mimetype": "text/x-python",
   "name": "python",
   "nbconvert_exporter": "python",
   "pygments_lexer": "ipython3",
   "version": "3.7.3"
  }
 },
 "nbformat": 4,
 "nbformat_minor": 2
}
