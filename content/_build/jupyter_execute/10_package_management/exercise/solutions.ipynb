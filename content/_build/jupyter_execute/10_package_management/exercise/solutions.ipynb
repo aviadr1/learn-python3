{
 "cells": [
  {
   "cell_type": "markdown",
   "metadata": {},
   "source": [
    "\n",
    "<a href=\"https://colab.research.google.com/github/aviadr1/learn-advanced-python/blob/master/content/10_package_management/exercise/solutions.ipynb\" target=\"_blank\">\n",
    "<img src=\"https://colab.research.google.com/assets/colab-badge.svg\" \n",
    "     title=\"Open this file in Google Colab\" alt=\"Colab\"/>\n",
    "</a>\n"
   ]
  },
  {
   "cell_type": "markdown",
   "metadata": {},
   "source": [
    "# using new modules without polluting your system\n",
    "\n",
    "in this exercize we're going to use `pipenv` to try out some new modules without polluting your environment"
   ]
  },
  {
   "cell_type": "markdown",
   "metadata": {},
   "source": [
    "## start a new project called cute-python\n",
    "\n",
    "make a new folder called cute-python"
   ]
  },
  {
   "cell_type": "code",
   "execution_count": 1,
   "metadata": {},
   "outputs": [
    {
     "data": {
      "text/plain": [
       "'E:\\\\dev\\\\GitHub\\\\learnpython\\\\learn-python3\\\\learn_python\\\\10_package_management\\\\exercise'"
      ]
     },
     "execution_count": 1,
     "metadata": {},
     "output_type": "execute_result"
    }
   ],
   "source": [
    "# useful: current directory\n",
    "import os\n",
    "os.path.realpath('.')"
   ]
  },
  {
   "cell_type": "code",
   "execution_count": 2,
   "metadata": {},
   "outputs": [
    {
     "data": {
      "text/plain": [
       "'E:\\\\dev\\\\GitHub\\\\learnpython\\\\learn-python3\\\\learn_python\\\\10_package_management\\\\exercise\\\\cute-python'"
      ]
     },
     "execution_count": 2,
     "metadata": {},
     "output_type": "execute_result"
    }
   ],
   "source": [
    "if not os.path.exists('cute-python'):\n",
    "    os.mkdir('cute-python')\n",
    "os.chdir('cute-python')\n",
    "os.path.realpath('.')"
   ]
  },
  {
   "cell_type": "markdown",
   "metadata": {},
   "source": [
    "## function that downloads image from web\n",
    "\n",
    "> remember to use `pipenv` for this step\n",
    "\n",
    "we want to download a particular image from the web: <br>\n",
    "```https://inews.co.uk/wp-content/uploads/2018/03/Nobody-expects-the-Spanish-Inquisition_.jpg```\n",
    "\n",
    "why not use an awesome library to perform our HTTP download for us?\n",
    "lets see if this library is indeed so awesome without affecting our whole system.\n",
    "\n",
    "1. use `pipenv` to install the `requests` library for the `cute-python` project\n",
    "2. use the [requests](https://2.python-requests.org/en/master/) library to write a function that downloads the image file mentioned above to a file called `cute-python.jpg`\n",
    "   > hint: you're looking for the `requests.get()` function, <br>\n",
    "   > you need to write the _content_ to a binary file opened like this `open('cute-python.jpg', \"wb\")`"
   ]
  },
  {
   "cell_type": "code",
   "execution_count": 3,
   "metadata": {},
   "outputs": [
    {
     "data": {
      "text/plain": [
       "'\\n>> pipenv install requests\\n'"
      ]
     },
     "execution_count": 3,
     "metadata": {},
     "output_type": "execute_result"
    }
   ],
   "source": [
    "# run this in the shell:\n",
    "\"\"\"\n",
    ">> pipenv install requests\n",
    "\"\"\""
   ]
  },
  {
   "cell_type": "code",
   "execution_count": 4,
   "metadata": {},
   "outputs": [],
   "source": [
    "code = \"\"\"\n",
    "import requests\n",
    "def download():\n",
    "    url = 'https://inews.co.uk/wp-content/uploads/2018/03/Nobody-expects-the-Spanish-Inquisition_.jpg'\n",
    "    with open('cute-python.jpg', 'wb') as file:\n",
    "        r = requests.get(url, allow_redirects=True)\n",
    "        file.write(r.content)\n",
    "\n",
    "if __name__ == '__main__':\n",
    "    download()\n",
    "\"\"\"\n",
    "with open('download.py', 'w') as codefile:\n",
    "    codefile.write(code)\n"
   ]
  },
  {
   "cell_type": "code",
   "execution_count": 5,
   "metadata": {},
   "outputs": [
    {
     "data": {
      "text/plain": [
       "'\\n>> pipenv shell\\n(cute-python) >> python download.py\\n'"
      ]
     },
     "execution_count": 5,
     "metadata": {},
     "output_type": "execute_result"
    }
   ],
   "source": [
    "# run this in the shell\n",
    "\"\"\"\n",
    ">> pipenv shell\n",
    "(cute-python) >> python download.py\n",
    "\"\"\""
   ]
  },
  {
   "cell_type": "markdown",
   "metadata": {},
   "source": [
    "# lets also show the file\n",
    "here's some code based on `matplotlib` and `pillow` modules that can show the image\n",
    "```\n",
    "import matplotlib.pyplot as plt\n",
    "import matplotlib.image as mpimg\n",
    "plt.imshow(mpimg.imread('cute-python.jpg'))\n",
    "plt.show()\n",
    "```\n",
    "\n",
    "1. lets use pipenv to get these two modules for our project\n",
    "2. lets add this code to a file called `show.py` and run it\n"
   ]
  },
  {
   "cell_type": "code",
   "execution_count": 6,
   "metadata": {},
   "outputs": [
    {
     "data": {
      "text/plain": [
       "'\\n>> pipenv install pillow matplotlib\\n'"
      ]
     },
     "execution_count": 6,
     "metadata": {},
     "output_type": "execute_result"
    }
   ],
   "source": [
    "# run this in the shell\n",
    "\"\"\"\n",
    ">> pipenv install pillow matplotlib\n",
    "\"\"\""
   ]
  },
  {
   "cell_type": "code",
   "execution_count": 7,
   "metadata": {},
   "outputs": [],
   "source": [
    "code = \"\"\"\n",
    "import matplotlib.pyplot as plt\n",
    "import matplotlib.image as mpimg\n",
    "plt.imshow(mpimg.imread('cute-python.jpg'))\n",
    "plt.show()\n",
    "\"\"\"\n",
    "with open('show.py', 'w') as codefile:\n",
    "    codefile.write(code)"
   ]
  },
  {
   "cell_type": "code",
   "execution_count": 8,
   "metadata": {},
   "outputs": [
    {
     "data": {
      "text/plain": [
       "'\\n>> pipenv run python show.py\\n'"
      ]
     },
     "execution_count": 8,
     "metadata": {},
     "output_type": "execute_result"
    }
   ],
   "source": [
    "# run this in the shell\n",
    "\"\"\"\n",
    ">> pipenv run python show.py\n",
    "\"\"\""
   ]
  },
  {
   "cell_type": "markdown",
   "metadata": {},
   "source": [
    "# what are our project's dependencies?\n",
    "\n",
    "1. what libraries we actuall care about did we install\n",
    "2. what sub-dependencies were installed in addition?"
   ]
  },
  {
   "cell_type": "code",
   "execution_count": 9,
   "metadata": {},
   "outputs": [
    {
     "name": "stderr",
     "output_type": "stream",
     "text": [
      "Warning: No virtualenv has been created for this project yet! Consider running `pipenv install` first to automatically generate one for you or see `pipenv install --help` for further instructions.\n",
      "\n"
     ]
    }
   ],
   "source": [
    "!pipenv graph"
   ]
  },
  {
   "cell_type": "markdown",
   "metadata": {},
   "source": []
  }
 ],
 "metadata": {
  "kernelspec": {
   "display_name": "Python 3",
   "language": "python",
   "name": "python3"
  },
  "language_info": {
   "codemirror_mode": {
    "name": "ipython",
    "version": 3
   },
   "file_extension": ".py",
   "mimetype": "text/x-python",
   "name": "python",
   "nbconvert_exporter": "python",
   "pygments_lexer": "ipython3",
   "version": "3.7.7"
  }
 },
 "nbformat": 4,
 "nbformat_minor": 2
}