{
  "nbformat": 4,
  "nbformat_minor": 0,
  "metadata": {
    "kernelspec": {
      "display_name": "Python 3",
      "language": "python",
      "name": "python3"
    },
    "language_info": {
      "codemirror_mode": {
        "name": "ipython",
        "version": 3
      },
      "file_extension": ".py",
      "mimetype": "text/x-python",
      "name": "python",
      "nbconvert_exporter": "python",
      "pygments_lexer": "ipython3",
      "version": "3.7.3"
    },
    "colab": {
      "name": "basic_db_access-solutions.ipynb",
      "provenance": []
    }
  },
  "cells": [
    {
      "cell_type": "markdown",
      "metadata": {
        "id": "EkyAK2Uia8-C",
        "colab_type": "text"
      },
      "source": [
        "\n",
        "<a href=\"https://colab.research.google.com/github/aviadr1/learn-advanced-python/blob/master/content/11_db_access/exercise/basic_db_access-solutions.ipynb\" target=\"_blank\">\n",
        "<img src=\"https://colab.research.google.com/assets/colab-badge.svg\" \n",
        "     title=\"Open this file in Google Colab\" alt=\"Colab\"/>\n",
        "</a>\n"
      ]
    },
    {
      "cell_type": "markdown",
      "metadata": {
        "id": "MkiA62_Ea8-E",
        "colab_type": "text"
      },
      "source": [
        "# Chinook sample SQLite database\n",
        "\n",
        "in this exercise we're going to experiment with the [Chinook sample DB](http://www.sqlitetutorial.net/sqlite-sample-database/).\n",
        "\n",
        "![Chinook](http://www.sqlitetutorial.net/wp-content/uploads/2015/11/sqlite-sample-database-color.jpg)\n",
        "\n",
        "First, run the code below to download the database locally"
      ]
    },
    {
      "cell_type": "code",
      "metadata": {
        "id": "HxzXdVAEa8-F",
        "colab_type": "code",
        "colab": {}
      },
      "source": [
        "### useful: download and extract chinook sample DB\n",
        "import urllib.request\n",
        "import zipfile\n",
        "from functools import partial\n",
        "import os\n",
        "\n",
        "chinook_url = 'http://www.sqlitetutorial.net/wp-content/uploads/2018/03/chinook.zip'\n",
        "if not os.path.exists('chinook.zip'):\n",
        "    print('downloading chinook.zip ', end='')\n",
        "    with urllib.request.urlopen(chinook_url) as response:\n",
        "        with open('chinook.zip', 'wb') as f:\n",
        "            for data in iter(partial(response.read, 4*1024), b''):\n",
        "                print('.', end='', flush=True)\n",
        "                f.write(data)\n",
        "\n",
        "zipfile.ZipFile('chinook.zip').extractall()\n",
        "assert os.path.exists('chinook.db')"
      ],
      "execution_count": 0,
      "outputs": []
    },
    {
      "cell_type": "markdown",
      "metadata": {
        "id": "LrJcsR9Ga8-I",
        "colab_type": "text"
      },
      "source": [
        "# 1. open the database\n",
        "1. connect to the database using the `sqlite3` or `pyodbc` module interface. place the connection object in a variable named `conn`\n",
        "2. create a cursor object and put it in the variable `cur`"
      ]
    },
    {
      "cell_type": "code",
      "metadata": {
        "id": "jizgwGHSa8-I",
        "colab_type": "code",
        "colab": {}
      },
      "source": [
        "import sqlite3\n",
        "db=\"chinook.db\"\n",
        "conn = sqlite3.connect(db)\n",
        "cur = conn.cursor()"
      ],
      "execution_count": 0,
      "outputs": []
    },
    {
      "cell_type": "markdown",
      "metadata": {
        "id": "Qo_aqk4Ma8-L",
        "colab_type": "text"
      },
      "source": [
        "# 2. table names\n",
        "run an SQL to print out all the table names and their schema"
      ]
    },
    {
      "cell_type": "code",
      "metadata": {
        "id": "vzOkl0iVa8-L",
        "colab_type": "code",
        "colab": {},
        "outputId": "ea61ec7a-174b-4949-f367-f25ab872e55a"
      },
      "source": [
        "rs = cur.execute(\n",
        "    \"\"\"\n",
        "    SELECT name, sql FROM sqlite_master\n",
        "    WHERE type='table'\n",
        "    ORDER BY name;\n",
        "    \"\"\")\n",
        "    \n",
        "for name, sql, *args in rs:\n",
        "    print(name)\n",
        "    print(sql)\n",
        "    print()"
      ],
      "execution_count": 0,
      "outputs": [
        {
          "output_type": "stream",
          "text": [
            "albums\n",
            "CREATE TABLE \"albums\"\r\n",
            "(\r\n",
            "    [AlbumId] INTEGER PRIMARY KEY AUTOINCREMENT NOT NULL,\r\n",
            "    [Title] NVARCHAR(160)  NOT NULL,\r\n",
            "    [ArtistId] INTEGER  NOT NULL,\r\n",
            "    FOREIGN KEY ([ArtistId]) REFERENCES \"artists\" ([ArtistId]) \r\n",
            "\t\tON DELETE NO ACTION ON UPDATE NO ACTION\r\n",
            ")\n",
            "\n",
            "artists\n",
            "CREATE TABLE \"artists\"\r\n",
            "(\r\n",
            "    [ArtistId] INTEGER PRIMARY KEY AUTOINCREMENT NOT NULL,\r\n",
            "    [Name] NVARCHAR(120)\r\n",
            ")\n",
            "\n",
            "customers\n",
            "CREATE TABLE \"customers\"\r\n",
            "(\r\n",
            "    [CustomerId] INTEGER PRIMARY KEY AUTOINCREMENT NOT NULL,\r\n",
            "    [FirstName] NVARCHAR(40)  NOT NULL,\r\n",
            "    [LastName] NVARCHAR(20)  NOT NULL,\r\n",
            "    [Company] NVARCHAR(80),\r\n",
            "    [Address] NVARCHAR(70),\r\n",
            "    [City] NVARCHAR(40),\r\n",
            "    [State] NVARCHAR(40),\r\n",
            "    [Country] NVARCHAR(40),\r\n",
            "    [PostalCode] NVARCHAR(10),\r\n",
            "    [Phone] NVARCHAR(24),\r\n",
            "    [Fax] NVARCHAR(24),\r\n",
            "    [Email] NVARCHAR(60)  NOT NULL,\r\n",
            "    [SupportRepId] INTEGER,\r\n",
            "    FOREIGN KEY ([SupportRepId]) REFERENCES \"employees\" ([EmployeeId]) \r\n",
            "\t\tON DELETE NO ACTION ON UPDATE NO ACTION\r\n",
            ")\n",
            "\n",
            "employees\n",
            "CREATE TABLE \"employees\"\r\n",
            "(\r\n",
            "    [EmployeeId] INTEGER PRIMARY KEY AUTOINCREMENT NOT NULL,\r\n",
            "    [LastName] NVARCHAR(20)  NOT NULL,\r\n",
            "    [FirstName] NVARCHAR(20)  NOT NULL,\r\n",
            "    [Title] NVARCHAR(30),\r\n",
            "    [ReportsTo] INTEGER,\r\n",
            "    [BirthDate] DATETIME,\r\n",
            "    [HireDate] DATETIME,\r\n",
            "    [Address] NVARCHAR(70),\r\n",
            "    [City] NVARCHAR(40),\r\n",
            "    [State] NVARCHAR(40),\r\n",
            "    [Country] NVARCHAR(40),\r\n",
            "    [PostalCode] NVARCHAR(10),\r\n",
            "    [Phone] NVARCHAR(24),\r\n",
            "    [Fax] NVARCHAR(24),\r\n",
            "    [Email] NVARCHAR(60),\r\n",
            "    FOREIGN KEY ([ReportsTo]) REFERENCES \"employees\" ([EmployeeId]) \r\n",
            "\t\tON DELETE NO ACTION ON UPDATE NO ACTION\r\n",
            ")\n",
            "\n",
            "genres\n",
            "CREATE TABLE \"genres\"\r\n",
            "(\r\n",
            "    [GenreId] INTEGER PRIMARY KEY AUTOINCREMENT NOT NULL,\r\n",
            "    [Name] NVARCHAR(120)\r\n",
            ")\n",
            "\n",
            "invoice_items\n",
            "CREATE TABLE \"invoice_items\"\r\n",
            "(\r\n",
            "    [InvoiceLineId] INTEGER PRIMARY KEY AUTOINCREMENT NOT NULL,\r\n",
            "    [InvoiceId] INTEGER  NOT NULL,\r\n",
            "    [TrackId] INTEGER  NOT NULL,\r\n",
            "    [UnitPrice] NUMERIC(10,2)  NOT NULL,\r\n",
            "    [Quantity] INTEGER  NOT NULL,\r\n",
            "    FOREIGN KEY ([InvoiceId]) REFERENCES \"invoices\" ([InvoiceId]) \r\n",
            "\t\tON DELETE NO ACTION ON UPDATE NO ACTION,\r\n",
            "    FOREIGN KEY ([TrackId]) REFERENCES \"tracks\" ([TrackId]) \r\n",
            "\t\tON DELETE NO ACTION ON UPDATE NO ACTION\r\n",
            ")\n",
            "\n",
            "invoices\n",
            "CREATE TABLE \"invoices\"\r\n",
            "(\r\n",
            "    [InvoiceId] INTEGER PRIMARY KEY AUTOINCREMENT NOT NULL,\r\n",
            "    [CustomerId] INTEGER  NOT NULL,\r\n",
            "    [InvoiceDate] DATETIME  NOT NULL,\r\n",
            "    [BillingAddress] NVARCHAR(70),\r\n",
            "    [BillingCity] NVARCHAR(40),\r\n",
            "    [BillingState] NVARCHAR(40),\r\n",
            "    [BillingCountry] NVARCHAR(40),\r\n",
            "    [BillingPostalCode] NVARCHAR(10),\r\n",
            "    [Total] NUMERIC(10,2)  NOT NULL,\r\n",
            "    FOREIGN KEY ([CustomerId]) REFERENCES \"customers\" ([CustomerId]) \r\n",
            "\t\tON DELETE NO ACTION ON UPDATE NO ACTION\r\n",
            ")\n",
            "\n",
            "media_types\n",
            "CREATE TABLE \"media_types\"\r\n",
            "(\r\n",
            "    [MediaTypeId] INTEGER PRIMARY KEY AUTOINCREMENT NOT NULL,\r\n",
            "    [Name] NVARCHAR(120)\r\n",
            ")\n",
            "\n",
            "playlist_track\n",
            "CREATE TABLE \"playlist_track\"\r\n",
            "(\r\n",
            "    [PlaylistId] INTEGER  NOT NULL,\r\n",
            "    [TrackId] INTEGER  NOT NULL,\r\n",
            "    CONSTRAINT [PK_PlaylistTrack] PRIMARY KEY  ([PlaylistId], [TrackId]),\r\n",
            "    FOREIGN KEY ([PlaylistId]) REFERENCES \"playlists\" ([PlaylistId]) \r\n",
            "\t\tON DELETE NO ACTION ON UPDATE NO ACTION,\r\n",
            "    FOREIGN KEY ([TrackId]) REFERENCES \"tracks\" ([TrackId]) \r\n",
            "\t\tON DELETE NO ACTION ON UPDATE NO ACTION\r\n",
            ")\n",
            "\n",
            "playlists\n",
            "CREATE TABLE \"playlists\"\r\n",
            "(\r\n",
            "    [PlaylistId] INTEGER PRIMARY KEY AUTOINCREMENT NOT NULL,\r\n",
            "    [Name] NVARCHAR(120)\r\n",
            ")\n",
            "\n",
            "sqlite_sequence\n",
            "CREATE TABLE sqlite_sequence(name,seq)\n",
            "\n",
            "sqlite_stat1\n",
            "CREATE TABLE sqlite_stat1(tbl,idx,stat)\n",
            "\n",
            "tracks\n",
            "CREATE TABLE \"tracks\"\r\n",
            "(\r\n",
            "    [TrackId] INTEGER PRIMARY KEY AUTOINCREMENT NOT NULL,\r\n",
            "    [Name] NVARCHAR(200)  NOT NULL,\r\n",
            "    [AlbumId] INTEGER,\r\n",
            "    [MediaTypeId] INTEGER  NOT NULL,\r\n",
            "    [GenreId] INTEGER,\r\n",
            "    [Composer] NVARCHAR(220),\r\n",
            "    [Milliseconds] INTEGER  NOT NULL,\r\n",
            "    [Bytes] INTEGER,\r\n",
            "    [UnitPrice] NUMERIC(10,2)  NOT NULL,\r\n",
            "    FOREIGN KEY ([AlbumId]) REFERENCES \"albums\" ([AlbumId]) \r\n",
            "\t\tON DELETE NO ACTION ON UPDATE NO ACTION,\r\n",
            "    FOREIGN KEY ([GenreId]) REFERENCES \"genres\" ([GenreId]) \r\n",
            "\t\tON DELETE NO ACTION ON UPDATE NO ACTION,\r\n",
            "    FOREIGN KEY ([MediaTypeId]) REFERENCES \"media_types\" ([MediaTypeId]) \r\n",
            "\t\tON DELETE NO ACTION ON UPDATE NO ACTION\r\n",
            ")\n",
            "\n"
          ],
          "name": "stdout"
        }
      ]
    },
    {
      "cell_type": "markdown",
      "metadata": {
        "id": "m7Uoxenwa8-P",
        "colab_type": "text"
      },
      "source": [
        "# 3. Tracks\n",
        "print out the first three tracks in the `tracks` table"
      ]
    },
    {
      "cell_type": "code",
      "metadata": {
        "id": "dLgaqKX9a8-Q",
        "colab_type": "code",
        "colab": {},
        "outputId": "3b178b22-4954-4f56-a4fb-52ae7e73517c"
      },
      "source": [
        "rs = cur.execute(\n",
        "    \"\"\"\n",
        "    SELECT * \n",
        "    FROM tracks\n",
        "    LIMIT 3;\n",
        "    \"\"\")\n",
        "\n",
        "for row in rs:\n",
        "    print(row)"
      ],
      "execution_count": 0,
      "outputs": [
        {
          "output_type": "stream",
          "text": [
            "(1, 'For Those About To Rock (We Salute You)', 1, 1, 1, 'Angus Young, Malcolm Young, Brian Johnson', 343719, 11170334, 0.99)\n",
            "(2, 'Balls to the Wall', 2, 2, 1, None, 342562, 5510424, 0.99)\n",
            "(3, 'Fast As a Shark', 3, 2, 1, 'F. Baltes, S. Kaufman, U. Dirkscneider & W. Hoffman', 230619, 3990994, 0.99)\n"
          ],
          "name": "stdout"
        }
      ]
    },
    {
      "cell_type": "markdown",
      "metadata": {
        "id": "frpBg4Yxa8-T",
        "colab_type": "text"
      },
      "source": [
        "# 4. Albums from Tracks\n",
        "print out the track name and albums title of the first 20 tracks in the `tracks` table\n",
        "\n"
      ]
    },
    {
      "cell_type": "code",
      "metadata": {
        "id": "nIQWbYS0a8-U",
        "colab_type": "code",
        "colab": {},
        "outputId": "5f6d2741-d343-4b31-ab73-3359a604d1d6"
      },
      "source": [
        "rs = cur.execute(\n",
        "    \"\"\"\n",
        "    SELECT tracks.Name, albums.*\n",
        "    FROM tracks\n",
        "    JOIN albums ON tracks.AlbumId == albums.AlbumId\n",
        "    LIMIT 20\n",
        "    ;\n",
        "    \"\"\")\n",
        "\n",
        "for row in rs:\n",
        "    print(row)"
      ],
      "execution_count": 0,
      "outputs": [
        {
          "output_type": "stream",
          "text": [
            "('For Those About To Rock (We Salute You)', 1, 'For Those About To Rock We Salute You', 1)\n",
            "('Put The Finger On You', 1, 'For Those About To Rock We Salute You', 1)\n",
            "(\"Let's Get It Up\", 1, 'For Those About To Rock We Salute You', 1)\n",
            "('Inject The Venom', 1, 'For Those About To Rock We Salute You', 1)\n",
            "('Snowballed', 1, 'For Those About To Rock We Salute You', 1)\n",
            "('Evil Walks', 1, 'For Those About To Rock We Salute You', 1)\n",
            "('C.O.D.', 1, 'For Those About To Rock We Salute You', 1)\n",
            "('Breaking The Rules', 1, 'For Those About To Rock We Salute You', 1)\n",
            "('Night Of The Long Knives', 1, 'For Those About To Rock We Salute You', 1)\n",
            "('Spellbound', 1, 'For Those About To Rock We Salute You', 1)\n",
            "('Balls to the Wall', 2, 'Balls to the Wall', 2)\n",
            "('Fast As a Shark', 3, 'Restless and Wild', 2)\n",
            "('Restless and Wild', 3, 'Restless and Wild', 2)\n",
            "('Princess of the Dawn', 3, 'Restless and Wild', 2)\n",
            "('Go Down', 4, 'Let There Be Rock', 1)\n",
            "('Dog Eat Dog', 4, 'Let There Be Rock', 1)\n",
            "('Let There Be Rock', 4, 'Let There Be Rock', 1)\n",
            "('Bad Boy Boogie', 4, 'Let There Be Rock', 1)\n",
            "('Problem Child', 4, 'Let There Be Rock', 1)\n",
            "('Overdose', 4, 'Let There Be Rock', 1)\n"
          ],
          "name": "stdout"
        }
      ]
    },
    {
      "cell_type": "markdown",
      "metadata": {
        "id": "LR83Kv86a8-X",
        "colab_type": "text"
      },
      "source": [
        "# 5. Tracks sold\n",
        "\n",
        "1. print out the first 10 track sales from the `invoice_items` table\n",
        "2. for these first 10 sales, print what are the names of the track sold, and the quantity sold\n"
      ]
    },
    {
      "cell_type": "code",
      "metadata": {
        "id": "PkHc7QoDa8-Y",
        "colab_type": "code",
        "colab": {},
        "outputId": "d7c98adb-7bf5-4cc7-f8bc-ad30499aaa55"
      },
      "source": [
        "# print out the first 10 track sales from the invoice_items table\n",
        "rs = cur.execute(\n",
        "    \"\"\"\n",
        "    SELECT *\n",
        "    FROM invoice_items\n",
        "    LIMIT 10\n",
        "    ;\n",
        "    \"\"\")\n",
        "\n",
        "for row in rs:\n",
        "    print(row)\n",
        "    \n",
        "print()\n",
        "\n",
        "# what are the names of the tracks sold in the first 10 invoices?\n",
        "rs = cur.execute(\n",
        "    \"\"\"\n",
        "    SELECT tracks.Name, invoice_items.Quantity\n",
        "    FROM invoice_items\n",
        "    JOIN tracks ON invoice_items.TrackId == tracks.TrackId \n",
        "    LIMIT 10\n",
        "    ;\n",
        "    \"\"\")\n",
        "\n",
        "for row in rs:\n",
        "    print(row)"
      ],
      "execution_count": 0,
      "outputs": [
        {
          "output_type": "stream",
          "text": [
            "(1, 1, 2, 0.99, 1)\n",
            "(2, 1, 4, 0.99, 1)\n",
            "(3, 2, 6, 0.99, 1)\n",
            "(4, 2, 8, 0.99, 1)\n",
            "(5, 2, 10, 0.99, 1)\n",
            "(6, 2, 12, 0.99, 1)\n",
            "(7, 3, 16, 0.99, 1)\n",
            "(8, 3, 20, 0.99, 1)\n",
            "(9, 3, 24, 0.99, 1)\n",
            "(10, 3, 28, 0.99, 1)\n",
            "\n",
            "('Balls to the Wall', 1)\n",
            "('Restless and Wild', 1)\n",
            "('Put The Finger On You', 1)\n",
            "('Inject The Venom', 1)\n",
            "('Evil Walks', 1)\n",
            "('Breaking The Rules', 1)\n",
            "('Dog Eat Dog', 1)\n",
            "('Overdose', 1)\n",
            "('Love In An Elevator', 1)\n",
            "(\"Janie's Got A Gun\", 1)\n"
          ],
          "name": "stdout"
        }
      ]
    },
    {
      "cell_type": "markdown",
      "metadata": {
        "id": "YTnwYL3Fa8-b",
        "colab_type": "text"
      },
      "source": [
        "# 6. Top tracks sold\n",
        "\n",
        "print the names of top 10 tracks sold, and how many they times they were sold"
      ]
    },
    {
      "cell_type": "code",
      "metadata": {
        "id": "o04M8KJIa8-d",
        "colab_type": "code",
        "colab": {},
        "outputId": "85d616fa-ebb4-4d40-9854-9be43823f0e2"
      },
      "source": [
        "rs = cur.execute(\n",
        "    \"\"\"\n",
        "    SELECT tracks.Name, SUM(Quantity) AS sold\n",
        "    FROM invoice_items\n",
        "    JOIN tracks ON invoice_items.TrackId == tracks.TrackId \n",
        "    GROUP BY invoice_items.TrackId\n",
        "    ORDER BY sold DESC    \n",
        "    LIMIT 10\n",
        "    ;\n",
        "    \"\"\")\n",
        "\n",
        "for row in rs:\n",
        "    print(row)"
      ],
      "execution_count": 0,
      "outputs": [
        {
          "output_type": "stream",
          "text": [
            "('Balls to the Wall', 2)\n",
            "('Inject The Venom', 2)\n",
            "('Snowballed', 2)\n",
            "('Overdose', 2)\n",
            "('Deuces Are Wild', 2)\n",
            "('Not The Doctor', 2)\n",
            "('Por Causa De Você', 2)\n",
            "('Welcome Home (Sanitarium)', 2)\n",
            "('Snowblind', 2)\n",
            "('Cornucopia', 2)\n"
          ],
          "name": "stdout"
        }
      ]
    },
    {
      "cell_type": "markdown",
      "metadata": {
        "id": "ib88-h-ha8-g",
        "colab_type": "text"
      },
      "source": [
        "# 7. top selling artists\n",
        "Who are the top 10 highest selling artists?\n",
        "\n",
        "> _hint: you need to join the invoice_items, tracks, albums and artists tables_\n"
      ]
    },
    {
      "cell_type": "code",
      "metadata": {
        "id": "PZovHsYza8-g",
        "colab_type": "code",
        "colab": {},
        "outputId": "b2a25c4f-a476-401a-c9c3-8fdb8c75c56e"
      },
      "source": [
        "rs = cur.execute(\n",
        "    \"\"\"\n",
        "    SELECT artists.Name, SUM(Quantity) AS sold\n",
        "    FROM invoice_items\n",
        "    JOIN tracks ON invoice_items.TrackId == tracks.TrackId\n",
        "    JOIN albums ON tracks.AlbumId == albums.AlbumId\n",
        "    JOIN artists ON albums.ArtistId == artists.ArtistId\n",
        "    GROUP BY artists.ArtistId\n",
        "    ORDER BY sold DESC    \n",
        "    LIMIT 10\n",
        "    ;\n",
        "    \"\"\")\n",
        "\n",
        "for row in rs:\n",
        "    print(row)"
      ],
      "execution_count": 0,
      "outputs": [
        {
          "output_type": "stream",
          "text": [
            "('Iron Maiden', 140)\n",
            "('U2', 107)\n",
            "('Metallica', 91)\n",
            "('Led Zeppelin', 87)\n",
            "('Os Paralamas Do Sucesso', 45)\n",
            "('Deep Purple', 44)\n",
            "('Faith No More', 42)\n",
            "('Lost', 41)\n",
            "('Eric Clapton', 40)\n",
            "('R.E.M.', 39)\n"
          ],
          "name": "stdout"
        }
      ]
    },
    {
      "cell_type": "code",
      "metadata": {
        "id": "yQOdfYyLa8-i",
        "colab_type": "code",
        "colab": {}
      },
      "source": [
        ""
      ],
      "execution_count": 0,
      "outputs": []
    },
    {
      "cell_type": "code",
      "metadata": {
        "id": "nYsboziGa8-k",
        "colab_type": "code",
        "colab": {}
      },
      "source": [
        ""
      ],
      "execution_count": 0,
      "outputs": []
    },
    {
      "cell_type": "code",
      "metadata": {
        "id": "DsMo3eOua8-m",
        "colab_type": "code",
        "colab": {}
      },
      "source": [
        "\n"
      ],
      "execution_count": 0,
      "outputs": []
    }
  ]
}