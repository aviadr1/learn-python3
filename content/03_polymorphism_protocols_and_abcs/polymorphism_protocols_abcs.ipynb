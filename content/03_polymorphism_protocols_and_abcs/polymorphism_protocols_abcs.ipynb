{
 "cells": [
  {
   "cell_type": "markdown",
   "metadata": {},
   "source": [
    "\n",
    "<a href=\"https://colab.research.google.com/github/aviadr1/learn-advanced-python/blob/master/content/03_polymorphism_protocols_and_abcs/polymorphism_protocols_abcs.ipynb\" target=\"_blank\">\n",
    "<img src=\"https://colab.research.google.com/assets/colab-badge.svg\" \n",
    "     title=\"Open this file in Google Colab\" alt=\"Colab\"/>\n",
    "</a>\n"
   ]
  },
  {
   "cell_type": "markdown",
   "metadata": {},
   "source": [
    "# Abstract Base Classes (ABCs)\n",
    "\n",
    "In this lesson we will learn about what polymorphism is, what protocols are, and how Abstract Base Classes (ABCs) help\n",
    "us correctly implement protocols. \n",
    "\n",
    "lets start by understanding polymorphism\n",
    "\n",
    "## Polymorphism\n",
    "Polymorphism is the ability to define a an operation or function that can work, without modifications, on objects of more than one type. \n",
    "\n",
    "Polymorphism is an Object Oriented Design (OOD) concept. and as we know, python is highly OO oriented, so it should come as no surprise that polymorphism is inherent to python, and that without realizing it, we have been using polymorphism extensively already"
   ]
  },
  {
   "cell_type": "code",
   "execution_count": 1,
   "metadata": {},
   "outputs": [
    {
     "name": "stdout",
     "output_type": "stream",
     "text": [
      "1\n",
      "3\n",
      "5\n",
      "10\n",
      "\n",
      "\n",
      "3\n",
      "o\n",
      "('zvi', 'arad')\n",
      "\n",
      "\n",
      "1\n",
      "{2}\n",
      "[3]\n",
      "range(0, 4)\n",
      "5\n",
      "<built-in function len>\n",
      "<module 'math' (built-in)>\n",
      "<built-in function sin>\n"
     ]
    }
   ],
   "source": [
    "# the len function is polymorphic - \n",
    "# it works on many copntainer-like types - dicts, lists, strings, ranges etc\n",
    "u = len({\"one\": 'is the loneliest number'}) # 1\n",
    "x = len([1,2,3]) # 3\n",
    "y = len(\"hello\") # 5\n",
    "z = len(range(10)) # 10\n",
    "print(u, x, y, z, '\\n', sep='\\n')\n",
    "\n",
    "# the max function is polymorphic, it works on many container-like types\n",
    "x = max([1,2, 3, 2, 1]) # 3\n",
    "y = max('hello') # 'o'\n",
    "z = max( (('avram', 'cohen'), ('beni', 'levi'), ('zvi', 'arad'), ('moshe', 'zamir')) )\n",
    "print(x, y, z, '\\n',sep='\\n')\n",
    "\n",
    "# the print function is polymorphic - it works on *any* type\n",
    "import math\n",
    "print(1, {2}, [3], range(4), '5', len, math, math.sin, sep='\\n') "
   ]
  },
  {
   "cell_type": "markdown",
   "metadata": {},
   "source": [
    "### Writing our own polymorphic functions\n",
    "How can we write our own polymorphic functions?\n",
    "easy, any python function we write is _always_ polymorphic \n",
    "\n",
    "> Any python function is polymorphic in the sense that you _can_ try to call it with any parameter regardless of its type. to understand wether or not the function will have the desired effect (or would perhaps simply fail by raising an exception), requires us to understand  _Protocols_ - which are discussed below\n",
    "\n",
    "here's an easy example:"
   ]
  },
  {
   "cell_type": "code",
   "execution_count": 2,
   "metadata": {},
   "outputs": [
    {
     "name": "stdout",
     "output_type": "stream",
     "text": [
      "1.0\n",
      "3\n",
      "[1, 2, 3, 4, 5]\n",
      "hello  world\n",
      "\n",
      "\n"
     ]
    }
   ],
   "source": [
    "def add(x,y):\n",
    "    return x+y\n",
    "\n",
    "# our function add() is polymorphic, it works on many types and combination of types\n",
    "u = add( 0.25, 0.75) # 1.0\n",
    "x = add(1, 2) # 3\n",
    "y = add([1,2,3], [4, 5]) # [1,2,3,4,5]\n",
    "z = add( 'hello ', ' world') # 'hello  world'\n",
    "print(u,x,y,z, '\\n', sep='\\n')\n"
   ]
  },
  {
   "cell_type": "markdown",
   "metadata": {},
   "source": [
    "Obviously, this function is not going to work for just __any__ type or combination of types\n",
    "\n",
    "```\n",
    "add(10, 'hello') \n",
    "\n",
    "---------------------------------------------------------------------------\n",
    "TypeError                                 Traceback (most recent call last)\n",
    "<ipython-input-14-d1478ef3d713> in <module>\n",
    "----> 1 add(10, 'hello') # TypeError: unsupported operand type(s) for +: 'int' and 'str'\n",
    "\n",
    "<ipython-input-12-396b6352e406> in add(x, y)\n",
    "      1 def add(x,y):\n",
    "----> 2     return x+y\n",
    "      3 \n",
    "      4 # our function add() is polymorphic, it works on many types and combination of types\n",
    "      5 u = add( 0.25, 0.75) # 1\n",
    "\n",
    "TypeError: unsupported operand type(s) for +: 'int' and 'str'\n",
    "\n",
    "```\n",
    "\n",
    "lets explore how this works in more detail \n",
    "\n",
    "### A classical object oriented example\n",
    "\n",
    "Lets imagine we are writing program for a zoo where we keep a bunch of animals. \n",
    "We have a class for each type of animal, and we keep a list of all the animals living in the zoo.\n",
    "\n",
    "some of the animals are similar to ducks: such as `Duck`, `Mallard` and `Goose` <br>\n",
    "Some are not similar to ducks such as : `Elephant` and `Lion`"
   ]
  },
  {
   "cell_type": "code",
   "execution_count": 3,
   "metadata": {},
   "outputs": [],
   "source": [
    "#\n",
    "# define some of the animal types in our zoo and what each can do\n",
    "#\n",
    "\n",
    "class Duck:\n",
    "    def walk(self):\n",
    "        print('duck walking here')\n",
    "        \n",
    "    def quack(self):\n",
    "        print('duck quacks')\n",
    "        \n",
    "class Goose: # a goose is also very similar to a duck\n",
    "    def walk(self):\n",
    "        print('goose walking here')\n",
    "        \n",
    "    def quack(self):\n",
    "        print('goose quacks')\n",
    "\n",
    "class Elephant:\n",
    "    def walk(self):\n",
    "        print('elephant walk')\n",
    "        \n",
    "class Lion:\n",
    "    def nap(self):\n",
    "        print('lion napping')\n",
    "        \n",
    "# create a list of the animals in our zoo\n",
    "all_animals = [Duck(), Elephant(), Lion(), Goose()]"
   ]
  },
  {
   "cell_type": "code",
   "execution_count": 4,
   "metadata": {},
   "outputs": [
    {
     "name": "stdout",
     "output_type": "stream",
     "text": [
      "\n",
      "Duck :\n",
      "duck walking here\n",
      "duck quacks\n",
      "giving duck food to Duck\n",
      "\n",
      "Elephant :\n",
      "elephant walk\n",
      "\n",
      "Lion :\n",
      "\n",
      "Goose :\n",
      "goose walking here\n",
      "goose quacks\n",
      "giving duck food to Goose\n"
     ]
    }
   ],
   "source": [
    "#\n",
    "# now lets write some functions to take care of animals and especially ducks in our zoo\n",
    "#\n",
    "\n",
    "def animal_type_name(animal):\n",
    "    return animal.__class__.__qualname__\n",
    "\n",
    "def feed_animal(animal, food):\n",
    "    print('giving', food, 'to', animal_type_name(animal))\n",
    "\n",
    "def treat_the_ducks(animals):\n",
    "    \"\"\"\n",
    "    treat the ducks finds all the ducks in the list of given animals and:\n",
    "    1. gives them proper exercise - walking and quacking\n",
    "    2. feeds them with appropriate duck food\n",
    "    \"\"\"\n",
    "    \n",
    "    for animal in animals:\n",
    "        print()\n",
    "        print(animal_type_name(animal), ':')\n",
    "        try:\n",
    "            animal.walk() # walks like a duck?\n",
    "            animal.quack() # talks like a duck?\n",
    "        except:\n",
    "            continue # this is not a duck, go to next animal\n",
    "        \n",
    "        # its a duck!, so give it some duck food\n",
    "        duck = animal\n",
    "        feed_animal(duck, 'duck food')\n",
    "        \n",
    "        \n",
    "# lets feed the ducks    \n",
    "treat_the_ducks(all_animals)"
   ]
  },
  {
   "cell_type": "markdown",
   "metadata": {},
   "source": [
    "What's happening here?\n",
    "We're going through a list of animals, and trying to __polymorphically__ call methods related to ducks on each animal, regardless of their actual type\n",
    "```\n",
    "animal.walk() # walks like a duck?\n",
    "animal.quack() # talks like a duck?\n",
    "```\n",
    "\n",
    "python implements polymorphism in a way that's humorously called __duck-typing__ (or more formally as _Ad hoc polymorphism_).\n",
    "when a method is being called on a type, python just 'tries' to call that method at __run-time__ and simply raises an exception if the method doesnt exist, has a different number of parameters, or if anything else failed\n",
    "\n",
    "or more concisely, _duck-typing polymorphism_ can be summarised as:\n",
    ">   if it walks like a duck <br>\n",
    ">   and quacks like a duck <br>\n",
    ">   it is a duck\n",
    "\n",
    "In our example, we considered objects that had a `walk()` method and `quack()` method to be _enough like ducks_ to be fed duck food. \n",
    "\n",
    "\n",
    "to be more formal, we've defined a __duck protocol__ and any other object that follows this protocol can also be fed by the `treat_the_ducks()` function\n",
    "\n",
    "## Protocols\n",
    "\n",
    "A protocol is a contract about what a type must provide or implement in order to be able to be used in a certain way.\n",
    "In our case the duck protocol is that a contract that if an object has a `quack()` and `walk()` method then it can be treated as a duck and be fed duck food\n",
    "\n",
    "In many cases, protocols can be used informally, as a sort of a _'gentelman's agreement'_ and python will not try to make explicit checks for correctly following a protocol\n",
    "\n",
    "Lets create a new Mallard class (mallards are a type of duck) that also informally conforms to this protocol"
   ]
  },
  {
   "cell_type": "code",
   "execution_count": 5,
   "metadata": {},
   "outputs": [
    {
     "name": "stdout",
     "output_type": "stream",
     "text": [
      "\n",
      "Mallard :\n",
      "mallard walking here\n",
      "mallard quacks\n",
      "giving duck food to Mallard\n"
     ]
    }
   ],
   "source": [
    "class Mallard: \n",
    "    \"\"\"\n",
    "    a mallard is a bird that is very similar to a duck\n",
    "    \n",
    "    it follows the duck protocol by implementing a walk() and quack() function\n",
    "    \"\"\"\n",
    "    def walk(self):\n",
    "        print('mallard walking here')\n",
    "        \n",
    "    def quack(self):\n",
    "        print('mallard quacks')\n",
    "\n",
    "# function treat_the_ducks() doesn't know anything about Mallards\n",
    "# but since it follows the the duck protocol, it can be fed using the same function\n",
    "treat_the_ducks( [ Mallard() ] )"
   ]
  },
  {
   "cell_type": "markdown",
   "metadata": {},
   "source": [
    "## Abstract base classes (ABCs)\n",
    "\n",
    "Is there a way for us to express this _duck protocol_ in a way that would make it easy for us to implement new classes of Ducks and make sure that all of the conform to the protocol? \n",
    "\n",
    "lets introduce ABCs by defining a new abstract base class called `AbstractDuck` that captures all there is to know about what being a duck is like "
   ]
  },
  {
   "cell_type": "code",
   "execution_count": 6,
   "metadata": {},
   "outputs": [],
   "source": [
    "from abc import ABC, abstractmethod\n",
    "\n",
    "class AbstractDuck(ABC):\n",
    "    @abstractmethod\n",
    "    def walk(self):\n",
    "        print(animal_type_name(self), 'walking here')\n",
    "        \n",
    "    @abstractmethod\n",
    "    def quack(self):\n",
    "        print(animal_type_name(self), 'quacks')\n",
    "        \n"
   ]
  },
  {
   "cell_type": "markdown",
   "metadata": {},
   "source": [
    "### What's going on here?\n",
    "1. Declared a new class called `AbstractDuck`\n",
    "1. Declared that it is a type of ABC by inheriting from the ABC class\n",
    "1. Defined two methods `walk()` and `quack()` and marked them as abstract using an `@abstractmethod` decorator \n",
    "\n",
    "### What's _abstract_ about abcs?\n",
    "Abstract classes cannot be instantiated into objects (they only capture an idea) \n",
    "\n",
    "```\n",
    "my_new_duck = AbstractDuck()\n",
    "\n",
    "---------------------------------------------------------------------------\n",
    "TypeError                                 Traceback (most recent call last)\n",
    "<ipython-input-52-dd1dce9299b8> in <module>\n",
    "----> 1 AbstractDuck()\n",
    "\n",
    "TypeError: Can't instantiate abstract class AbstractDuck with abstract methods quack, walk\n",
    "```\n",
    "\n",
    "### Using your ABCs"
   ]
  },
  {
   "cell_type": "code",
   "execution_count": 7,
   "metadata": {},
   "outputs": [
    {
     "name": "stdout",
     "output_type": "stream",
     "text": [
      "\n",
      "AmericanWigeon :\n",
      "AmericanWigeon walking here\n",
      "AmericanWigeon quacks\n",
      "giving duck food to AmericanWigeon\n"
     ]
    }
   ],
   "source": [
    "class AmericanWigeon(AbstractDuck):\n",
    "    \"\"\"\n",
    "    a wigeon is another type of duck-like bird. cute!\n",
    "    \"\"\"\n",
    "    \n",
    "    def walk(self):\n",
    "        AbstractDuck.walk(self)\n",
    "        \n",
    "    def quack(self):\n",
    "        AbstractDuck.quack(self)\n",
    "        \n",
    "new_duck = AmericanWigeon()\n",
    "treat_the_ducks( [ new_duck ] )"
   ]
  },
  {
   "cell_type": "markdown",
   "metadata": {},
   "source": [
    "### What happens if we don't override all the methods?\n",
    "If a type does not override all the abstract methods of an ABC, it will continue to be abstract and cannot be instantiated\n",
    "\n",
    "```\n",
    "class Cormorant(AbstractDuck):\n",
    "    def walk(self):\n",
    "        print('cormorant walking')\n",
    "        \n",
    "    # notice we haven't overriden the quack() method\n",
    "    \n",
    "bird = Cormorant()\n",
    "---------------------------------------------------------------------------\n",
    "TypeError                                 Traceback (most recent call last)\n",
    "<ipython-input-10-b2c9c88c912b> in <module>\n",
    "      5     # notice we haven't overriden the quack() method\n",
    "      6 \n",
    "----> 7 bird = Cormorant()\n",
    "\n",
    "TypeError: Can't instantiate abstract class Cormorant with abstract methods quack\n",
    "```\n"
   ]
  },
  {
   "cell_type": "markdown",
   "metadata": {},
   "source": [
    "### Using ABCs to check for protocol\n",
    "\n",
    "what if similarly to `treat_the_ducks()`, we need to a write a function that should only work on \n",
    "types that follow the duck protocol?\n",
    "\n",
    "How about using the `isinstance()` function? certainly that would work for objects of type `AmericanWigeon` it inherites from `AbstractDuck`.\n",
    "\n",
    "what about the other duck-like types such as `Duck`, `Mallard`, and `Goose` that we implemented before we wrote AbstractDuck?\n",
    "\n"
   ]
  },
  {
   "cell_type": "code",
   "execution_count": 8,
   "metadata": {},
   "outputs": [
    {
     "name": "stdout",
     "output_type": "stream",
     "text": [
      "AmericanWigeon IS a duck\n",
      "\n",
      "Duck is NOT a duck\n",
      "Mallard is NOT a duck\n",
      "Goose is NOT a duck\n"
     ]
    }
   ],
   "source": [
    "def is_it_a_duck(animal):\n",
    "    \"\"\"\n",
    "    use isinstance() function against AbstractDuck to determine if the given animal is a duck\"\n",
    "    \"\"\"\n",
    "    \n",
    "    is_duck = isinstance(animal, AbstractDuck)\n",
    "    \n",
    "    if is_duck:  print(animal_type_name(animal), 'IS a duck')\n",
    "    else:        print(animal_type_name(animal), 'is NOT a duck')\n",
    "\n",
    "\n",
    "# works as expected\n",
    "is_it_a_duck(AmericanWigeon())\n",
    "\n",
    "print()\n",
    "\n",
    "# unfortunately this method doesn't (YET!) seem to recognize our other duck classes that \n",
    "# didnt inherit from AbstractDuck\n",
    "is_it_a_duck(Duck())\n",
    "is_it_a_duck(Mallard())\n",
    "is_it_a_duck(Goose())\n",
    "\n"
   ]
  },
  {
   "cell_type": "markdown",
   "metadata": {},
   "source": [
    "Do we need to change the code for `Duck`, `Mallard`, and `Goose` to be able to detect that these are also ducks? <br>\n",
    "\n",
    "fortunately, the answer is NO\n",
    "\n",
    "### Registering types\n",
    "We can register  `Duck`, `Mallard`, and `Goose` as also being a sort-of subclass of AbstractDuck using the `AbstractDuck.register()` function\n",
    "\n",
    "after calling this function on our other duck types, calls to `isinstance(animal, AbstractDuck)` will return True. <br>\n",
    "This is called _virtual subclassing_ <br>"
   ]
  },
  {
   "cell_type": "code",
   "execution_count": 9,
   "metadata": {},
   "outputs": [
    {
     "name": "stdout",
     "output_type": "stream",
     "text": [
      "Duck IS a duck\n",
      "Mallard IS a duck\n",
      "Goose IS a duck\n",
      "\n",
      "Lion is NOT a duck\n"
     ]
    }
   ],
   "source": [
    "AbstractDuck.register(Duck)\n",
    "AbstractDuck.register(Mallard)\n",
    "AbstractDuck.register(Goose)\n",
    "\n",
    "# now isinstance() can be used to check if an object is a duck\n",
    "is_it_a_duck(Duck())\n",
    "is_it_a_duck(Mallard())\n",
    "is_it_a_duck(Goose())\n",
    "print()\n",
    "\n",
    "# and obviously, it has no effect on other types we have not registered\n",
    "is_it_a_duck(Lion())\n"
   ]
  },
  {
   "cell_type": "markdown",
   "metadata": {},
   "source": [
    "# Summary\n",
    "What have we learned?\n",
    "1. Learned what polymorphism is, and seen some simple polymorphism examples in python \n",
    "1. We've learned that polymorphism in python is achieved through a simple mechanism known as _duck-typing_\n",
    "1. We've learned that protocols are informal contracts about how objects can be used - often that means which functions these objects must have\n",
    "1. We've learned what Abstract Base Classes (ABCs) are\n",
    "  1. motivation to use ABCs to make sure classes conform to a protocol\n",
    "  1. how to create new ABCs to capture a protocol\n",
    "  1. checking if a class conforms to a protocol by using isinstance with an ABC\n",
    "  1. registering classes that did not inherit from an ABC - virtual subclassing"
   ]
  },
  {
   "cell_type": "code",
   "execution_count": null,
   "metadata": {},
   "outputs": [],
   "source": []
  }
 ],
 "metadata": {
  "kernelspec": {
   "display_name": "Python 3",
   "language": "python",
   "name": "python3"
  },
  "language_info": {
   "codemirror_mode": {
    "name": "ipython",
    "version": 3
   },
   "file_extension": ".py",
   "mimetype": "text/x-python",
   "name": "python",
   "nbconvert_exporter": "python",
   "pygments_lexer": "ipython3",
   "version": "3.6.7"
  }
 },
 "nbformat": 4,
 "nbformat_minor": 2
}
