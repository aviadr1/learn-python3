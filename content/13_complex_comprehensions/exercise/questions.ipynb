{
 "cells": [
  {
   "cell_type": "markdown",
   "metadata": {},
   "source": [
    "\n",
    "<a href=\"https://colab.research.google.com/github/aviadr1/learn-advanced-python/blob/master/content/13_complex_comprehensions/exercise/questions.ipynb\" target=\"_blank\">\n",
    "<img src=\"https://colab.research.google.com/assets/colab-badge.svg\" \n",
    "     title=\"Open this file in Google Colab\" alt=\"Colab\"/>\n",
    "</a>\n"
   ]
  },
  {
   "cell_type": "markdown",
   "metadata": {},
   "source": [
    "# hotel comprehension\n",
    "we have information about a hotel.\n",
    "The hotel has stored its information in a Python list.\n",
    "The list contains lists (representing rooms), and each sublist contains one or more dictionaries (representing people).\n",
    "\n",
    "here's the data structure"
   ]
  },
  {
   "cell_type": "code",
   "execution_count": 11,
   "metadata": {},
   "outputs": [],
   "source": [
    "### useful data about hotel\n",
    "rooms = [[{'age': 14, 'hobby': 'horses', 'name': 'Avram'},  \n",
    "          {'age': 12, 'hobby': 'piano', 'name': 'Betty'},  \n",
    "          {'age': 9, 'hobby': 'chess', 'name': 'Chen'},  \n",
    "          {'age': 15, 'hobby': 'programming', 'name': 'Dov'}],\n",
    "         [{'age': 17, 'hobby': 'driving', 'name': 'Efrat'}],  \n",
    "         [{'age': 45, 'hobby': 'writing', 'name': 'Fred'},  \n",
    "          {'age': 43, 'hobby': 'chess', 'name': 'Greg'},\n",
    "          {'age': 20, 'hobby': 'surfing', 'name': 'Hofit'}]\n",
    "          ]"
   ]
  },
  {
   "cell_type": "markdown",
   "metadata": {},
   "source": [
    "1. What are the names of the people staying at our hotel?"
   ]
  },
  {
   "cell_type": "code",
   "execution_count": 12,
   "metadata": {},
   "outputs": [
    {
     "data": {
      "text/plain": [
       "['Avram', 'Betty', 'Chen', 'Dov', 'Efrat', 'Fred', 'Greg', 'Hofit']"
      ]
     },
     "execution_count": 12,
     "metadata": {},
     "output_type": "execute_result"
    }
   ],
   "source": []
  },
  {
   "cell_type": "markdown",
   "metadata": {},
   "source": [
    "2. What are the names of people staying in our hotel who enjoy chess?"
   ]
  },
  {
   "cell_type": "code",
   "execution_count": 13,
   "metadata": {},
   "outputs": [
    {
     "data": {
      "text/plain": [
       "['Chen', 'Greg']"
      ]
     },
     "execution_count": 13,
     "metadata": {},
     "output_type": "execute_result"
    }
   ],
   "source": []
  },
  {
   "cell_type": "markdown",
   "metadata": {},
   "source": [
    "3. what unique hobbies are enjoyed in rooms with at least 2 people?"
   ]
  },
  {
   "cell_type": "code",
   "execution_count": 14,
   "metadata": {},
   "outputs": [
    {
     "data": {
      "text/plain": [
       "{'chess', 'horses', 'piano', 'programming', 'surfing', 'writing'}"
      ]
     },
     "execution_count": 14,
     "metadata": {},
     "output_type": "execute_result"
    }
   ],
   "source": []
  },
  {
   "cell_type": "markdown",
   "metadata": {},
   "source": [
    "# group by length of word\n",
    "given a list of words\n",
    "```\n",
    "words = ['everything', 'should', 'be', 'as', 'simple', 'as', 'possible',\n",
    "         'but', 'no', 'simpler', 'albert', 'einstein'\n",
    "        ]\n",
    "```\n",
    "\n",
    "creat a nested list of words, grouped by the length of the words\n",
    "```\n",
    "grouped_by_len = [\n",
    "     [],\n",
    "     ['be', 'as', 'as', 'no'],\n",
    "     ['but'],\n",
    "     [],\n",
    "     [],\n",
    "     ['should', 'simple', 'albert'],\n",
    "     ['simpler'],\n",
    "     ['possible', 'einstein'],\n",
    "     [],\n",
    "     ['everything']\n",
    "    ]\n",
    "```"
   ]
  },
  {
   "cell_type": "code",
   "execution_count": 2,
   "metadata": {},
   "outputs": [
    {
     "data": {
      "text/plain": [
       "[[],\n",
       " ['be', 'as', 'as', 'no'],\n",
       " ['but'],\n",
       " [],\n",
       " [],\n",
       " ['should', 'simple', 'albert'],\n",
       " ['simpler'],\n",
       " ['possible', 'einstein'],\n",
       " [],\n",
       " ['everything']]"
      ]
     },
     "execution_count": 2,
     "metadata": {},
     "output_type": "execute_result"
    }
   ],
   "source": []
  },
  {
   "cell_type": "markdown",
   "metadata": {},
   "source": [
    "# tranform a nested list\n",
    "given a nested list of numbers\n",
    "```\n",
    "nums = [\n",
    " [-3],\n",
    " [-2, -1],\n",
    " [0, 1, 2],\n",
    " [3, 4, 5, 6],\n",
    " [7, 8, 9, 10, 11]\n",
    " ]\n",
    "```\n",
    "\n",
    "transform it into a list of the cumulative sums\n",
    "```\n",
    "cumsum = [\n",
    " [-3],\n",
    " [-2, -3],\n",
    " [0, 1, 3],\n",
    " [3, 7, 12, 18],\n",
    " [7, 15, 24, 34, 45]\n",
    " ]\n",
    "```\n",
    "\n",
    "hint: you may use this code to calculate a cumulative sum for a list:\n",
    "```\n",
    "def cumsum(lst_):\n",
    "    total = 0\n",
    "    for val in lst:\n",
    "        total += val\n",
    "        yield total\n",
    "```"
   ]
  },
  {
   "cell_type": "code",
   "execution_count": 6,
   "metadata": {},
   "outputs": [
    {
     "data": {
      "text/plain": [
       "[[-3], [-2, -3], [0, 1, 3], [3, 7, 12, 18], [7, 15, 24, 34, 45]]"
      ]
     },
     "execution_count": 6,
     "metadata": {},
     "output_type": "execute_result"
    }
   ],
   "source": []
  },
  {
   "cell_type": "code",
   "execution_count": null,
   "metadata": {},
   "outputs": [],
   "source": []
  }
 ],
 "metadata": {
  "colab": {
   "name": "questions.ipynb"
  },
  "kernelspec": {
   "display_name": "Python 3",
   "language": "python",
   "name": "python3"
  },
  "language_info": {
   "codemirror_mode": {
    "name": "ipython",
    "version": 3
   },
   "file_extension": ".py",
   "mimetype": "text/x-python",
   "name": "python",
   "nbconvert_exporter": "python",
   "pygments_lexer": "ipython3",
   "version": "3.7.3"
  }
 },
 "nbformat": 4,
 "nbformat_minor": 2
}
