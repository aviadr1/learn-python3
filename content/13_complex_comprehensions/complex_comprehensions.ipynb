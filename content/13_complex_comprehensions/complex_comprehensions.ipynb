{
 "cells": [
  {
   "cell_type": "markdown",
   "metadata": {},
   "source": [
    "\n",
    "<a href=\"https://colab.research.google.com/github/aviadr1/learn-advanced-python/blob/master/content/13_complex_comprehensions/complex_comprehensions.ipynb\" target=\"_blank\">\n",
    "<img src=\"https://colab.research.google.com/assets/colab-badge.svg\" \n",
    "     title=\"Open this file in Google Colab\" alt=\"Colab\"/>\n",
    "</a>\n"
   ]
  },
  {
   "cell_type": "markdown",
   "metadata": {},
   "source": [
    "# writing and understanding nested list comprehensions\n",
    "![gif](https://i.stack.imgur.com/0GoV5.gif)\n",
    "\n",
    "every once in a while, one wants to write a complex or a nested list comprehension.\n",
    "common examples are \n",
    "1. flattening a nested list, \n",
    "2. transforming a nested list\n",
    "3. making a nested list out of a flattened one.\n",
    "\n",
    "many people find nested list comprehensions hard to read/write at first.\n",
    "but there's a simple trick to it!\n",
    "\n",
    "> if you can write your code using nested for loops, converting to nested list comprehensions is trivial\n",
    "\n",
    "Here is how to convert nested for loop to nested list comprehension:\n",
    "\n",
    "Here is how nested list comprehension works:\n",
    "\n",
    "                l a b c d e f\n",
    "                ↓ ↓ ↓ ↓ ↓ ↓ ↓\n",
    "    In [1]: l = [ [ [ [ [ [ 1 ] ] ] ] ] ]\n",
    "    In [2]: for a in l:\n",
    "       ...:     for b in a:\n",
    "       ...:         for c in b:\n",
    "       ...:             for d in c:\n",
    "       ...:                 for e in d:\n",
    "       ...:                     for f in e:\n",
    "       ...:                         print(float(f))\n",
    "       ...:                         \n",
    "    1.0\n",
    "    \n",
    "    In [3]: [float(f)\n",
    "             for a in l\n",
    "       ...:     for b in a\n",
    "       ...:         for c in b\n",
    "       ...:             for d in c\n",
    "       ...:                 for e in d\n",
    "       ...:                     for f in e]\n",
    "    Out[3]: [1.0]\n",
    "    \n",
    "    #Which can be written in single line as\n",
    "    In [4]: [float(f) for a in l for b in a for c in b for d in c for e in d for f in e]\n",
    "    Out[4]: [1.0]\n",
    "\n",
    "\n",
    "  [1]: https://i.stack.imgur.com/0GoV5.gif"
   ]
  },
  {
   "cell_type": "code",
   "execution_count": 1,
   "metadata": {},
   "outputs": [
    {
     "data": {
      "text/plain": [
       "53"
      ]
     },
     "execution_count": 1,
     "metadata": {},
     "output_type": "execute_result"
    }
   ],
   "source": [
    "prices = {\n",
    "    \"apple\" : 14,\n",
    "    \"melon\" : 5,\n",
    "    \"grapes\" : 25,\n",
    "    \"banana\" : 8\n",
    "}\n",
    "\n",
    "purchase = ['apple', 'apple', 'grapes']\n",
    "\n",
    "# how much does it cost?\n",
    "sum([prices[fruit] for fruit in purchase])"
   ]
  },
  {
   "cell_type": "markdown",
   "metadata": {},
   "source": [
    "## Examples\n",
    "Lets see some examples"
   ]
  },
  {
   "cell_type": "markdown",
   "metadata": {},
   "source": [
    "### create nested list\n",
    "I want to create a matrix which looks like below:\n",
    "```\n",
    "matrix = [[0, 1, 2, 3, 4, 5]\n",
    "          [0, 1, 2, 3, 4, 5],\n",
    "          [0, 1, 2, 3, 4, 5],\n",
    "          [0, 1, 2, 3, 4, 5],\n",
    "          [0, 1, 2, 3, 4, 5]]\n",
    "```"
   ]
  },
  {
   "cell_type": "code",
   "execution_count": 5,
   "metadata": {},
   "outputs": [
    {
     "name": "stdout",
     "output_type": "stream",
     "text": [
      "[[0, 1, 2, 3, 4, 5],\n",
      " [0, 1, 2, 3, 4, 5],\n",
      " [0, 1, 2, 3, 4, 5],\n",
      " [0, 1, 2, 3, 4, 5],\n",
      " [0, 1, 2, 3, 4, 5]]\n"
     ]
    }
   ],
   "source": [
    "from pprint import pprint\n",
    "\n",
    "nrows = 5\n",
    "ncols = 6\n",
    "\n",
    "matrix = []\n",
    "for i in range(nrows):\n",
    "    row = []\n",
    "    matrix.append(row)\n",
    "    for j in range(ncols):\n",
    "        row.append(j)\n",
    "\n",
    "pprint(matrix)"
   ]
  },
  {
   "cell_type": "code",
   "execution_count": 9,
   "metadata": {},
   "outputs": [
    {
     "data": {
      "text/plain": [
       "[[0, 1, 2, 3, 4, 5],\n",
       " [0, 1, 2, 3, 4, 5],\n",
       " [0, 1, 2, 3, 4, 5],\n",
       " [0, 1, 2, 3, 4, 5],\n",
       " [0, 1, 2, 3, 4, 5]]"
      ]
     },
     "execution_count": 9,
     "metadata": {},
     "output_type": "execute_result"
    }
   ],
   "source": [
    "[[j for j in range(ncols)] for i in range(nrows)]"
   ]
  },
  {
   "cell_type": "markdown",
   "metadata": {},
   "source": [
    "### flatten 2d list\n",
    "Suppose I want to flatten a given 2-D list:\n",
    "```\n",
    "matrix = [[1, 2, 3], [4, 5, 6], [7, 8, 9]]\n",
    "```\n",
    "Expected Output: \n",
    "```\n",
    "flatten_matrix = [1, 2, 3, 4, 5, 6, 7, 8, 9]\n",
    "```"
   ]
  },
  {
   "cell_type": "code",
   "execution_count": 10,
   "metadata": {},
   "outputs": [],
   "source": [
    "matrix = [[1, 2, 3], \n",
    "          [4, 5, 6], \n",
    "          [7, 8, 9]]"
   ]
  },
  {
   "cell_type": "code",
   "execution_count": 11,
   "metadata": {},
   "outputs": [
    {
     "name": "stdout",
     "output_type": "stream",
     "text": [
      "[1, 2, 3, 4, 5, 6, 7, 8, 9]\n"
     ]
    }
   ],
   "source": [
    "flatten_matrix = []\n",
    "for row in matrix:\n",
    "    for val in row:\n",
    "        flatten_matrix.append(val)\n",
    "        \n",
    "pprint(flatten_matrix)"
   ]
  },
  {
   "cell_type": "code",
   "execution_count": 12,
   "metadata": {},
   "outputs": [
    {
     "data": {
      "text/plain": [
       "[1, 2, 3, 4, 5, 6, 7, 8, 9]"
      ]
     },
     "execution_count": 12,
     "metadata": {},
     "output_type": "execute_result"
    }
   ],
   "source": [
    "[val for row in matrix for val in row]"
   ]
  },
  {
   "cell_type": "markdown",
   "metadata": {},
   "source": [
    "### flatten 2d list with condition\n",
    "\n",
    "Suppose I want to flatten a given 2-D list and only include those strings whose lengths are less than 6:\n",
    "```\n",
    "planets = [['Mercury', 'Venus', 'Earth'], ['Mars', 'Jupiter', 'Saturn'], ['Uranus', 'Neptune', 'Pluto']] \n",
    "```\n",
    "Expected Output: \n",
    "```\n",
    "flatten_planets = ['Venus', 'Earth', 'Mars', 'Pluto']\n",
    "```"
   ]
  },
  {
   "cell_type": "code",
   "execution_count": 14,
   "metadata": {},
   "outputs": [],
   "source": [
    "planets = [['Mercury', 'Venus', 'Earth'], ['Mars', 'Jupiter', 'Saturn'], ['Uranus', 'Neptune', 'Pluto']] "
   ]
  },
  {
   "cell_type": "code",
   "execution_count": 6,
   "metadata": {},
   "outputs": [
    {
     "ename": "NameError",
     "evalue": "name 'planets' is not defined",
     "output_type": "error",
     "traceback": [
      "\u001b[1;31m---------------------------------------------------------------------------\u001b[0m",
      "\u001b[1;31mNameError\u001b[0m                                 Traceback (most recent call last)",
      "\u001b[1;32m<ipython-input-6-e655bda092b8>\u001b[0m in \u001b[0;36m<module>\u001b[1;34m\u001b[0m\n\u001b[0;32m      1\u001b[0m \u001b[0mflatten_planets\u001b[0m \u001b[1;33m=\u001b[0m \u001b[1;33m[\u001b[0m\u001b[1;33m]\u001b[0m\u001b[1;33m\u001b[0m\u001b[1;33m\u001b[0m\u001b[0m\n\u001b[1;32m----> 2\u001b[1;33m \u001b[1;32mfor\u001b[0m \u001b[0mplanet_group\u001b[0m \u001b[1;32min\u001b[0m \u001b[0mplanets\u001b[0m\u001b[1;33m:\u001b[0m\u001b[1;33m\u001b[0m\u001b[1;33m\u001b[0m\u001b[0m\n\u001b[0m\u001b[0;32m      3\u001b[0m     \u001b[1;32mfor\u001b[0m \u001b[0mplanet\u001b[0m \u001b[1;32min\u001b[0m \u001b[0mplanet_group\u001b[0m\u001b[1;33m:\u001b[0m\u001b[1;33m\u001b[0m\u001b[1;33m\u001b[0m\u001b[0m\n\u001b[0;32m      4\u001b[0m         \u001b[1;32mif\u001b[0m \u001b[0mlen\u001b[0m\u001b[1;33m(\u001b[0m\u001b[0mplanet\u001b[0m\u001b[1;33m)\u001b[0m \u001b[1;33m<\u001b[0m \u001b[1;36m6\u001b[0m\u001b[1;33m:\u001b[0m\u001b[1;33m\u001b[0m\u001b[1;33m\u001b[0m\u001b[0m\n\u001b[0;32m      5\u001b[0m             \u001b[0mflatten_planets\u001b[0m\u001b[1;33m.\u001b[0m\u001b[0mappend\u001b[0m\u001b[1;33m(\u001b[0m\u001b[0mplanet\u001b[0m\u001b[1;33m)\u001b[0m\u001b[1;33m\u001b[0m\u001b[1;33m\u001b[0m\u001b[0m\n",
      "\u001b[1;31mNameError\u001b[0m: name 'planets' is not defined"
     ]
    }
   ],
   "source": [
    "flatten_planets = []\n",
    "for planet_group in planets:\n",
    "    for planet in planet_group:\n",
    "        if len(planet) < 6:\n",
    "            flatten_planets.append(planet)\n",
    "            \n",
    "pprint(flatten_planets)"
   ]
  },
  {
   "cell_type": "code",
   "execution_count": 16,
   "metadata": {},
   "outputs": [
    {
     "data": {
      "text/plain": [
       "['Venus', 'Earth', 'Mars', 'Pluto']"
      ]
     },
     "execution_count": 16,
     "metadata": {},
     "output_type": "execute_result"
    }
   ],
   "source": [
    "[planet for planet_group in planets for planet in planet_group if len(planet) < 6]"
   ]
  },
  {
   "cell_type": "markdown",
   "metadata": {},
   "source": [
    "### complex flattening and transform\n",
    "One final, more complex example: Let’s say that we have a list of lists of words \n",
    "```\n",
    "strings = [ ['foo', 'bar'], ['baz', 'taz'], ['w', 'koko'] ]\n",
    "```\n",
    "and we want \n",
    "1. to get a list of all the letters of these words \n",
    "2. along with the index of the list they belong to \n",
    "3. but only for words with more than two characters. \n"
   ]
  },
  {
   "cell_type": "code",
   "execution_count": 3,
   "metadata": {},
   "outputs": [],
   "source": [
    "strings = [ ['foo', 'bar'], ['baz', 'taz'], ['w', 'koko'] ]"
   ]
  },
  {
   "cell_type": "code",
   "execution_count": 7,
   "metadata": {},
   "outputs": [
    {
     "name": "stdout",
     "output_type": "stream",
     "text": [
      "[['f', 0],\n",
      " ['o', 0],\n",
      " ['o', 0],\n",
      " ['b', 0],\n",
      " ['a', 0],\n",
      " ['r', 0],\n",
      " ['b', 1],\n",
      " ['a', 1],\n",
      " ['z', 1],\n",
      " ['t', 1],\n",
      " ['a', 1],\n",
      " ['z', 1],\n",
      " ['k', 2],\n",
      " ['o', 2],\n",
      " ['k', 2],\n",
      " ['o', 2]]\n"
     ]
    }
   ],
   "source": [
    "output = []\n",
    "for idx, group in enumerate(strings):\n",
    "    for word in group:\n",
    "        if len(word) > 2:\n",
    "            for letter in word:\n",
    "                output.append( [letter, idx])\n",
    "                \n",
    "pprint(output)"
   ]
  },
  {
   "cell_type": "code",
   "execution_count": 9,
   "metadata": {},
   "outputs": [
    {
     "data": {
      "text/plain": [
       "[['f', 0],\n",
       " ['o', 0],\n",
       " ['o', 0],\n",
       " ['b', 0],\n",
       " ['a', 0],\n",
       " ['r', 0],\n",
       " ['b', 1],\n",
       " ['a', 1],\n",
       " ['z', 1],\n",
       " ['t', 1],\n",
       " ['a', 1],\n",
       " ['z', 1],\n",
       " ['k', 2],\n",
       " ['o', 2],\n",
       " ['k', 2],\n",
       " ['o', 2]]"
      ]
     },
     "execution_count": 9,
     "metadata": {},
     "output_type": "execute_result"
    }
   ],
   "source": [
    "[ [letter, idx] for idx, group in enumerate(strings) for word in group if len(word)>2 for letter in word]"
   ]
  },
  {
   "cell_type": "markdown",
   "metadata": {},
   "source": [
    "## create groups of 3 from flat list\n",
    "given a flat list\n",
    "```\n",
    "flat = [0, 1, 2, 3, 4, 5, 6, 7, 8, 9, 10, 11, 12, 13, 14, 15, 16, 17, 18, 19]\n",
    "```\n",
    "group the elements into triplets and create a nested list\n",
    "```\n",
    "nested_3s = [[0, 1, 2],\n",
    "             [3, 4, 5],\n",
    "             [6, 7, 8],\n",
    "             [9, 10, 11],\n",
    "             [12, 13, 14],\n",
    "             [15, 16, 17],\n",
    "             [18, 19    ]]\n",
    "```"
   ]
  },
  {
   "cell_type": "code",
   "execution_count": 11,
   "metadata": {},
   "outputs": [],
   "source": [
    "flat = [0, 1, 2, 3, 4, 5, 6, 7, 8, 9, 10, 11, 12, 13, 14, 15, 16, 17, 18, 19]"
   ]
  },
  {
   "cell_type": "code",
   "execution_count": 12,
   "metadata": {},
   "outputs": [
    {
     "name": "stdout",
     "output_type": "stream",
     "text": [
      "[[0, 1, 2],\n",
      " [3, 4, 5],\n",
      " [6, 7, 8],\n",
      " [9, 10, 11],\n",
      " [12, 13, 14],\n",
      " [15, 16, 17],\n",
      " [18, 19]]\n"
     ]
    }
   ],
   "source": [
    "output = []\n",
    "for i in range(0, len(flat), 3):\n",
    "    triplet = flat[i:i+3]\n",
    "    output.append(triplet)\n",
    "    \n",
    "pprint(output)"
   ]
  },
  {
   "cell_type": "code",
   "execution_count": 13,
   "metadata": {},
   "outputs": [
    {
     "data": {
      "text/plain": [
       "[[0, 1, 2],\n",
       " [3, 4, 5],\n",
       " [6, 7, 8],\n",
       " [9, 10, 11],\n",
       " [12, 13, 14],\n",
       " [15, 16, 17],\n",
       " [18, 19]]"
      ]
     },
     "execution_count": 13,
     "metadata": {},
     "output_type": "execute_result"
    }
   ],
   "source": [
    "[flat[i:i+3] for i in range(0, len(flat), 3) ]"
   ]
  }
 ],
 "metadata": {
  "kernelspec": {
   "display_name": "Python 3",
   "language": "python",
   "name": "python3"
  },
  "language_info": {
   "codemirror_mode": {
    "name": "ipython",
    "version": 3
   },
   "file_extension": ".py",
   "mimetype": "text/x-python",
   "name": "python",
   "nbconvert_exporter": "python",
   "pygments_lexer": "ipython3",
   "version": "3.7.4"
  }
 },
 "nbformat": 4,
 "nbformat_minor": 2
}
