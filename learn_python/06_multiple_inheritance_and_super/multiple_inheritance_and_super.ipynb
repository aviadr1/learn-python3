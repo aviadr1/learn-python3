{
 "cells": [
  {
   "cell_type": "markdown",
   "metadata": {},
   "source": [
    "\n",
    "<a href=\"https://colab.research.google.com/github/aviadr1/learn-advanced-python/blob/master/content/06_multiple_inheritance_and_super/multiple_inheritance_and_super.ipynb\" target=\"_blank\">\n",
    "<img src=\"https://colab.research.google.com/assets/colab-badge.svg\" \n",
    "     title=\"Open this file in Google Colab\" alt=\"Colab\"/>\n",
    "</a>\n"
   ]
  },
  {
   "cell_type": "markdown",
   "metadata": {},
   "source": [
    "### super() and multiple inheritance\n",
    "\n",
    "Lets consider a complicated diamond multiple inheritance scenario.\n",
    "\n",
    ">> _hint_: multiple inheritance is not trivial to implement, and this example will show super() is not a silver bullt"
   ]
  },
  {
   "cell_type": "code",
   "execution_count": 1,
   "metadata": {},
   "outputs": [
    {
     "name": "stdout",
     "output_type": "stream",
     "text": [
      "E arg= 10\n",
      "C arg= 10\n",
      "A\n",
      "D arg= 10\n",
      "B\n"
     ]
    },
    {
     "data": {
      "text/plain": [
       "<__main__.E at 0x68b1fd0>"
      ]
     },
     "execution_count": 1,
     "metadata": {},
     "output_type": "execute_result"
    }
   ],
   "source": [
    "class A:\n",
    "    def __init__(self):\n",
    "        print(\"A\")\n",
    "\n",
    "class B:\n",
    "    def __init__(self):\n",
    "        print(\"B\")\n",
    "\n",
    "class C(A):\n",
    "    def __init__(self, arg):\n",
    "        print(\"C\",\"arg=\",arg)\n",
    "        A.__init__(self)\n",
    "\n",
    "class D(B):\n",
    "    def __init__(self, arg):\n",
    "        print(\"D\", \"arg=\",arg)\n",
    "        B.__init__(self)\n",
    "\n",
    "class E(C,D):\n",
    "    def __init__(self, arg):\n",
    "        print(\"E\", \"arg=\",arg) \n",
    "        C.__init__(self, arg)\n",
    "        D.__init__(self, arg)\n",
    "\n",
    "E(10)"
   ]
  },
  {
   "cell_type": "markdown",
   "metadata": {},
   "source": [
    "we want to rewrite this example using super()\n",
    "\n",
    "> super() actually returns a proxy object that understands the _MRO_ of the object <br>\n",
    "> and will call the _next_ function in the hierarchy, like so:\n",
    "\n",
    "![class diagram](https://fuhm.net/super-harmful/example1-2.png)"
   ]
  },
  {
   "cell_type": "code",
   "execution_count": 2,
   "metadata": {},
   "outputs": [
    {
     "name": "stdout",
     "output_type": "stream",
     "text": [
      "MRO: ['E', 'C', 'A', 'D', 'B', 'object']\n",
      "E arg= 10\n",
      "C arg= 10\n",
      "A\n"
     ]
    },
    {
     "ename": "TypeError",
     "evalue": "__init__() missing 1 required positional argument: 'arg'",
     "output_type": "error",
     "traceback": [
      "\u001b[1;31m---------------------------------------------------------------------------\u001b[0m",
      "\u001b[1;31mTypeError\u001b[0m                                 Traceback (most recent call last)",
      "\u001b[1;32m<ipython-input-2-7c928c6c4b55>\u001b[0m in \u001b[0;36m<module>\u001b[1;34m\u001b[0m\n\u001b[0;32m     25\u001b[0m \u001b[1;33m\u001b[0m\u001b[0m\n\u001b[0;32m     26\u001b[0m \u001b[0mprint\u001b[0m\u001b[1;33m(\u001b[0m\u001b[1;34m\"MRO:\"\u001b[0m\u001b[1;33m,\u001b[0m \u001b[1;33m[\u001b[0m\u001b[0mx\u001b[0m\u001b[1;33m.\u001b[0m\u001b[0m__name__\u001b[0m \u001b[1;32mfor\u001b[0m \u001b[0mx\u001b[0m \u001b[1;32min\u001b[0m \u001b[0mE\u001b[0m\u001b[1;33m.\u001b[0m\u001b[0m__mro__\u001b[0m\u001b[1;33m]\u001b[0m\u001b[1;33m)\u001b[0m\u001b[1;33m\u001b[0m\u001b[1;33m\u001b[0m\u001b[0m\n\u001b[1;32m---> 27\u001b[1;33m \u001b[0mE\u001b[0m\u001b[1;33m(\u001b[0m\u001b[1;36m10\u001b[0m\u001b[1;33m)\u001b[0m \u001b[1;31m# this won't work\u001b[0m\u001b[1;33m\u001b[0m\u001b[1;33m\u001b[0m\u001b[0m\n\u001b[0m",
      "\u001b[1;32m<ipython-input-2-7c928c6c4b55>\u001b[0m in \u001b[0;36m__init__\u001b[1;34m(self, arg)\u001b[0m\n\u001b[0;32m     22\u001b[0m     \u001b[1;32mdef\u001b[0m \u001b[0m__init__\u001b[0m\u001b[1;33m(\u001b[0m\u001b[0mself\u001b[0m\u001b[1;33m,\u001b[0m \u001b[0marg\u001b[0m\u001b[1;33m)\u001b[0m\u001b[1;33m:\u001b[0m\u001b[1;33m\u001b[0m\u001b[1;33m\u001b[0m\u001b[0m\n\u001b[0;32m     23\u001b[0m         \u001b[0mprint\u001b[0m\u001b[1;33m(\u001b[0m\u001b[1;34m\"E\"\u001b[0m\u001b[1;33m,\u001b[0m \u001b[1;34m\"arg=\"\u001b[0m\u001b[1;33m,\u001b[0m\u001b[0marg\u001b[0m\u001b[1;33m)\u001b[0m\u001b[1;33m\u001b[0m\u001b[1;33m\u001b[0m\u001b[0m\n\u001b[1;32m---> 24\u001b[1;33m         \u001b[0msuper\u001b[0m\u001b[1;33m(\u001b[0m\u001b[1;33m)\u001b[0m\u001b[1;33m.\u001b[0m\u001b[0m__init__\u001b[0m\u001b[1;33m(\u001b[0m\u001b[0marg\u001b[0m\u001b[1;33m)\u001b[0m\u001b[1;33m\u001b[0m\u001b[1;33m\u001b[0m\u001b[0m\n\u001b[0m\u001b[0;32m     25\u001b[0m \u001b[1;33m\u001b[0m\u001b[0m\n\u001b[0;32m     26\u001b[0m \u001b[0mprint\u001b[0m\u001b[1;33m(\u001b[0m\u001b[1;34m\"MRO:\"\u001b[0m\u001b[1;33m,\u001b[0m \u001b[1;33m[\u001b[0m\u001b[0mx\u001b[0m\u001b[1;33m.\u001b[0m\u001b[0m__name__\u001b[0m \u001b[1;32mfor\u001b[0m \u001b[0mx\u001b[0m \u001b[1;32min\u001b[0m \u001b[0mE\u001b[0m\u001b[1;33m.\u001b[0m\u001b[0m__mro__\u001b[0m\u001b[1;33m]\u001b[0m\u001b[1;33m)\u001b[0m\u001b[1;33m\u001b[0m\u001b[1;33m\u001b[0m\u001b[0m\n",
      "\u001b[1;32m<ipython-input-2-7c928c6c4b55>\u001b[0m in \u001b[0;36m__init__\u001b[1;34m(self, arg)\u001b[0m\n\u001b[0;32m     12\u001b[0m     \u001b[1;32mdef\u001b[0m \u001b[0m__init__\u001b[0m\u001b[1;33m(\u001b[0m\u001b[0mself\u001b[0m\u001b[1;33m,\u001b[0m \u001b[0marg\u001b[0m\u001b[1;33m)\u001b[0m\u001b[1;33m:\u001b[0m\u001b[1;33m\u001b[0m\u001b[1;33m\u001b[0m\u001b[0m\n\u001b[0;32m     13\u001b[0m         \u001b[0mprint\u001b[0m\u001b[1;33m(\u001b[0m\u001b[1;34m\"C\"\u001b[0m\u001b[1;33m,\u001b[0m\u001b[1;34m\"arg=\"\u001b[0m\u001b[1;33m,\u001b[0m\u001b[0marg\u001b[0m\u001b[1;33m)\u001b[0m\u001b[1;33m\u001b[0m\u001b[1;33m\u001b[0m\u001b[0m\n\u001b[1;32m---> 14\u001b[1;33m         \u001b[0msuper\u001b[0m\u001b[1;33m(\u001b[0m\u001b[1;33m)\u001b[0m\u001b[1;33m.\u001b[0m\u001b[0m__init__\u001b[0m\u001b[1;33m(\u001b[0m\u001b[1;33m)\u001b[0m\u001b[1;33m\u001b[0m\u001b[1;33m\u001b[0m\u001b[0m\n\u001b[0m\u001b[0;32m     15\u001b[0m \u001b[1;33m\u001b[0m\u001b[0m\n\u001b[0;32m     16\u001b[0m \u001b[1;32mclass\u001b[0m \u001b[0mD\u001b[0m\u001b[1;33m(\u001b[0m\u001b[0mB\u001b[0m\u001b[1;33m)\u001b[0m\u001b[1;33m:\u001b[0m\u001b[1;33m\u001b[0m\u001b[1;33m\u001b[0m\u001b[0m\n",
      "\u001b[1;32m<ipython-input-2-7c928c6c4b55>\u001b[0m in \u001b[0;36m__init__\u001b[1;34m(self)\u001b[0m\n\u001b[0;32m      2\u001b[0m     \u001b[1;32mdef\u001b[0m \u001b[0m__init__\u001b[0m\u001b[1;33m(\u001b[0m\u001b[0mself\u001b[0m\u001b[1;33m)\u001b[0m\u001b[1;33m:\u001b[0m\u001b[1;33m\u001b[0m\u001b[1;33m\u001b[0m\u001b[0m\n\u001b[0;32m      3\u001b[0m         \u001b[0mprint\u001b[0m\u001b[1;33m(\u001b[0m\u001b[1;34m\"A\"\u001b[0m\u001b[1;33m)\u001b[0m\u001b[1;33m\u001b[0m\u001b[1;33m\u001b[0m\u001b[0m\n\u001b[1;32m----> 4\u001b[1;33m         \u001b[0msuper\u001b[0m\u001b[1;33m(\u001b[0m\u001b[1;33m)\u001b[0m\u001b[1;33m.\u001b[0m\u001b[0m__init__\u001b[0m\u001b[1;33m(\u001b[0m\u001b[1;33m)\u001b[0m\u001b[1;33m\u001b[0m\u001b[1;33m\u001b[0m\u001b[0m\n\u001b[0m\u001b[0;32m      5\u001b[0m \u001b[1;33m\u001b[0m\u001b[0m\n\u001b[0;32m      6\u001b[0m \u001b[1;32mclass\u001b[0m \u001b[0mB\u001b[0m\u001b[1;33m(\u001b[0m\u001b[0mobject\u001b[0m\u001b[1;33m)\u001b[0m\u001b[1;33m:\u001b[0m\u001b[1;33m\u001b[0m\u001b[1;33m\u001b[0m\u001b[0m\n",
      "\u001b[1;31mTypeError\u001b[0m: __init__() missing 1 required positional argument: 'arg'"
     ]
    }
   ],
   "source": [
    "class A:\n",
    "    def __init__(self):\n",
    "        print(\"A\")\n",
    "        super().__init__()\n",
    "\n",
    "class B(object):\n",
    "    def __init__(self):\n",
    "        print(\"B\")\n",
    "        super().__init__()\n",
    "\n",
    "class C(A):\n",
    "    def __init__(self, arg):\n",
    "        print(\"C\",\"arg=\",arg)\n",
    "        super().__init__()\n",
    "\n",
    "class D(B):\n",
    "    def __init__(self, arg):\n",
    "        print(\"D\", \"arg=\",arg)\n",
    "        super().__init__()\n",
    "\n",
    "class E(C,D):\n",
    "    def __init__(self, arg):\n",
    "        print(\"E\", \"arg=\",arg)\n",
    "        super().__init__(arg)\n",
    "\n",
    "print(\"MRO:\", [x.__name__ for x in E.__mro__])\n",
    "E(10) # this won't work\n"
   ]
  },
  {
   "cell_type": "markdown",
   "metadata": {},
   "source": [
    "#### What's happening here?\n",
    "\n",
    "![class diagram](https://fuhm.net/super-harmful/example1-2.png)\n",
    "\n",
    "```\n",
    "<ipython-input-32-7c928c6c4b55> in __init__(self)\n",
    "      2     def __init__(self):\n",
    "      3         print(\"A\")\n",
    "----> 4         super().__init__()\n",
    "      5 \n",
    "      6 class B(object):\n",
    "\n",
    "TypeError: __init__() missing 1 required positional argument: 'arg'\n",
    "```\n",
    "\n",
    "Look at the MRO:\n",
    "```\n",
    "MRO: ['E', 'C', 'A', 'D', 'B', 'object']\n",
    "```\n",
    "\n",
    "looks like A's `__init__` function is calling D's `__init__ ` function, even though A does not inherit from D ... this makes sense since we want to make sure that all the `__init__` functions in the hierarchy are being called exactly once ... \n",
    "\n",
    "> _super does not call your superclass. You must be prepared to call any other class's method in the hierarchy and be prepared to be called from any other class's method._\n",
    "\n",
    "but how do we solve the issue?"
   ]
  },
  {
   "cell_type": "markdown",
   "metadata": {},
   "source": [
    "\n",
    "##### using super() in a multiple inheritance setting\n",
    "We need to keep to principles in mind:\n",
    "\n",
    "1. `super()`  usage has to be consistent: In a class hierarchy, super should be used everywhere or nowhere. is part of the contract of the class. if one classes uses `super()` all the classes _MUST_ also use `super()` in the same way, or otherwise we might call certain functions in the hierarchy zero times, or more than once <br><br>\n",
    "\n",
    "1. to correctly support `__init__` functions with any parameters, the top-level classes in your hierarchy must inherit from a custom class like SuperObject:\n",
    "\n",
    "    ```\n",
    "    # module superobject in this repository\n",
    "    class SuperObject:        \n",
    "        def __init__(self, **kwargs):\n",
    "            mro = type(self).__mro__\n",
    "            assert mro[-1] is object\n",
    "            if mro[-2] is not SuperObject:\n",
    "                raise TypeError(\n",
    "                    'all top-level classes in this hierarchy must inherit from SuperObject',\n",
    "                    'the last class in the MRO should be SuperObject',\n",
    "                    f'mro={[cls.__name__ for cls in mro]}'\n",
    "                )\n",
    "\n",
    "            # super().__init__ is guaranteed to be object.__init__        \n",
    "            init = super().__init__\n",
    "            init()\n",
    "            \n",
    "    def super_call(self, super_, funcname, **kwargs):\n",
    "        \"\"\"\n",
    "        cooperatively calls a function on super. \n",
    "        usage:\n",
    "            self.super_call(super(), 'my_method_name', param1='example', param2='whatever')\n",
    "        \"\"\"\n",
    "        super_func = getattr(super_, funcname, None)\n",
    "        if super_func is not None:\n",
    "            return super_func(**kwargs)\n",
    "\n",
    "    ```\n",
    "   > i've added SuperObject to a module in this git repository\n",
    "   > you can use SuperObject in your own code by importing it:\n",
    "   ```\n",
    "   from superobject import SuperObject\n",
    "   ```\n",
    "\n",
    "1. when calling functions on `super()` make sure you take into account the fact that `class object` may not have that function and therefore the call might fail. avoid this by using a function like `SuperObject.super_call()` <br><br>\n",
    "\n",
    "1. if a overriden functions in the class hierarchy can take differing arguments, always pass all arguments you received on to the super function as keyword arguments, and, always accept **kwargs.\n",
    "\n",
    "For more details, see my writeup [super() and changing the signature of cooperative methods](https://stackoverflow.com/a/56714809/52917)\n"
   ]
  },
  {
   "cell_type": "markdown",
   "metadata": {},
   "source": [
    "#### Example rewritten to support these principles"
   ]
  },
  {
   "cell_type": "code",
   "execution_count": 6,
   "metadata": {},
   "outputs": [
    {
     "name": "stdout",
     "output_type": "stream",
     "text": [
      "E name=python age=28\n",
      "C age=28\n",
      "A\n",
      "D name=python\n",
      "B\n",
      "SuperObject\n",
      "\n",
      "B test param2=p2\n",
      "D test param2=p2 param4=p4\n",
      "A test param1=p1\n",
      "C test param1=p1 param3=p3\n"
     ]
    }
   ],
   "source": [
    "from superobject import SuperObject \n",
    "\n",
    "class A(SuperObject):\n",
    "    def __init__(self, **kwargs):\n",
    "        print(\"A\")\n",
    "        super(A, self).__init__(**kwargs)\n",
    "        \n",
    "    def test(self, param1, **kwargs):\n",
    "        self.super_call(super(), 'test', param1=param1, **kwargs)\n",
    "        print(\"A\", 'test', f\"param1={param1}\")\n",
    "\n",
    "class B(SuperObject):\n",
    "    def __init__(self, **kwargs):\n",
    "        print(\"B\")\n",
    "        super(B, self).__init__(**kwargs)\n",
    "        \n",
    "    def test(self, param2, **kwargs):\n",
    "        self.super_call(super(), 'test', param2=param2, **kwargs)\n",
    "        print(\"B\", 'test', f\"param2={param2}\")\n",
    "\n",
    "class C(A):\n",
    "    def __init__(self, age, **kwargs):\n",
    "        print(\"C\",f\"age={age}\")\n",
    "        super(C, self).__init__(age=age, **kwargs)\n",
    "        \n",
    "    def test(self, param1, param3, **kwargs):\n",
    "        self.super_call(super(), 'test', param1=param1, param3=param3, **kwargs)\n",
    "        print(\"C\", 'test', f\"param1={param1}\", f\"param3={param3}\")\n",
    "        \n",
    "        \n",
    "class D(B):\n",
    "    def __init__(self, name, **kwargs):\n",
    "        print(\"D\", f\"name={name}\")\n",
    "        super(D, self).__init__(name=name, **kwargs)\n",
    "        \n",
    "    def test(self, param2, param4, **kwargs):\n",
    "        self.super_call(super(), 'test', param2=param2, param4=param4, **kwargs)\n",
    "        print(\"D\", 'test', f\"param2={param2}\", f\"param4={param4}\")\n",
    "\n",
    "class E(C,D):\n",
    "    def __init__(self, name, age, *args, **kwargs):\n",
    "        print( \"E\", f\"name={name}\", f\"age={age}\")\n",
    "        super(E, self).__init__(name=name, age=age, *args, **kwargs)\n",
    "\n",
    "e = E(name='python', age=28)\n",
    "print()\n",
    "\n",
    "e.test(param1='p1', param2='p2', param3='p3', param4='p4')"
   ]
  },
  {
   "cell_type": "code",
   "execution_count": null,
   "metadata": {},
   "outputs": [],
   "source": []
  }
 ],
 "metadata": {
  "kernelspec": {
   "display_name": "Python 3",
   "language": "python",
   "name": "python3"
  },
  "language_info": {
   "codemirror_mode": {
    "name": "ipython",
    "version": 3
   },
   "file_extension": ".py",
   "mimetype": "text/x-python",
   "name": "python",
   "nbconvert_exporter": "python",
   "pygments_lexer": "ipython3",
   "version": "3.7.3"
  }
 },
 "nbformat": 4,
 "nbformat_minor": 2
}
