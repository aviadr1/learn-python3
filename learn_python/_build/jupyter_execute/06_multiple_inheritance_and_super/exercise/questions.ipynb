{
 "cells": [
  {
   "cell_type": "markdown",
   "metadata": {},
   "source": [
    "\n",
    "<a href=\"https://colab.research.google.com/github/aviadr1/learn-advanced-python/blob/master/content/06_multiple_inheritance_and_super/exercise/questions.ipynb\" target=\"_blank\">\n",
    "<img src=\"https://colab.research.google.com/assets/colab-badge.svg\" \n",
    "     title=\"Open this file in Google Colab\" alt=\"Colab\"/>\n",
    "</a>\n"
   ]
  },
  {
   "cell_type": "markdown",
   "metadata": {},
   "source": [
    "# Multiple inheritance\n",
    "\n",
    "given the following classes `Address` and `Person`:\n",
    "```\n",
    "class Address:\n",
    "    def __init__(self, street, city):\n",
    "        self.street = str(street)\n",
    "        self.city = str(city)\n",
    "        \n",
    "    def show(self):\n",
    "        print(self.street)\n",
    "        print(self.city)\n",
    "\n",
    "class Person:\n",
    "    def __init__(self, name, email):\n",
    "        self.name = name\n",
    "        self.email= email\n",
    "        \n",
    "    def show(self):\n",
    "        print(self.name + ' ' + self.email)\n",
    "```\n",
    "\n",
    "## Task:\n",
    "\n",
    "1. Modify classes `Person` and `Address` \n",
    "so that they can work well in a multiple-inheritance hierarchy <br><br>\n",
    "> you may want to add `from superobject import SuperObject` to be able to use the `SuperObject` class from lesson 06\n",
    "\n",
    "2. implement the following classes:\n",
    "\n",
    "  1. `class Contact` that inherits from both `Address` and `Person`\n",
    "     > this class should have a `def show(self)` method\n",
    "   \n",
    "  2. `class Notebook` that is a dictionary that maps people's names to a `Contact` object. \n",
    "     it doesnt need to inherit anything\n",
    "     > 1. this class should have a `def show(se)` method\n",
    "     > 2. this class should have a `def add(self, name, email, street, city)` method\n",
    "\n",
    "3. Test your code with the sample code below:\n",
    "\n",
    "    ```\n",
    "    notes = Notebook()\n",
    "    notes.add('Alice', '<alice@example.com>', 'Lv 24', 'Sthlm')\n",
    "    notes.add('Bob', '<bob@example.com>', 'Rtb 35', 'Sthlm')\n",
    "\n",
    "    notes.show()\n",
    "    ```\n",
    "\n",
    "    expected output:\n",
    "    \n",
    "    ```\n",
    "    Alice\n",
    "    <alice@example.com>\n",
    "    Lv 24 Sthlm\n",
    "\n",
    "    Bob\n",
    "    <bob@example.com>\n",
    "    Rtb 35 Sthlm\n",
    "    ```\n"
   ]
  },
  {
   "cell_type": "code",
   "execution_count": 1,
   "metadata": {},
   "outputs": [
    {
     "name": "stdout",
     "output_type": "stream",
     "text": [
      "Alice\n",
      "<alice@example.com>\n",
      "Lv 24 Sthlm\n",
      "\n",
      "Bob\n",
      "<bob@example.com>\n",
      "Rtb 35 Sthlm\n",
      "\n"
     ]
    }
   ],
   "source": []
  },
  {
   "cell_type": "code",
   "execution_count": 1,
   "metadata": {},
   "outputs": [
    {
     "ename": "NameError",
     "evalue": "name 'Notebook' is not defined",
     "output_type": "error",
     "traceback": [
      "\u001b[1;31m---------------------------------------------------------------------------\u001b[0m",
      "\u001b[1;31mNameError\u001b[0m                                 Traceback (most recent call last)",
      "\u001b[1;32m<ipython-input-1-5544990626cf>\u001b[0m in \u001b[0;36m<module>\u001b[1;34m\u001b[0m\n\u001b[0;32m      1\u001b[0m \u001b[1;31m### useful test for your code\u001b[0m\u001b[1;33m\u001b[0m\u001b[1;33m\u001b[0m\u001b[1;33m\u001b[0m\u001b[0m\n\u001b[1;32m----> 2\u001b[1;33m \u001b[0mnotes\u001b[0m \u001b[1;33m=\u001b[0m \u001b[0mNotebook\u001b[0m\u001b[1;33m(\u001b[0m\u001b[1;33m)\u001b[0m\u001b[1;33m\u001b[0m\u001b[1;33m\u001b[0m\u001b[0m\n\u001b[0m\u001b[0;32m      3\u001b[0m \u001b[0mnotes\u001b[0m\u001b[1;33m.\u001b[0m\u001b[0madd\u001b[0m\u001b[1;33m(\u001b[0m\u001b[1;34m'Alice'\u001b[0m\u001b[1;33m,\u001b[0m \u001b[1;34m'<alice@example.com>'\u001b[0m\u001b[1;33m,\u001b[0m \u001b[1;34m'Lv 24'\u001b[0m\u001b[1;33m,\u001b[0m \u001b[1;34m'Sthlm'\u001b[0m\u001b[1;33m)\u001b[0m\u001b[1;33m\u001b[0m\u001b[1;33m\u001b[0m\u001b[0m\n\u001b[0;32m      4\u001b[0m \u001b[0mnotes\u001b[0m\u001b[1;33m.\u001b[0m\u001b[0madd\u001b[0m\u001b[1;33m(\u001b[0m\u001b[1;34m'Bob'\u001b[0m\u001b[1;33m,\u001b[0m \u001b[1;34m'<bob@example.com>'\u001b[0m\u001b[1;33m,\u001b[0m \u001b[1;34m'Rtb 35'\u001b[0m\u001b[1;33m,\u001b[0m \u001b[1;34m'Sthlm'\u001b[0m\u001b[1;33m)\u001b[0m\u001b[1;33m\u001b[0m\u001b[1;33m\u001b[0m\u001b[0m\n\u001b[0;32m      5\u001b[0m \u001b[1;33m\u001b[0m\u001b[0m\n",
      "\u001b[1;31mNameError\u001b[0m: name 'Notebook' is not defined"
     ]
    }
   ],
   "source": [
    "### useful test for your code\n",
    "notes = Notebook()\n",
    "notes.add('Alice', '<alice@example.com>', 'Lv 24', 'Sthlm')\n",
    "notes.add('Bob', '<bob@example.com>', 'Rtb 35', 'Sthlm')\n",
    "\n",
    "notes.show()"
   ]
  },
  {
   "cell_type": "markdown",
   "metadata": {},
   "source": [
    "\n",
    "```{toctree}\n",
    ":hidden:\n",
    ":titlesonly:\n",
    "\n",
    "\n",
    "solutions\n",
    "```\n"
   ]
  }
 ],
 "metadata": {
  "colab": {
   "name": "questions.ipynb"
  },
  "kernelspec": {
   "display_name": "Python 3",
   "language": "python",
   "name": "python3"
  },
  "language_info": {
   "codemirror_mode": {
    "name": "ipython",
    "version": 3
   },
   "file_extension": ".py",
   "mimetype": "text/x-python",
   "name": "python",
   "nbconvert_exporter": "python",
   "pygments_lexer": "ipython3",
   "version": "3.7.7"
  }
 },
 "nbformat": 4,
 "nbformat_minor": 2
}