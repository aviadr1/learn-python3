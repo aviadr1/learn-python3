{
 "cells": [
  {
   "cell_type": "markdown",
   "metadata": {},
   "source": [
    "\n",
    "<a href=\"https://colab.research.google.com/github/aviadr1/learn-advanced-python/blob/master/content/08_test_driven_development/exercise/questions.ipynb\" target=\"_blank\">\n",
    "<img src=\"https://colab.research.google.com/assets/colab-badge.svg\" \n",
    "     title=\"Open this file in Google Colab\" alt=\"Colab\"/>\n",
    "</a>\n"
   ]
  },
  {
   "cell_type": "markdown",
   "metadata": {},
   "source": [
    "# Unit testing a contact list\n",
    "\n",
    "The code sample below has `Contact` class that contains both a `Person` and an `Address` class, and finally, a `Notebook` class that contains multiple contacts.\n",
    "\n",
    "Can you use `pytest` and `unittest.mock` modules to write tests for these classes and fix the bugs in this code"
   ]
  },
  {
   "cell_type": "code",
   "execution_count": 1,
   "metadata": {},
   "outputs": [],
   "source": [
    "### useful: This is the code you should test\n",
    "\n",
    "class Address:\n",
    "    def __init__(self, street, city):\n",
    "        self.street = str(street)\n",
    "        self.city = str(city)\n",
    "\n",
    "    def __repr__(self):\n",
    "        return f\"Address({self.city!r}, {self.street!r})\"\n",
    "\n",
    "class Person:\n",
    "    def __init__(self, name, email):\n",
    "        self.name = name\n",
    "        self.email= email\n",
    "\n",
    "    def __repr__(self):\n",
    "        return f\"Person({self.name!r}, {self.email!r})\"\n",
    "        \n",
    "class Contact:\n",
    "    def __init__(self, street, city, name, email, **kwargs):\n",
    "        self.person = Person(name, email)\n",
    "        self.address = Address(street, city)\n",
    "    \n",
    "    def __str__(self):\n",
    "        return f\"\"\"\\\n",
    "        {self.person.name}:\n",
    "            {self.person.email}\n",
    "            address:\n",
    "                {self.address.city}\n",
    "                {self.address.street}\n",
    "        \"\"\"\n",
    "        \n",
    "class Notebook:\n",
    "    def __init__(self):\n",
    "        self.contacts = dict()\n",
    "\n",
    "    def add(self, street, city, name, email):\n",
    "        self.contacts[name] = Contact(name, email, city, street)\n",
    "\n",
    "    def remove(name):\n",
    "        self.contacts.remove(name)\n",
    "        \n",
    "    def __str__(self):\n",
    "        results = []\n",
    "        for name, contact in self.contacts.items():\n",
    "            results.append(str(contact))\n",
    "            results.append(\"\")\n",
    "        return '\\n'.join(results)"
   ]
  },
  {
   "cell_type": "code",
   "execution_count": 43,
   "metadata": {},
   "outputs": [],
   "source": []
  },
  {
   "cell_type": "code",
   "execution_count": 2,
   "metadata": {},
   "outputs": [
    {
     "ename": "ModuleNotFoundError",
     "evalue": "No module named 'ipytest'",
     "output_type": "error",
     "traceback": [
      "\u001b[1;31m---------------------------------------------------------------------------\u001b[0m",
      "\u001b[1;31mModuleNotFoundError\u001b[0m                       Traceback (most recent call last)",
      "\u001b[1;32m<ipython-input-2-2a4f7b16320a>\u001b[0m in \u001b[0;36m<module>\u001b[1;34m\u001b[0m\n\u001b[0;32m      1\u001b[0m \u001b[1;31m### useful: run the tests you wrote\u001b[0m\u001b[1;33m\u001b[0m\u001b[1;33m\u001b[0m\u001b[1;33m\u001b[0m\u001b[0m\n\u001b[1;32m----> 2\u001b[1;33m \u001b[1;32mimport\u001b[0m \u001b[0mipytest\u001b[0m\u001b[1;33m\u001b[0m\u001b[1;33m\u001b[0m\u001b[0m\n\u001b[0m\u001b[0;32m      3\u001b[0m \u001b[1;33m\u001b[0m\u001b[0m\n\u001b[0;32m      4\u001b[0m \u001b[1;31m# enable pytest's assertions and ipytest's magics\u001b[0m\u001b[1;33m\u001b[0m\u001b[1;33m\u001b[0m\u001b[1;33m\u001b[0m\u001b[0m\n\u001b[0;32m      5\u001b[0m \u001b[0mipytest\u001b[0m\u001b[1;33m.\u001b[0m\u001b[0mconfig\u001b[0m\u001b[1;33m(\u001b[0m\u001b[0mrewrite_asserts\u001b[0m\u001b[1;33m=\u001b[0m\u001b[1;32mTrue\u001b[0m\u001b[1;33m,\u001b[0m \u001b[0mmagics\u001b[0m\u001b[1;33m=\u001b[0m\u001b[1;32mTrue\u001b[0m\u001b[1;33m)\u001b[0m\u001b[1;33m\u001b[0m\u001b[1;33m\u001b[0m\u001b[0m\n",
      "\u001b[1;31mModuleNotFoundError\u001b[0m: No module named 'ipytest'"
     ]
    }
   ],
   "source": [
    "### useful: run the tests you wrote\n",
    "import ipytest\n",
    "\n",
    "# enable pytest's assertions and ipytest's magics\n",
    "ipytest.config(rewrite_asserts=True, magics=True)\n",
    "\n",
    "# set the filename\n",
    "__file__ = 'ex 08 - solutions.ipynb'\n",
    "\n",
    "# execute the tests via pytest, arguments are passed to pytest\n",
    "ipytest.run('-qq')"
   ]
  },
  {
   "cell_type": "markdown",
   "metadata": {},
   "source": [
    "\n",
    "```{toctree}\n",
    ":hidden:\n",
    ":titlesonly:\n",
    "\n",
    "\n",
    "solutions\n",
    "```\n"
   ]
  }
 ],
 "metadata": {
  "colab": {
   "name": "questions.ipynb"
  },
  "kernelspec": {
   "display_name": "Python 3",
   "language": "python",
   "name": "python3"
  },
  "language_info": {
   "codemirror_mode": {
    "name": "ipython",
    "version": 3
   },
   "file_extension": ".py",
   "mimetype": "text/x-python",
   "name": "python",
   "nbconvert_exporter": "python",
   "pygments_lexer": "ipython3",
   "version": "3.7.7"
  }
 },
 "nbformat": 4,
 "nbformat_minor": 2
}