{
 "cells": [
  {
   "cell_type": "markdown",
   "metadata": {},
   "source": [
    "\n",
    "<a href=\"https://colab.research.google.com/github/aviadr1/learn-advanced-python/blob/master/content/10_package_management/10-package_management.ipynb\" target=\"_blank\">\n",
    "<img src=\"https://colab.research.google.com/assets/colab-badge.svg\" \n",
    "     title=\"Open this file in Google Colab\" alt=\"Colab\"/>\n",
    "</a>\n"
   ]
  },
  {
   "cell_type": "markdown",
   "metadata": {},
   "source": [
    "# Where are my packages?\n",
    "\n",
    "In this lesson we will learn to answer the following questions:\n",
    "\n",
    "1. where are my installed packages located\n",
    "2. what packages and package versions do I have"
   ]
  },
  {
   "cell_type": "markdown",
   "metadata": {},
   "source": [
    "### FYI: where is the standard library located?\n",
    "We can use `inspect.getfile(object)` to get the filename where a module, class or function is defined"
   ]
  },
  {
   "cell_type": "code",
   "execution_count": 1,
   "metadata": {},
   "outputs": [
    {
     "name": "stdout",
     "output_type": "stream",
     "text": [
      "c:\\users\\aviad\\appdata\\local\\programs\\python\\python37\\lib\n"
     ]
    }
   ],
   "source": [
    "import os, inspect\n",
    "stdlib = os.path.dirname(inspect.getfile(os))\n",
    "print(stdlib) # c:\\users\\aviad\\appdata\\local\\programs\\python\\python37-32\\lib"
   ]
  },
  {
   "cell_type": "markdown",
   "metadata": {},
   "source": [
    "## Package locations\n",
    "\n",
    "`pip` installs packages into a `site-packages` directory in one of three locations\n",
    "1. global packages - these packages all available for all users on the machine\n",
    "2. per-user packages - these packages are available only to the current user\n",
    "3. venv packages - virtual environment packages available to a particular environment/project\n",
    "   > _more on [venv](https://docs.python.org/3/library/venv.html) later_\n"
   ]
  },
  {
   "cell_type": "markdown",
   "metadata": {},
   "source": [
    "### 1. global site-packages\n",
    "We you can use the `site` module to figure out programatically where our global packages are being installed"
   ]
  },
  {
   "cell_type": "code",
   "execution_count": 52,
   "metadata": {},
   "outputs": [
    {
     "name": "stdout",
     "output_type": "stream",
     "text": [
      "['c:\\\\users\\\\aviad\\\\appdata\\\\local\\\\programs\\\\python\\\\python37-32',\n",
      " 'c:\\\\users\\\\aviad\\\\appdata\\\\local\\\\programs\\\\python\\\\python37-32\\\\lib\\\\site-packages']\n"
     ]
    }
   ],
   "source": [
    "import site, pprint\n",
    "pprint.pprint(site.getsitepackages())"
   ]
  },
  {
   "cell_type": "markdown",
   "metadata": {},
   "source": [
    "what packages (global or user)  do I have?"
   ]
  },
  {
   "cell_type": "code",
   "execution_count": 2,
   "metadata": {},
   "outputs": [
    {
     "name": "stdout",
     "output_type": "stream",
     "text": [
      "Package             Version Location                                                                Installer\n",
      "------------------- ------- ----------------------------------------------------------------------- ---------\n",
      "astroid             2.2.5   c:\\users\\aviad\\appdata\\roaming\\python\\python37\\site-packages            pip      \n",
      "attrs               19.1.0  c:\\users\\aviad\\appdata\\local\\programs\\python\\python37\\lib\\site-packages pip      \n",
      "backcall            0.1.0   c:\\users\\aviad\\appdata\\local\\programs\\python\\python37\\lib\\site-packages          \n",
      "bleach              3.1.0   c:\\users\\aviad\\appdata\\local\\programs\\python\\python37\\lib\\site-packages pip      \n",
      "Click               7.0     c:\\users\\aviad\\appdata\\local\\programs\\python\\python37\\lib\\site-packages pip      \n",
      "click-default-group 1.2.1   c:\\users\\aviad\\appdata\\local\\programs\\python\\python37\\lib\\site-packages          \n",
      "colorama            0.4.1   c:\\users\\aviad\\appdata\\local\\programs\\python\\python37\\lib\\site-packages pip      \n",
      "cycler              0.10.0  c:\\users\\aviad\\appdata\\local\\programs\\python\\python37\\lib\\site-packages pip      \n",
      "decorator           4.4.0   c:\\users\\aviad\\appdata\\local\\programs\\python\\python37\\lib\\site-packages pip      \n",
      "defusedxml          0.6.0   c:\\users\\aviad\\appdata\\local\\programs\\python\\python37\\lib\\site-packages pip      \n",
      "entrypoints         0.3     c:\\users\\aviad\\appdata\\local\\programs\\python\\python37\\lib\\site-packages pip      \n",
      "ipykernel           5.1.1   c:\\users\\aviad\\appdata\\local\\programs\\python\\python37\\lib\\site-packages pip      \n",
      "ipython             7.5.0   c:\\users\\aviad\\appdata\\local\\programs\\python\\python37\\lib\\site-packages pip      \n",
      "ipython-genutils    0.2.0   c:\\users\\aviad\\appdata\\local\\programs\\python\\python37\\lib\\site-packages pip      \n",
      "ipywidgets          7.4.2   c:\\users\\aviad\\appdata\\local\\programs\\python\\python37\\lib\\site-packages pip      \n",
      "isort               4.3.20  c:\\users\\aviad\\appdata\\roaming\\python\\python37\\site-packages            pip      \n",
      "jedi                0.13.3  c:\\users\\aviad\\appdata\\local\\programs\\python\\python37\\lib\\site-packages pip      \n",
      "Jinja2              2.10.1  c:\\users\\aviad\\appdata\\local\\programs\\python\\python37\\lib\\site-packages pip      \n",
      "jsonschema          3.0.1   c:\\users\\aviad\\appdata\\local\\programs\\python\\python37\\lib\\site-packages pip      \n",
      "jupyter             1.0.0   c:\\users\\aviad\\appdata\\local\\programs\\python\\python37\\lib\\site-packages pip      \n",
      "jupyter-client      5.2.4   c:\\users\\aviad\\appdata\\local\\programs\\python\\python37\\lib\\site-packages pip      \n",
      "jupyter-console     6.0.0   c:\\users\\aviad\\appdata\\local\\programs\\python\\python37\\lib\\site-packages pip      \n",
      "jupyter-core        4.4.0   c:\\users\\aviad\\appdata\\local\\programs\\python\\python37\\lib\\site-packages pip      \n",
      "kiwisolver          1.1.0   c:\\users\\aviad\\appdata\\local\\programs\\python\\python37\\lib\\site-packages pip      \n",
      "lazy-object-proxy   1.4.1   c:\\users\\aviad\\appdata\\roaming\\python\\python37\\site-packages            pip      \n",
      "MarkupSafe          1.1.1   c:\\users\\aviad\\appdata\\local\\programs\\python\\python37\\lib\\site-packages pip      \n",
      "matplotlib          3.1.0   c:\\users\\aviad\\appdata\\local\\programs\\python\\python37\\lib\\site-packages pip      \n",
      "mccabe              0.6.1   c:\\users\\aviad\\appdata\\roaming\\python\\python37\\site-packages            pip      \n",
      "mistune             0.8.4   c:\\users\\aviad\\appdata\\local\\programs\\python\\python37\\lib\\site-packages pip      \n",
      "nbconvert           5.5.0   c:\\users\\aviad\\appdata\\local\\programs\\python\\python37\\lib\\site-packages pip      \n",
      "nbformat            4.4.0   c:\\users\\aviad\\appdata\\local\\programs\\python\\python37\\lib\\site-packages pip      \n",
      "notebook            5.7.8   c:\\users\\aviad\\appdata\\local\\programs\\python\\python37\\lib\\site-packages pip      \n",
      "numpy               1.16.4  c:\\users\\aviad\\appdata\\local\\programs\\python\\python37\\lib\\site-packages pip      \n",
      "pandas              0.24.2  c:\\users\\aviad\\appdata\\local\\programs\\python\\python37\\lib\\site-packages pip      \n",
      "pandocfilters       1.4.2   c:\\users\\aviad\\appdata\\local\\programs\\python\\python37\\lib\\site-packages          \n",
      "parso               0.4.0   c:\\users\\aviad\\appdata\\local\\programs\\python\\python37\\lib\\site-packages pip      \n",
      "pickleshare         0.7.5   c:\\users\\aviad\\appdata\\local\\programs\\python\\python37\\lib\\site-packages pip      \n",
      "pip                 19.1.1  c:\\users\\aviad\\appdata\\local\\programs\\python\\python37\\lib\\site-packages pip      \n",
      "prometheus-client   0.6.0   c:\\users\\aviad\\appdata\\local\\programs\\python\\python37\\lib\\site-packages          \n",
      "prompt-toolkit      2.0.9   c:\\users\\aviad\\appdata\\local\\programs\\python\\python37\\lib\\site-packages pip      \n",
      "Pygments            2.4.2   c:\\users\\aviad\\appdata\\local\\programs\\python\\python37\\lib\\site-packages pip      \n",
      "pylint              2.3.1   c:\\users\\aviad\\appdata\\roaming\\python\\python37\\site-packages            pip      \n",
      "pyodbc              4.0.26  c:\\users\\aviad\\appdata\\local\\programs\\python\\python37\\lib\\site-packages pip      \n",
      "pyparsing           2.4.0   c:\\users\\aviad\\appdata\\local\\programs\\python\\python37\\lib\\site-packages pip      \n",
      "pyrsistent          0.15.2  c:\\users\\aviad\\appdata\\local\\programs\\python\\python37\\lib\\site-packages          \n",
      "python-dateutil     2.8.0   c:\\users\\aviad\\appdata\\local\\programs\\python\\python37\\lib\\site-packages pip      \n",
      "pytz                2019.1  c:\\users\\aviad\\appdata\\local\\programs\\python\\python37\\lib\\site-packages pip      \n",
      "pywinpty            0.5.5   c:\\users\\aviad\\appdata\\local\\programs\\python\\python37\\lib\\site-packages pip      \n",
      "pyzmq               18.0.1  c:\\users\\aviad\\appdata\\local\\programs\\python\\python37\\lib\\site-packages pip      \n",
      "qtconsole           4.5.1   c:\\users\\aviad\\appdata\\local\\programs\\python\\python37\\lib\\site-packages pip      \n",
      "rise                5.5.0   c:\\users\\aviad\\appdata\\local\\programs\\python\\python37\\lib\\site-packages pip      \n",
      "scipy               1.3.0   c:\\users\\aviad\\appdata\\local\\programs\\python\\python37\\lib\\site-packages pip      \n",
      "seaborn             0.9.0   c:\\users\\aviad\\appdata\\local\\programs\\python\\python37\\lib\\site-packages pip      \n",
      "Send2Trash          1.5.0   c:\\users\\aviad\\appdata\\local\\programs\\python\\python37\\lib\\site-packages pip      \n",
      "setuptools          40.8.0  c:\\users\\aviad\\appdata\\local\\programs\\python\\python37\\lib\\site-packages pip      \n",
      "six                 1.12.0  c:\\users\\aviad\\appdata\\local\\programs\\python\\python37\\lib\\site-packages pip      \n",
      "sqlite-utils        1.4     c:\\users\\aviad\\appdata\\local\\programs\\python\\python37\\lib\\site-packages pip      \n",
      "tabulate            0.8.3   c:\\users\\aviad\\appdata\\local\\programs\\python\\python37\\lib\\site-packages          \n",
      "terminado           0.8.2   c:\\users\\aviad\\appdata\\local\\programs\\python\\python37\\lib\\site-packages pip      \n",
      "testpath            0.4.2   c:\\users\\aviad\\appdata\\local\\programs\\python\\python37\\lib\\site-packages pip      \n",
      "tornado             6.0.2   c:\\users\\aviad\\appdata\\local\\programs\\python\\python37\\lib\\site-packages pip      \n",
      "traitlets           4.3.2   c:\\users\\aviad\\appdata\\local\\programs\\python\\python37\\lib\\site-packages pip      \n",
      "typed-ast           1.4.0   c:\\users\\aviad\\appdata\\roaming\\python\\python37\\site-packages            pip      \n",
      "wcwidth             0.1.7   c:\\users\\aviad\\appdata\\local\\programs\\python\\python37\\lib\\site-packages pip      \n",
      "webencodings        0.5.1   c:\\users\\aviad\\appdata\\local\\programs\\python\\python37\\lib\\site-packages pip      \n",
      "widgetsnbextension  3.4.2   c:\\users\\aviad\\appdata\\local\\programs\\python\\python37\\lib\\site-packages pip      \n",
      "wrapt               1.11.1  c:\\users\\aviad\\appdata\\roaming\\python\\python37\\site-packages                     \n"
     ]
    }
   ],
   "source": [
    "!pip list -v"
   ]
  },
  {
   "cell_type": "markdown",
   "metadata": {},
   "source": [
    "### 2. per-user site-package\n",
    "\n",
    "Lets use the `site` module again to see where our per-user site-packages folder is"
   ]
  },
  {
   "cell_type": "code",
   "execution_count": 55,
   "metadata": {},
   "outputs": [
    {
     "data": {
      "text/plain": [
       "'C:\\\\Users\\\\aviad\\\\AppData\\\\Roaming\\\\Python\\\\Python37\\\\site-packages'"
      ]
     },
     "execution_count": 55,
     "metadata": {},
     "output_type": "execute_result"
    }
   ],
   "source": [
    "# programmatically with python\n",
    "site.getusersitepackages()"
   ]
  },
  {
   "cell_type": "code",
   "execution_count": 56,
   "metadata": {},
   "outputs": [
    {
     "name": "stdout",
     "output_type": "stream",
     "text": [
      "C:\\Users\\aviad\\AppData\\Roaming\\Python\\Python37\\site-packages\n"
     ]
    }
   ],
   "source": [
    "# from the shell / command-line\n",
    "!python -m site --user-site"
   ]
  },
  {
   "cell_type": "markdown",
   "metadata": {},
   "source": [
    "what local packages do I have?"
   ]
  },
  {
   "cell_type": "code",
   "execution_count": 3,
   "metadata": {},
   "outputs": [
    {
     "name": "stdout",
     "output_type": "stream",
     "text": [
      "Package           Version Location                                                     Installer\n",
      "----------------- ------- ------------------------------------------------------------ ---------\n",
      "astroid           2.2.5   c:\\users\\aviad\\appdata\\roaming\\python\\python37\\site-packages pip      \n",
      "isort             4.3.20  c:\\users\\aviad\\appdata\\roaming\\python\\python37\\site-packages pip      \n",
      "lazy-object-proxy 1.4.1   c:\\users\\aviad\\appdata\\roaming\\python\\python37\\site-packages pip      \n",
      "mccabe            0.6.1   c:\\users\\aviad\\appdata\\roaming\\python\\python37\\site-packages pip      \n",
      "pylint            2.3.1   c:\\users\\aviad\\appdata\\roaming\\python\\python37\\site-packages pip      \n",
      "typed-ast         1.4.0   c:\\users\\aviad\\appdata\\roaming\\python\\python37\\site-packages pip      \n",
      "wrapt             1.11.1  c:\\users\\aviad\\appdata\\roaming\\python\\python37\\site-packages          \n"
     ]
    }
   ],
   "source": [
    "!pip list --user -v"
   ]
  },
  {
   "cell_type": "markdown",
   "metadata": {},
   "source": [
    "# Development of Projects with Different Dependencies\n",
    "\n",
    "Lets talk about three common issues that arise when using python extensively:\n",
    "\n",
    "1. working with muliple projects, where each has their own depencies\n",
    "2. having reproducible deterministic development / production environments\n",
    "3. updating dependencies to fix security issues\n",
    "\n",
    "we're going to show one awesome tool called [pipenv](https://docs.pipenv.org/en/latest/) that is a solution to all three problems.\n",
    "\n",
    "first, lets install pipenv:"
   ]
  },
  {
   "cell_type": "code",
   "execution_count": null,
   "metadata": {},
   "outputs": [],
   "source": [
    "!pip install pipenv"
   ]
  },
  {
   "cell_type": "markdown",
   "metadata": {},
   "source": [
    "## 1.working with muliple projects, where each has their own dependencies\n",
    "\n",
    "Lets examine a common issue that arises when you’re working on multiple projects. Imagine that ProjectA needs `django==2.1`, but ProjectB needs `django==1.9`.\n",
    "\n",
    "By default, Python tries to store all your third-party packages in the system-wide location. This means that every time you want to switch between ProjectA and ProjectB, you have to make sure the right version of django is installed. This makes switching between projects painful because you have to uninstall and reinstall packages to meet the requirements for each project.\n",
    "\n",
    "The standard solution is to use a virtual environment that has its own Python executable and third-party package storage. That way, ProjectA and ProjectB are adequately separated. Now you can easily switch between projects since they’re not sharing the same package storage location. PackageA can have whatever version of django it needs in its own environment, and PackageB can have what it needs totally separate. \n",
    "\n",
    "> a common, slightly older way to fix this issue is using [virtualenv](https://virtualenv.pypa.io/en/latest/) + [virtualenvwrapper](https://virtualenvwrapper.readthedocs.io/en/latest/). <br>\n",
    "> see this [stackoverflow answer](https://stackoverflow.com/a/41573588/52917) for a nice comparison of tools\n",
    "\n",
    "Pipenv has virtual environment management built in so that you have a single tool for your package management.\n",
    "\n",
    "Lets see how to use this in practice, by creating two seperate django projects\n",
    "\n",
    "> [django](https://www.djangoproject.com/) is a well-loved web framework \n"
   ]
  },
  {
   "cell_type": "markdown",
   "metadata": {},
   "source": [
    "run the following in your shell\n",
    "```\n",
    ">> mkdir ProjectA\n",
    ">> cd ProjectA\n",
    ">> pipenv install django==2.1\n",
    ">> pipenv shell\n",
    "(ProjectA) >> django-admin startproject ProjectA .\n",
    "(ProjectA) >> exit\n",
    "```\n",
    "\n",
    "pipenv did a few things for us:\n",
    "1. when we ran `pipenv install django==2.1` it detected that we're in a new project \n",
    "   1. it created a new, empty virtual environment for us, where there are no pre-installed python packages\n",
    "   1. it created a new file called `Pipfile` for us <br>\n",
    "      the `Pipfile` contains a specification of all of our direct dependencies\n",
    "   3. it added a dependency on django version 2.1 to the Pipfile\n",
    "   4. it downloaded and installed django 2.1 to our virtual environment\n",
    "2. running `pipenv shell` allowed us to _enter_ our virtual environment where our PATH variable is set to \n",
    "   include only packages in the virtual environment. the \n",
    "3. it created a `Pipfile.lock` file which lists all the sub-dependencies django relies on (as it happens, django does not rely on additional packages)\n",
    "\n",
    "this is how the file structure looks now\n",
    "```\n",
    "ProjectA/\n",
    "├── ProjectA/\n",
    "├── manage.py\n",
    "├── Pipfile\n",
    "└── Pipfile.lock\n",
    "```\n",
    "\n",
    "Notes:\n",
    "1. we should commit to source control the `Pipfile` and `Pipfile.lock` files that describe's the project dependencies. <br>\n",
    "\n",
    "2. notice that running `pip freeze`, django was not installed in our global/user directory, but rather just in our virtual environment <br>\n",
    "\n",
    "3. we could now easily create as many projects as we want with different dependencies or versions of dependencies without any collisions"
   ]
  },
  {
   "cell_type": "markdown",
   "metadata": {},
   "source": [
    "## 2. having reproducible deterministic development / production environments\n",
    "\n",
    "Now lets imagine we're using the `pandas` package in our project. \n",
    "right now we're just interested in having an up-to-date version without caring too much about the version.\n",
    "\n",
    "lets add it to our environment\n",
    "```\n",
    ">> pipenv install pandas\n",
    "```\n",
    "\n",
    "as it happens, the pandas package relies on a few sub-dependencies like numpy\n",
    "```\n",
    ">> pipenv graph\n",
    "Django==2.1\n",
    "  - pytz [required: Any, installed: 2019.1]\n",
    "pandas==0.24.2\n",
    "  - numpy [required: >=1.12.0, installed: 1.16.4]\n",
    "  - python-dateutil [required: >=2.5.0, installed: 2.8.0]\n",
    "    - six [required: >=1.5, installed: 1.12.0]\n",
    "  - pytz [required: >=2011k, installed: 2019.1]\n",
    "```\n",
    "\n",
    "but what happens if one of the sub-dependencies later publish a new version with breaking changes, and another developer on my team tries to install the project's dependencies and ends up with a build that doesn't work?\n",
    "> It worked on my computer, I swear\n",
    "\n",
    "What we need is a deterministic build - that is, to be able to have _exactly_ the same environment and code for the project on our teammates' computer, as well as in production. this is exactly the information held in our `Pipfile.lock` file. it has a list of all the sub-dependencies that were installed, and their exact version numbers and hashes.\n",
    "\n",
    "We can install the exact packages and versions listed in our Pipfile.lock file using the `pipenv sync` command.\n",
    "\n",
    "```\n",
    ">> pipenv sync\n",
    "Installing dependencies from Pipfile.lock (aac533)…\n",
    "  ================================ 6/6 - 00:00:03\n",
    "All dependencies are now up-to-date!\n",
    "```\n",
    "\n",
    "\n",
    "when deploying code to developer machines or to production environment `pipenv sync` creates a deterministic build by ensuring everyone has exactly the same packages in the same versions\n"
   ]
  },
  {
   "cell_type": "markdown",
   "metadata": {},
   "source": [
    "## 3. updating dependencies to fix security issues\n",
    "\n",
    "so for our ProjectA we pinned the version of django to be 2.1 `django==2.1`.\n",
    "we have a deterministic build and our code seems to work well.\n",
    "\n",
    "but what if there was an important bugfix or a security error in one of our dependencies, or worse, in one of our sub-dependencies?\n",
    "\n",
    "lets check for security issues by running `pipenv check`:\n",
    "```\n",
    "(ProjectA) >> pipenv check\n",
    "Checking PEP 508 requirements…\n",
    "Passed!\n",
    "Checking installed package safety…\n",
    "36883: django <2.1.6,>=2.1.0 resolved (2.1 installed)!\n",
    "Django 2.1.x before 2.1.6  allows Uncontrolled Memory Consumption via a malicious attacker-supplied value to the django.utils.numberformat.format() function.\n",
    "\n",
    "36522: django <2.1.2,>=2.1 resolved (2.1 installed)!\n",
    "An issue was discovered in Django 2.1 before 2.1.2, in which unprivileged users can read the password hashes of arbitrary accounts. The read-only password widget used by the Django Admin to display an obfuscated password hash was bypassed if a user has only the \"view\" permission (new in Django 2.1), resulting in display of the entire password hash to those users. This may result in a vulnerability for sites with legacy user accounts using insecure hashes.\n",
    "\n",
    "36517: django <2.1.2,>=2.1.0 resolved (2.1 installed)!\n",
    "django before 2.1.2 fixes a security bug in 2.1.x.\n",
    "If an admin user has the change permission to the user model, only part of the\n",
    "password hash is displayed in the change form. Admin users with the view (but\n",
    "not change) permission to the user model were displayed the entire hash.\n",
    "```\n",
    "\n",
    "Oh My! <br>\n",
    "seems a lot has already been been fixed since 2.1.0, the version we pinned to ...\n",
    "lets upgrade to the latest bugfix version of 2.1.x\n",
    "\n",
    "```\n",
    ">> pipenv install django<2.2\n",
    "```\n",
    "\n",
    "this should do it. lets take a look at our list of packages now\n",
    "``` >> pipenv graph\n",
    "Django==2.1.10\n",
    "  - pytz [required: Any, installed: 2019.1]\n",
    "pandas==0.24.2\n",
    "  - numpy [required: >=1.12.0, installed: 1.16.4]\n",
    "  - python-dateutil [required: >=2.5.0, installed: 2.8.0]\n",
    "    - six [required: >=1.5, installed: 1.12.0]\n",
    "  - pytz [required: >=2011k, installed: 2019.1]\n",
    "```\n",
    "\n",
    "now we have the latest django 2.1.10, without switching to a major new django 2.2.x\n",
    "lets see if our security problems are fixed:\n",
    "\n",
    "```\n",
    ">> pipenv check\n",
    "Checking PEP 508 requirements…\n",
    "Passed!\n",
    "Checking installed package safety…\n",
    "All good!\n",
    "```\n",
    "\n",
    "what happens if in the future additional security issues are fixed for the 2.1 branch?\n",
    "running `pipenv install` would install all packages mentioned in my `Pipfile`, including upgrading them if newer versions that satisfy my constraints are available."
   ]
  },
  {
   "cell_type": "markdown",
   "metadata": {},
   "source": [
    "## Tying it all together\n",
    "\n",
    "so what have we seen? \n",
    "\n",
    "1. pipenv manages a virtual environment for us where each project can have exactly the dependencies it needs and nothing more\n",
    "2. we used `pipenv install django` and `pipenv install pandas` to add packages to our virtual environment\n",
    "3. we used two [PEP 508](https://www.python.org/dev/peps/pep-0508/) version specifiers to pin down a version of django. `django==2.1` which pinned us to 2.1.0 and `django<2.2` which allowed us to receive bug/security fixes upto 2.1.10\n",
    "4. we used `pipenv sync` to install a deterministic build using the specific pinned down versions specified in our `Pipfile.lock` file\n",
    "5. we used `pipenv install` to upgrade to the latest versions in our `Pipfile` that satisfy our constraints\n",
    "6. we used `pipenv check` to test for security issues\n",
    "7. we used `pipenv shell` to _enter_ into our virtual environment and use installed tools for that environment like django-admin\n",
    "\n",
    "generally, pipenv ...\n",
    "* Enables truly deterministic builds, while easily specifying only what you want.\n",
    "* Generates and checks file hashes for locked dependencies.\n",
    "* Automatically generates a Pipfile, if one doesn’t exist.\n",
    "* Automatically creates a virtualenv in a standard location.\n",
    "* Automatically adds/removes packages to a Pipfile when they are un/installed.\n",
    "\n",
    "\n",
    "### Further reading\n",
    "* https://docs.pipenv.org/en/latest/\n",
    "* https://realpython.com/pipenv-guide/\n",
    "* https://www.python.org/dev/peps/pep-0508/"
   ]
  },
  {
   "cell_type": "markdown",
   "metadata": {},
   "source": [
    "## Additional features"
   ]
  },
  {
   "cell_type": "markdown",
   "metadata": {},
   "source": [
    "### development-only packages \n",
    "\n",
    "Let’s say you also have some unit tests for this awesome application, and you want to use pytest for running them. You don’t need `pytest` in production so you can specify that this dependency is only for development with the `--dev` argument:\n",
    "\n",
    "```\n",
    "$ pipenv install pytest --dev\n",
    "```\n",
    "\n",
    "Providing the `--dev` argument will put the dependency in a special [dev-packages] location in the Pipfile. These development packages only get installed if you specify the `--dev` argument with pipenv install.\n",
    "\n",
    "The different sections separate dependencies needed only for development from ones needed for the base code to actually work. Typically, this would be accomplished with additional requirements files like dev-requirements.txt or test-requirements.txt. Now, everything is consolidated in a single Pipfile under different sections."
   ]
  },
  {
   "cell_type": "markdown",
   "metadata": {},
   "source": []
  }
 ],
 "metadata": {
  "kernelspec": {
   "display_name": "Python 3",
   "language": "python",
   "name": "python3"
  },
  "language_info": {
   "codemirror_mode": {
    "name": "ipython",
    "version": 3
   },
   "file_extension": ".py",
   "mimetype": "text/x-python",
   "name": "python",
   "nbconvert_exporter": "python",
   "pygments_lexer": "ipython3",
   "version": "3.7.3"
  }
 },
 "nbformat": 4,
 "nbformat_minor": 2
}
