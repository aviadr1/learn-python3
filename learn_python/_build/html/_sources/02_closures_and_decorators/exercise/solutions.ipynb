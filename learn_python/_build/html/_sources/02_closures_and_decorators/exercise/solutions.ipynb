{
  "nbformat": 4,
  "nbformat_minor": 0,
  "metadata": {
    "kernelspec": {
      "display_name": "Python 3",
      "language": "python",
      "name": "python3"
    },
    "language_info": {
      "codemirror_mode": {
        "name": "ipython",
        "version": 3
      },
      "file_extension": ".py",
      "mimetype": "text/x-python",
      "name": "python",
      "nbconvert_exporter": "python",
      "pygments_lexer": "ipython3",
      "version": "3.7.3"
    },
    "colab": {
      "name": "solutions.ipynb",
      "provenance": []
    }
  },
  "cells": [
    {
      "cell_type": "markdown",
      "metadata": {
        "id": "_B58DjuUSVBE",
        "colab_type": "text"
      },
      "source": [
        "\n",
        "<a href=\"https://colab.research.google.com/github/aviadr1/learn-advanced-python/blob/master/content/02_closures_and_decorators/exercise/solutions.ipynb\" target=\"_blank\">\n",
        "<img src=\"https://colab.research.google.com/assets/colab-badge.svg\" \n",
        "     title=\"Open this file in Google Colab\" alt=\"Colab\"/>\n",
        "</a>\n"
      ]
    },
    {
      "cell_type": "markdown",
      "metadata": {
        "id": "MgVU2oywSV8y",
        "colab_type": "text"
      },
      "source": [
        "# bind1st - create a one parameter function from a two parameter function\n",
        "\n",
        "Imagine we have some function that takes two parameters, like `divide(x,y)` \n",
        "```python\n",
        "def divide(x,y):\n",
        "    return x/y\n",
        "```\n",
        "\n",
        "Write a function called `bind1st(func, value)` that can create a one parameter function from this two parameter function?\n",
        "it should work like this\n",
        "\n",
        "```python\n",
        "# take the divide function, and the value 100\n",
        "# and create a new function called divide_100_by(y) \n",
        "divide_100_by = bind1st(divide, 100) \n",
        "print(divide_100_by(2)) # prints 50\n",
        "print(divide_100_by(10)) # prints 10\n",
        "```"
      ]
    },
    {
      "cell_type": "code",
      "metadata": {
        "id": "Ag81KH4iS_1W",
        "colab_type": "code",
        "colab": {}
      },
      "source": [
        "# solution #1\n",
        "def bind1st(func, bound_value):\n",
        "    def wrapper_func(last_arg):\n",
        "        return func(bound_value, last_arg)\n",
        "\n",
        "    return wrapper_func\n",
        "\n",
        "# solution #2 - adding functools.wraps (read about it in the lecture notes)\n",
        "import functools\n",
        "def bind1st(func, bound_value):\n",
        "    @functools.wraps(func) # not crucial but is a nice touch\n",
        "    def wrapper_func(last_arg):\n",
        "        return func(bound_value, last_arg)\n",
        "\n",
        "    return wrapper_func\n",
        " "
      ],
      "execution_count": 0,
      "outputs": []
    },
    {
      "cell_type": "code",
      "metadata": {
        "id": "Ya8baJKjSXrJ",
        "colab_type": "code",
        "colab": {}
      },
      "source": [
        "### useful: this tests your function bind1st\n",
        "def divide(a,b):\n",
        "    return a/b\n",
        "\n",
        "def multiply(x,y):\n",
        "    return x*y\n",
        "\n",
        "\n",
        "divide_100_by = bind1st(divide, 100) \n",
        "assert divide_100_by(2) == 50\n",
        "\n",
        "multiply_by_2 = bind1st(multiply, 2) \n",
        "assert multiply_by_2(50) == 100"
      ],
      "execution_count": 0,
      "outputs": []
    },
    {
      "cell_type": "markdown",
      "metadata": {
        "id": "LQE_WPzQUwZM",
        "colab_type": "text"
      },
      "source": [
        "# bind - a general way to bind function parameters\n",
        "\n",
        "This question continues from the previous one, but this time, we want to bind more than one parameter.\n",
        "Write a function called `bind(func, *args, **kwargs)` that:\n",
        "- receives any function `func` that has any number of parameters\n",
        "- `*args` - a variable number of positional arguments\n",
        "- `**kwargs` - a variable number of keyword arguments\n",
        "and returns a new function with where `*args` and `**kwargs` have been bound.\n",
        "\n",
        "for instance:\n",
        "```python\n",
        "def connect_to_database(usr, pwd, srv, port, protocol):\n",
        "    print(\"connecting to db:\")\n",
        "    print(f\"user={usr}, password={pwd}, server={srv}, port={port}, protocol={protocol}\")\n",
        "\n",
        "http_connect = bind(connect_to_database, protocol=\"http\")\n",
        "```\n"
      ]
    },
    {
      "cell_type": "code",
      "metadata": {
        "id": "3nbUpronWqXP",
        "colab_type": "code",
        "colab": {}
      },
      "source": [
        "import functools\n",
        "def bind(func, *bound_args, **bound_kwargs):\n",
        "    @functools.wraps(func) # not crucial but is a nice touch\n",
        "    def wrapper_func(*args, **kwargs):\n",
        "        return func(*bound_args, *args, **bound_kwargs, **kwargs)\n",
        "\n",
        "    return wrapper_func"
      ],
      "execution_count": 0,
      "outputs": []
    },
    {
      "cell_type": "code",
      "metadata": {
        "id": "09tcLGy5W_Xc",
        "colab_type": "code",
        "colab": {
          "base_uri": "https://localhost:8080/",
          "height": 86
        },
        "outputId": "4dd5f45c-bac1-41bc-a4c4-8e0104901ec9"
      },
      "source": [
        "### useful: use this to test your `bind` function\n",
        "def connect_to_database(usr, pwd, srv, port, protocol):\n",
        "    print(\"connecting to db:\")\n",
        "    print(f\"user={usr}, password={pwd}, server={srv}, port={port}, protocol={protocol}\")\n",
        " \n",
        "http_connect = bind(connect_to_database, protocol=\"http\")\n",
        "# prints: user=jamesbond, password=007, server=mi, port=6, protocol=http\n",
        "http_connect(\"jamesbond\", \"007\", \"mi\", 6) \n",
        "\n",
        "jamesbond_connect_http = bind(http_connect, \"jamesbond\", \"007\") \n",
        "# prints: user=jamesbond, password=007, server=mi, port=6, protocol=http\n",
        "jamesbond_connect_http(\"mi\", 6)"
      ],
      "execution_count": 15,
      "outputs": [
        {
          "output_type": "stream",
          "text": [
            "connecting to db:\n",
            "user=jamesbond, password=007, server=mi, port=6, protocol=http\n",
            "connecting to db:\n",
            "user=jamesbond, password=007, server=mi, port=6, protocol=http\n"
          ],
          "name": "stdout"
        }
      ]
    },
    {
      "cell_type": "markdown",
      "metadata": {
        "id": "qwN7WSxESVBG",
        "colab_type": "text"
      },
      "source": [
        "# Observable decorator\n",
        "\n",
        "Consider the `Observable` class based on the \"observable\" pattern\n",
        "```\n",
        "class Observable:\n",
        "    def __init__(self):\n",
        "        self.handlers = []\n",
        "    \n",
        "    def register(self, callable_):\n",
        "        self.handlers.append(callable_)\n",
        "        \n",
        "    def notify(self, obj, event, *args, **kwargs):\n",
        "        for handler in self.handlers:\n",
        "            handler(obj, event, *args, **kwargs)\n",
        "            \n",
        "def start_observing(obj):\n",
        "    obj.observable_events = Observable()\n",
        "\n",
        "def observable(obj):\n",
        "    return obj.observable_events\n",
        "```\n",
        "\n",
        "Create two decorator functions \n",
        "```\n",
        "observable_class(klass)- decorates a class to become observable`\n",
        "observe(func) - decorates a method to become observable\n",
        "```\n",
        "\n",
        "such that given a simple class like the following:\n",
        "```\n",
        "class Test:\n",
        "    def test(self, message):\n",
        "        print('test', message)\n",
        "```\n",
        "\n",
        "you could decorate Test using the decorators:\n",
        "```\n",
        "@observable_class\n",
        "class Test:\n",
        "    @observe\n",
        "    def test(self, message):\n",
        "        print('test', message)\n",
        "```\n",
        "\n",
        "and then be able to get notifications whenever the `Test.test()` function is used:\n",
        "\n",
        "```\n",
        "def simple_handler(obj, event, *args, **kwargs):\n",
        "    print('notified:', obj, event, *args, **kwargs)\n",
        "    \n",
        "t = Test()\n",
        "t.observable().register(simple_handler)\n",
        "t.test('hello')\n",
        "```\n",
        "\n",
        "expected output:\n",
        "```\n",
        "notified: <__main__.Test object at 0x000002E99F51A7F0> test hello\n",
        "test hello\n",
        "```"
      ]
    },
    {
      "cell_type": "code",
      "metadata": {
        "id": "UY2imNu-SVBH",
        "colab_type": "code",
        "colab": {}
      },
      "source": [
        "### useful starting point\n",
        "class Observable:\n",
        "    def __init__(self):\n",
        "        self.handlers = []\n",
        "    \n",
        "    def register(self, callable_):\n",
        "        self.handlers.append(callable_)\n",
        "        \n",
        "    def notify(self, obj, event, *args, **kwargs):\n",
        "        for handler in self.handlers:\n",
        "            handler(obj, event, *args, **kwargs)\n",
        "            \n",
        "def start_observing(obj):\n",
        "    obj.observable_events = Observable()\n",
        "\n",
        "def observable(obj):\n",
        "    return obj.observable_events\n",
        "    "
      ],
      "execution_count": 0,
      "outputs": []
    },
    {
      "cell_type": "code",
      "metadata": {
        "id": "HxObJAveSVBK",
        "colab_type": "code",
        "colab": {},
        "outputId": "b796fc49-1d82-4c75-c7d0-a0f6f9ea7e0f"
      },
      "source": [
        "import functools\n",
        "def observable_class(klass):\n",
        "    init_func = klass.__init__\n",
        "    \n",
        "    @functools.wraps(klass.__init__)\n",
        "    def init_wrapper(self, *args, **kwargs):\n",
        "        start_observing(self)\n",
        "        init_func(self, *args, **kwargs)\n",
        "    \n",
        "    klass.__init__ = init_wrapper\n",
        "    klass.observable = observable\n",
        "    return klass\n",
        "\n",
        "def observe(f):\n",
        "    @functools.wraps(f)\n",
        "    def observed_wrapper(self, *args, **kwargs):\n",
        "        observable(self).notify(self, f.__name__, *args, **kwargs)\n",
        "        return f(self, *args, *kwargs)\n",
        "    return observed_wrapper\n",
        "\n",
        "@observable_class\n",
        "class Test:\n",
        "    @observe\n",
        "    def test(self, message):\n",
        "        print('test', message)\n",
        "\n",
        "def simple_handler(obj, event, *args, **kwargs):\n",
        "    print('notified:', obj, event, *args, **kwargs)\n",
        "    \n",
        "t = Test()\n",
        "t.observable().register(simple_handler)\n",
        "t.test('hello')"
      ],
      "execution_count": 0,
      "outputs": [
        {
          "output_type": "stream",
          "text": [
            "notified: <__main__.Test object at 0x000001957A3ED2E8> test hello\n",
            "test hello\n"
          ],
          "name": "stdout"
        }
      ]
    },
    {
      "cell_type": "code",
      "metadata": {
        "id": "UNgGr1OaSVBO",
        "colab_type": "code",
        "colab": {}
      },
      "source": [
        ""
      ],
      "execution_count": 0,
      "outputs": []
    }
  ]
}