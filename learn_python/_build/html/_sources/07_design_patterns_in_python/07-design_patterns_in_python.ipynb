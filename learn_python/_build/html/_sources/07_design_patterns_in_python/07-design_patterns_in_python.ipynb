{
 "cells": [
  {
   "cell_type": "markdown",
   "metadata": {},
   "source": [
    "\n",
    "<a href=\"https://colab.research.google.com/github/aviadr1/learn-advanced-python/blob/master/content/07_design_patterns_in_python/07-design_patterns_in_python.ipynb\" target=\"_blank\">\n",
    "<img src=\"https://colab.research.google.com/assets/colab-badge.svg\" \n",
    "     title=\"Open this file in Google Colab\" alt=\"Colab\"/>\n",
    "</a>\n"
   ]
  },
  {
   "cell_type": "markdown",
   "metadata": {},
   "source": [
    "# Design patterns in python\n",
    "Many common [design patterns](https://en.wikipedia.org/wiki/Software_design_pattern) \n",
    "are made much simpler or even trivial through the dynamic nature of python\n",
    "\n",
    "in this lesson, we go through some common design patterns and how they can be implemented in python. we will use `class Person` as an example wherever appropriate"
   ]
  },
  {
   "cell_type": "code",
   "execution_count": 1,
   "metadata": {},
   "outputs": [],
   "source": [
    "class Person:\n",
    "    def __init__(self, name):\n",
    "        self.name = name\n",
    "    def __repr__(self):\n",
    "        return f\"{type(self).__name__}({self.name!r})\"\n",
    "    def walk(self):\n",
    "        print(self.name, 'walking')\n",
    "    def run(self):\n",
    "        print(self.name,'running')\n",
    "    def swim(self):\n",
    "        print(self.name,'swimming')\n",
    "        \n",
    "class OlympicRunner(Person):\n",
    "    def run(self):\n",
    "        print(self.name,self.name,\"running incredibly fast!\")\n",
    "        \n",
    "    def show_medals(self):\n",
    "        print(self.name, 'showing my olympic medals')\n",
    "    \n",
    "def train(person):\n",
    "    person.walk()\n",
    "    person.swim()\n",
    "    person.run()\n",
    "    \n",
    "terry = Person('Terry Gilliam')\n",
    "graham = Person('Graham Chapman')\n",
    "usainbolt = OlympicRunner('Usain Bolt')"
   ]
  },
  {
   "cell_type": "markdown",
   "metadata": {},
   "source": [
    "# Prototype\n",
    "\n",
    "> The prototype pattern is a creational design pattern in software development. It is used when the type of objects to create is determined by a prototypical instance, which is cloned to produce new objects. [Wikipedia](https://en.wikipedia.org/wiki/Prototype_pattern)\n",
    "\n",
    "![UML](https://upload.wikimedia.org/wikipedia/commons/c/c4/W3sDesign_Prototype_Design_Pattern_UML.jpg)\n",
    "\n",
    "in python implementing this pattern is trivial, since we can easily clone any object regardless of its type"
   ]
  },
  {
   "cell_type": "code",
   "execution_count": 16,
   "metadata": {},
   "outputs": [
    {
     "name": "stdout",
     "output_type": "stream",
     "text": [
      "OlympicRunner('Usain Bolt')\n",
      "OlympicRunner('Usain Bolt after training')\n",
      "Person('Terry Gilliam')\n",
      "Person('Terry Gilliam after training')\n"
     ]
    }
   ],
   "source": [
    "from copy import deepcopy as clone\n",
    "def simulate_training(person):\n",
    "    simulated_person = clone(person)\n",
    "    simulated_person.name += ' after training'\n",
    "    return simulated_person\n",
    "\n",
    "trained_usainbolt = simulate_training(usainbolt)\n",
    "print(usainbolt)\n",
    "print(trained_usainbolt)\n",
    "\n",
    "trained_terry = simulate_training(terry)\n",
    "print(terry)\n",
    "print(trained_terry)\n",
    "\n"
   ]
  },
  {
   "cell_type": "markdown",
   "metadata": {},
   "source": [
    "# Singleton\n",
    "\n",
    "> the singleton pattern is a software design pattern that restricts the instantiation of a class to one \"single\" instance. This is useful when exactly one object is needed to coordinate actions across the system. [Wikipedia](https://en.wikipedia.org/wiki/Singleton_pattern)\n",
    "\n",
    "The singleton pattern is when we want to have just one object from a particular class.\n",
    "\n",
    "Many of the complications with implementing singletons in different languages arise from intricacies of making sure that \n",
    "constructing the object or destroying the object can be done safely\n",
    "\n",
    "this safety is taken care for us by python's modules. \n",
    "creating an object in a module ensures that all its dependant modules are already loaded so it can be safely constructed.\n",
    "deconstruction is also trivial due to garbage collection.\n",
    "\n",
    "lastly, to ensure that no further objects can be created from a class, we only need to redefine its `__new__` method\n",
    "\n",
    "here's sample code to illustrate all this:"
   ]
  },
  {
   "cell_type": "code",
   "execution_count": 2,
   "metadata": {},
   "outputs": [],
   "source": [
    "#\n",
    "# module:\n",
    "#   singleton.py\n",
    "#\n",
    "def make_singleton(class_):\n",
    "    def __new__(cls, *args, **kwargs):\n",
    "        raise Exception('class', cls.__name__, 'is a singleton')\n",
    "        \n",
    "    class_.__new__ = __new__\n"
   ]
  },
  {
   "cell_type": "code",
   "execution_count": 3,
   "metadata": {},
   "outputs": [],
   "source": [
    "#\n",
    "# module:\n",
    "#   earth.py\n",
    "#\n",
    "\n",
    "from singleton import make_singleton    \n",
    "\n",
    "class HomePlanet:\n",
    "    def __init__(self, name):\n",
    "        self.name = name\n",
    "    def __repr__(self):\n",
    "        return f'HomePlanet({self.name})'\n",
    "\n",
    "earth = HomePlanet('earth')\n",
    "make_singleton(HomePlanet)"
   ]
  },
  {
   "cell_type": "code",
   "execution_count": 5,
   "metadata": {},
   "outputs": [
    {
     "name": "stdout",
     "output_type": "stream",
     "text": [
      "HomePlanet(earth)\n",
      "we only have one home planet, can't make more ('class', 'HomePlanet', 'is a singleton')\n"
     ]
    }
   ],
   "source": [
    "from earth import earth, HomePlanet\n",
    "\n",
    "print(earth)\n",
    "\n",
    "# we can't make another instance of HomePlanet\n",
    "try:\n",
    "    HomePlanet('mars')\n",
    "except Exception as ex:\n",
    "    print(\"we only have one home planet, can't make more\", ex)"
   ]
  },
  {
   "cell_type": "markdown",
   "metadata": {},
   "source": [
    "# Proxy \n",
    "See definition of the proxy pattern at [wikipedia](https://en.wikipedia.org/wiki/Proxy_pattern#Python)\n",
    "\n",
    "![UML Diagram](https://upload.wikimedia.org/wikipedia/commons/6/6e/W3sDesign_Proxy_Design_Pattern_UML.jpg)\n",
    "\n",
    "### What problems can the Proxy design pattern solve?\n",
    "* The access to an object should be controlled.\n",
    "* Additional functionality should be provided when accessing an object.\n",
    "\n",
    "### Possible usage scenarios\n",
    "* **Remote proxy** - In distributed object communication, a local object represents a remote object that resides in a different process or machine\n",
    "\n",
    "* **Virtual/Lazy proxy** - In place of a complex or heavy object, a proxy that loads the actual information on demand\n",
    "\n",
    "* **Protection proxy** - A protection proxy might be used to control access to a resource based on access rights.\n",
    "\n",
    "### Python example\n",
    "We show a completely dynamic implementation of a proxy, that has no knowledge about the object it is proxiying"
   ]
  },
  {
   "cell_type": "code",
   "execution_count": null,
   "metadata": {},
   "outputs": [],
   "source": [
    "import inspect\n",
    "class ProxyExample:\n",
    "    \"\"\"\n",
    "    show that we can discover and act upon any call to proxied object functions, \n",
    "    or any access to proxied object attributes\n",
    "    \"\"\"\n",
    "    \n",
    "    def __init__(self, obj):\n",
    "        self.obj = obj\n",
    "        \n",
    "    def __getattr__(self, name):\n",
    "        obj = self.obj\n",
    "        attr = getattr(obj, name)\n",
    "        print(f'accessing {obj}.{name}')\n",
    "        \n",
    "        if inspect.isfunction(attr) or inspect.ismethod(attr):\n",
    "            def callable_proxy(*args, **kwargs):\n",
    "                print(f'calling {obj}.{name}() with args:{args} and kwargs:{kwargs}')\n",
    "                result = attr(*args, **kwargs)\n",
    "                return result\n",
    "            \n",
    "            return callable_proxy\n",
    "        else:\n",
    "            return attr\n",
    "            \n",
    "# make a proxy to usain bolt       \n",
    "usain_proxy = ProxyExample(usainbolt)\n",
    "\n",
    "# now every action taken is logged\n",
    "usain_proxy.name\n",
    "usain_proxy.run()    "
   ]
  },
  {
   "cell_type": "markdown",
   "metadata": {},
   "source": [
    "# Composition\n",
    "\n",
    "Sometimes we want to model 'has-a' relationship instead of an 'is-a' relations.\n",
    "for instance, we can say a person has (or composes) arms, legs, a face, a head and eyes.\n",
    "\n",
    "the composition patterns allows the composing object to behave as if all the abilities of the composed object \n",
    "lets see an example. the 'magic' of how this works is available in the `composition.py` module in this repository"
   ]
  },
  {
   "cell_type": "code",
   "execution_count": null,
   "metadata": {},
   "outputs": [],
   "source": [
    "# import a local module named composition that holds all the magic\n",
    "from composition import Composition\n",
    "\n",
    "class Arms:\n",
    "    def up(self):\n",
    "        print(\"I raised my arms\")\n",
    "\n",
    "class Legs:\n",
    "    def up(self):\n",
    "        print(\"I raised my legs\")\n",
    "\n",
    "class Eyes:\n",
    "    def close(self):\n",
    "        print(\"I closed my eyes\")\n",
    "\n",
    "class Face:\n",
    "    def __init__(self):\n",
    "        Composition.compose(self, Eyes())\n",
    "        \n",
    "    def smile(self):\n",
    "        print('I smiled')\n",
    "        \n",
    "    def __getattr__(self, arg):\n",
    "        return Composition.get_composed_attr(self, arg, super())        \n",
    "    \n",
    "class Head:\n",
    "    def __init__(self):\n",
    "        Composition.compose(self, Face())\n",
    "\n",
    "    def balance(self):\n",
    "        print(\"I shook my head\")\n",
    "    \n",
    "    def __getattr__(self, arg):\n",
    "        return Composition.get_composed_attr(self, arg, super())\n",
    "                \n",
    "class Person:\n",
    "    \n",
    "    def __init__(self):\n",
    "        Composition.compose(self, Arms())\n",
    "        Composition.compose(self, Legs())\n",
    "        Composition.compose(self, Head())        \n",
    "\n",
    "    def __getattr__(self, arg):\n",
    "        return Composition.get_composed_attr(self, arg, super())\n",
    "\n",
    "person = Person()\n",
    "person.up_arms() # # calls person.arms.up()\n",
    "person.up_legs() # calls person.legs.up()\n",
    "person.balance_head() # calls person.head.balance()\n",
    "person.smile_face() # calls person.head.face.smile()\n",
    "person.close_eyes() # calls person.head.face.eyes.close()\n"
   ]
  },
  {
   "cell_type": "markdown",
   "metadata": {},
   "source": [
    "## Abstract Factory\n",
    "\n",
    "> \"Provide an interface for creating families of related or dependent objects without specifying their concrete classes.\"\n",
    " \n",
    "![UML Diagram](https://upload.wikimedia.org/wikipedia/commons/a/aa/W3sDesign_Abstract_Factory_Design_Pattern_UML.jpg)\n"
   ]
  },
  {
   "cell_type": "markdown",
   "metadata": {},
   "source": [
    "### Example with cross platform GUI\n",
    "\n",
    "![Concrete example UML](https://upload.wikimedia.org/wikipedia/commons/thumb/a/a7/Abstract_factory.svg/1920px-Abstract_factory.svg.png)\n"
   ]
  },
  {
   "cell_type": "markdown",
   "metadata": {},
   "source": [
    "### Implementation using the buttons themselves as factories\n",
    "\n",
    "pretty trivial, notice that the abstact `Button` already \n",
    "provides a default implementation of `create_button` that works for all the derived types in the example"
   ]
  },
  {
   "cell_type": "code",
   "execution_count": 9,
   "metadata": {},
   "outputs": [
    {
     "name": "stdout",
     "output_type": "stream",
     "text": [
      "Render a button in a Linux style\n"
     ]
    }
   ],
   "source": [
    "from abc import ABC, abstractmethod\n",
    "\n",
    "class Button(ABC):\n",
    "    @abstractmethod\n",
    "    def paint(self):\n",
    "        pass\n",
    "    \n",
    "    @classmethod\n",
    "    def create_button(concrete_class):\n",
    "        return concrete_class()\n",
    "\n",
    "class LinuxButton(Button):\n",
    "    def paint(self):\n",
    "        return \"Render a button in a Linux style\"\n",
    "\n",
    "class WindowsButton(Button):\n",
    "    def paint(self):\n",
    "        return \"Render a button in a Windows style\"\n",
    "\n",
    "class MacOSButton(Button):\n",
    "    def paint(self):\n",
    "        return \"Render a button in a MacOS style\"\n",
    "\n",
    "def get_factory(platform):\n",
    "    factories = { 'linux' : LinuxButton(), 'osx' : MacOSButton(), 'win' : WindowsButton()}\n",
    "    return factories[platform\n",
    "                    ]\n",
    "factory = get_factory('linux')\n",
    "button = factory.create_button()\n",
    "result = button.paint()\n",
    "print(result)"
   ]
  },
  {
   "cell_type": "markdown",
   "metadata": {},
   "source": [
    "# Resource Acquisition Is Initialization (RAII)\n",
    "\n",
    "> Resource acquisition is initialization (RAII)[1] is a programming idiom[2] used in several object-oriented languages to describe a particular language behavior. In RAII, holding a resource is a class invariant, and is tied to object lifetime: resource allocation (or acquisition) is done during object creation (specifically initialization), by the constructor, while resource deallocation (release) is done during object destruction (specifically finalization), by the destructor. Thus the resource is guaranteed to be held between when initialization finishes and finalization starts (holding the resources is a class invariant), and to be held only when the object is alive. Thus if there are no object leaks, there are no resource leaks. [Wikipedia](https://en.wikipedia.org/wiki/Resource_acquisition_is_initialization)\n",
    "\n",
    "* We will implement RAII using the `with` statement.\n",
    "* with the help of the `contextlib` module, its easy to create a safe context manager object for any class"
   ]
  },
  {
   "cell_type": "code",
   "execution_count": 24,
   "metadata": {},
   "outputs": [
    {
     "name": "stdout",
     "output_type": "stream",
     "text": [
      "setting up ExpensiveObject\n",
      "using ExpensiveObject\n",
      "tearing down ExpensiveObject\n"
     ]
    }
   ],
   "source": [
    "import contextlib\n",
    "class ExpensiveObject:\n",
    "    def start(self):\n",
    "        print('setting up', self)\n",
    "        \n",
    "    def close(self):\n",
    "        print('tearing down', self)\n",
    "        \n",
    "    def use(self):\n",
    "        print('using', self)\n",
    "    \n",
    "    def __repr__(self):\n",
    "        return \"ExpensiveObject\"\n",
    "\n",
    "@contextlib.contextmanager\n",
    "def open_expensive_object():\n",
    "    obj = ExpensiveObject()\n",
    "    obj.start()\n",
    "    try:\n",
    "        yield obj\n",
    "    finally:\n",
    "        obj.close()\n",
    "\n",
    "with open_expensive_object() as obj:\n",
    "    obj.use()"
   ]
  },
  {
   "cell_type": "code",
   "execution_count": null,
   "metadata": {},
   "outputs": [],
   "source": []
  }
 ],
 "metadata": {
  "kernelspec": {
   "display_name": "Python 3",
   "language": "python",
   "name": "python3"
  },
  "language_info": {
   "codemirror_mode": {
    "name": "ipython",
    "version": 3
   },
   "file_extension": ".py",
   "mimetype": "text/x-python",
   "name": "python",
   "nbconvert_exporter": "python",
   "pygments_lexer": "ipython3",
   "version": "3.7.3"
  }
 },
 "nbformat": 4,
 "nbformat_minor": 2
}
