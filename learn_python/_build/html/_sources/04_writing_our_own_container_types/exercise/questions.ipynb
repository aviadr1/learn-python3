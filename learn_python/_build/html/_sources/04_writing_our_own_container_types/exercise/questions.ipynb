{
 "cells": [
  {
   "cell_type": "markdown",
   "metadata": {},
   "source": [
    "\n",
    "<a href=\"https://colab.research.google.com/github/aviadr1/learn-advanced-python/blob/master/content/04_writing_our_own_container_types/exercise/questions.ipynb\" target=\"_blank\">\n",
    "<img src=\"https://colab.research.google.com/assets/colab-badge.svg\" \n",
    "     title=\"Open this file in Google Colab\" alt=\"Colab\"/>\n",
    "</a>\n"
   ]
  },
  {
   "cell_type": "markdown",
   "metadata": {},
   "source": [
    "# supporting slices in MyRange class\n",
    "\n",
    "note that the MyRange class in lecture 04 does not support slices\n",
    "\n",
    "```\n",
    "range10 = MyRange(10)\n",
    "range10[::2]\n",
    "---------------------------------------------------------------------------\n",
    "TypeError                                 Traceback (most recent call last)\n",
    "<ipython-input-5-2886954a11eb> in <module>\n",
    "      8 \n",
    "      9 range10 = MyRange(0, 10)\n",
    "---> 10 list(range10[::2])\n",
    "\n",
    "<ipython-input-2-25399ac18a9d> in __getitem__(self, offset)\n",
    "     13 \n",
    "     14     def __getitem__(self, offset):\n",
    "---> 15         if self.__n <= offset:\n",
    "     16             raise IndexError('range object index out of range')\n",
    "     17 \n",
    "\n",
    "TypeError: '<=' not supported between instances of 'int' and 'slice'\n",
    "```\n",
    "\n",
    "create a new class `MyRange2` that inherits from MyRange and adds support of slices\n",
    "\n",
    "HINT: use the class `islice` from the module `itertools`\n",
    "\n",
    "expected output:\n",
    "\n",
    "      >>> range10 = MyRange2(0, 10)\n",
    "      >>> list(range10[::2])\n",
    "      [0, 2, 4, 6, 8]\n"
   ]
  },
  {
   "cell_type": "code",
   "execution_count": 1,
   "metadata": {},
   "outputs": [],
   "source": [
    "### useful starting point\n",
    "import collections.abc\n",
    "import math\n",
    "class MyRange(collections.abc.Sequence):\n",
    "    def __init__(self, start, stop, step=1):\n",
    "        self.__start = start\n",
    "        self.__stop = stop\n",
    "        self.__step = step\n",
    "        self.__n = max(0, math.ceil((stop-start) / step))\n",
    "        super().__init__()\n",
    "        \n",
    "    def __len__(self):\n",
    "        return self.__n\n",
    "    \n",
    "    def __getitem__(self, offset):\n",
    "        if self.__n <= offset:\n",
    "            raise IndexError('range object index out of range')\n",
    "            \n",
    "        return self.__start + offset * self.__step\n",
    "    \n",
    "    def __repr__(self):\n",
    "        return f\"{type(self).__name__}({self.__start},{self.__stop},{self.__step})\"\n"
   ]
  },
  {
   "cell_type": "code",
   "execution_count": 6,
   "metadata": {},
   "outputs": [
    {
     "data": {
      "text/plain": [
       "[0, 2, 4, 6, 8]"
      ]
     },
     "execution_count": 6,
     "metadata": {},
     "output_type": "execute_result"
    }
   ],
   "source": []
  },
  {
   "cell_type": "markdown",
   "metadata": {},
   "source": [
    "# 3x3 matrix\n",
    "\n",
    "Write a class called Matrix that represents a simple 3x3 matrix. \n",
    "\n",
    "namely it should support the following operations:\n",
    "you do not need to derive from any ABC\n",
    "\n",
    "```\n",
    ">>> m = Matrix()\n",
    ">>> print(m)\n",
    "[0, 0, 0]\n",
    "[0, 0, 0]\n",
    "[0, 0, 0]\n",
    "\n",
    ">>> m[0,0] = 10\n",
    ">>> print(m)\n",
    "[10, 0, 0]\n",
    "[0, 0, 0] \n",
    "[0, 0, 0]\n",
    "\n",
    ">>> m[1,1] = 100\n",
    ">>> m[1,1]\n",
    "100\n",
    "```\n",
    "\n",
    "\n",
    "\n"
   ]
  },
  {
   "cell_type": "code",
   "execution_count": 24,
   "metadata": {},
   "outputs": [
    {
     "name": "stdout",
     "output_type": "stream",
     "text": [
      "[0, 0, 0]\n",
      "[0, 0, 0]\n",
      "[0, 0, 0]\n",
      "\n",
      "[10, 0, 0]\n",
      "[0, 0, 0]\n",
      "[0, 0, 0]\n",
      "\n",
      "100\n",
      "\n",
      "10\n",
      "0\n",
      "0\n",
      "0\n",
      "100\n",
      "0\n",
      "0\n",
      "0\n",
      "0\n"
     ]
    }
   ],
   "source": []
  },
  {
   "cell_type": "code",
   "execution_count": null,
   "metadata": {},
   "outputs": [],
   "source": []
  }
 ],
 "metadata": {
  "colab": {
   "name": "questions.ipynb"
  },
  "kernelspec": {
   "display_name": "Python 3",
   "language": "python",
   "name": "python3"
  },
  "language_info": {
   "codemirror_mode": {
    "name": "ipython",
    "version": 3
   },
   "file_extension": ".py",
   "mimetype": "text/x-python",
   "name": "python",
   "nbconvert_exporter": "python",
   "pygments_lexer": "ipython3",
   "version": "3.7.3"
  }
 },
 "nbformat": 4,
 "nbformat_minor": 2
}
