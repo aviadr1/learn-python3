{
 "cells": [
  {
   "cell_type": "markdown",
   "metadata": {},
   "source": [
    "\n",
    "<a href=\"https://colab.research.google.com/github/aviadr1/learn-advanced-python/blob/master/content/02_closures_and_decorators/variadic_functions.ipynb\" target=\"_blank\">\n",
    "<img src=\"https://colab.research.google.com/assets/colab-badge.svg\" \n",
    "     title=\"Open this file in Google Colab\" alt=\"Colab\"/>\n",
    "</a>\n"
   ]
  },
  {
   "cell_type": "markdown",
   "metadata": {
    "colab_type": "text",
    "id": "KCUzzpaSc68t"
   },
   "source": [
    "# `print()` accepts variable number of positional arguments\n",
    "Have you noticed that the `print` function can accept any number of positional arguments?"
   ]
  },
  {
   "cell_type": "code",
   "execution_count": 1,
   "metadata": {
    "colab": {
     "base_uri": "https://localhost:8080/",
     "height": 69
    },
    "colab_type": "code",
    "id": "U1FCUrPnFRNP",
    "outputId": "59cbff38-162e-4fce-8b74-bcd706679df7"
   },
   "outputs": [
    {
     "name": "stdout",
     "output_type": "stream",
     "text": [
      "1 2 3\n",
      "\n",
      "1 2 3 4 5 6 7 8 8 10\n"
     ]
    }
   ],
   "source": [
    "print(1,2,3)\n",
    "print() # empty line\n",
    "print(1,2,3,4,5,6,7,8,8,10)"
   ]
  },
  {
   "cell_type": "markdown",
   "metadata": {
    "colab_type": "text",
    "id": "QX_zGD-1dVDO"
   },
   "source": [
    "# What about our functions?\n",
    "\n",
    "But our functions seem to accept *exactly* the same number of parameters as given in the function"
   ]
  },
  {
   "cell_type": "code",
   "execution_count": 2,
   "metadata": {
    "colab": {
     "base_uri": "https://localhost:8080/",
     "height": 34
    },
    "colab_type": "code",
    "id": "wd5XQTOtFWCG",
    "outputId": "cb9dcb8c-a3f1-4ed7-c79a-a8db4a66bdf6"
   },
   "outputs": [
    {
     "name": "stdout",
     "output_type": "stream",
     "text": [
      "1 2\n"
     ]
    }
   ],
   "source": [
    "def blah(x,y):\n",
    "    print(x,y)\n",
    "\n",
    "blah(1,2)     # OK\n",
    "# blah()      # ERROR: blah() missing 2 required positional arguments: 'x' and 'y'\n",
    "# blah(1)     # ERROR: blah() missing 1 required positional argument: 'y'\n",
    "# blah(1,2,3) # ERROR: blah() takes 2 positional arguments but 3 were given\n"
   ]
  },
  {
   "cell_type": "markdown",
   "metadata": {
    "colab_type": "text",
    "id": "Rxd-oXmLd19l"
   },
   "source": [
    "# variable number of positional arguments\n",
    "\n",
    "```\n",
    "def variadic_func1(*args):\n",
    "    pass\n",
    "```\n",
    "if we prepend the `*` character before a name of a parameter (usually this parameter is called `*args`), then that parameter will receive all the _extra_ positional parameters."
   ]
  },
  {
   "cell_type": "code",
   "execution_count": 3,
   "metadata": {
    "colab": {
     "base_uri": "https://localhost:8080/",
     "height": 69
    },
    "colab_type": "code",
    "id": "wHSQ1Yb_eK9t",
    "outputId": "41efc49d-3964-4de7-80d3-c3bcc04a0380"
   },
   "outputs": [
    {
     "name": "stdout",
     "output_type": "stream",
     "text": [
      "<class 'tuple'>\n",
      "(1, 2, 3, 4, 5, 6, 7, 'goodbye')\n",
      "1 2 3 4 5 6 7 goodbye\n"
     ]
    }
   ],
   "source": [
    "def variadic_func1(*args):\n",
    "    print(type(args)) # args is a variable of type tuple\n",
    "    print(args) # prints the tuple\n",
    "    print(*args) # equals print(args[0], args[1], args[2], ..., args[-2], args[-1])\n",
    "\n",
    "variadic_func1(1,2,3,4,5,6,7,\"goodbye\")"
   ]
  },
  {
   "cell_type": "markdown",
   "metadata": {
    "colab_type": "text",
    "id": "8zr5k-UJfZkG"
   },
   "source": [
    "# variable number of keyword arguments\n",
    "\n",
    "have you noticed that `dict()` function can receive variable number of keyword arguments"
   ]
  },
  {
   "cell_type": "code",
   "execution_count": 4,
   "metadata": {
    "colab": {
     "base_uri": "https://localhost:8080/",
     "height": 86
    },
    "colab_type": "code",
    "id": "I5Scp0-keAmO",
    "outputId": "db59ef26-69be-45d7-c6d2-cc9909b440a1"
   },
   "outputs": [
    {
     "data": {
      "text/plain": [
       "{'did_you_notice': 'that',\n",
       " 'i_can': 'add as many',\n",
       " 'keyword_arguments': 'as I want',\n",
       " 'to_the_call': 'of this function?'}"
      ]
     },
     "execution_count": 4,
     "metadata": {},
     "output_type": "execute_result"
    }
   ],
   "source": [
    "dict(\n",
    "    did_you_notice=\"that\",\n",
    "    i_can=\"add as many\",\n",
    "    keyword_arguments=\"as I want\",\n",
    "    to_the_call=\"of this function?\"\n",
    ")"
   ]
  },
  {
   "cell_type": "markdown",
   "metadata": {
    "colab_type": "text",
    "id": "38rHNlJ-f_bJ"
   },
   "source": [
    "we can achieve the same result too!\n",
    "```python\n",
    "def variadic_func2(**kwargs):\n",
    "    pass \n",
    "```\n",
    "if we prepend the `**` character before a name of a parameter (usually this parameter is called `**kwargs`), then that parameter will receive all the extra keyword parameters."
   ]
  },
  {
   "cell_type": "code",
   "execution_count": 5,
   "metadata": {
    "colab": {
     "base_uri": "https://localhost:8080/",
     "height": 51
    },
    "colab_type": "code",
    "id": "1RXfs-ZBge-V",
    "outputId": "fbb63bfa-60ae-4ac0-a005-732bc6ceb45b"
   },
   "outputs": [
    {
     "name": "stdout",
     "output_type": "stream",
     "text": [
      "<class 'dict'>\n",
      "{'a': 1, 'b': 2, 'c': 3, 'trolololo': 10}\n"
     ]
    }
   ],
   "source": [
    "def variadic_func2(**kwargs):\n",
    "    print(type(kwargs)) # kwargs is of type `dict`\n",
    "    print(kwargs)       # prints the dictionary\n",
    "    # print(**kwargs)   # we will demonstrate this in a different way\n",
    "\n",
    "variadic_func2(a=1,b=2,c=3,trolololo=10)"
   ]
  },
  {
   "cell_type": "markdown",
   "metadata": {
    "colab_type": "text",
    "id": "zAAwv99DhCnZ"
   },
   "source": [
    "when used inside calling a function, the `*` and `**` operators are called the unpacking operators.\n",
    "\n",
    "they can be used like this"
   ]
  },
  {
   "cell_type": "code",
   "execution_count": 6,
   "metadata": {
    "colab": {
     "base_uri": "https://localhost:8080/",
     "height": 34
    },
    "colab_type": "code",
    "id": "Nl006pkkhB5c",
    "outputId": "c091ab78-e2f4-4c56-80ed-c17cec440bae"
   },
   "outputs": [
    {
     "name": "stdout",
     "output_type": "stream",
     "text": [
      "jamesbond 007 mi6\n"
     ]
    }
   ],
   "source": [
    "params = {\n",
    "    'username': \"jamesbond\",\n",
    "    'password': \"007\",\n",
    "    'company': \"mi6\"\n",
    "}\n",
    "\n",
    "def connect(username, password, company):\n",
    "    print(username, password, company)\n",
    "\n",
    "# take all the key/value pairs from the `params` dict\n",
    "# and use them as keyword arguments for the connect function\n",
    "connect(**params) # this actually calls connect(username=\"jamesbond\", password=\"007\", company=\"mi6\")"
   ]
  },
  {
   "cell_type": "markdown",
   "metadata": {
    "colab_type": "text",
    "id": "AyCHsjfJkZLc"
   },
   "source": [
    "# putting it all together\n",
    "\n",
    "a function that receives both `*args` and `**kwargs` parameters is a fully variadic function that can receive any number of arguments, and keyword parameters of any name\n",
    "\n",
    "```python\n",
    "def variadic_function(*args, **kwargs):\n",
    "    pass\n",
    "```\n"
   ]
  },
  {
   "cell_type": "code",
   "execution_count": 7,
   "metadata": {
    "colab": {
     "base_uri": "https://localhost:8080/",
     "height": 51
    },
    "colab_type": "code",
    "id": "rEG5Gog4kyTb",
    "outputId": "43d5902e-d0bb-4ae9-b720-11250c22f5c2"
   },
   "outputs": [
    {
     "name": "stdout",
     "output_type": "stream",
     "text": [
      "<class 'tuple'> (1, 2, 3)\n",
      "<class 'dict'> {'a': 4, 'b': 5, 'c': 6}\n"
     ]
    }
   ],
   "source": [
    "def variadic_function(*args, **kwargs):\n",
    "    print(type(args), args)\n",
    "    print(type(kwargs), kwargs)\n",
    "\n",
    "variadic_function(1,2,3, a=4, b=5, c=6)"
   ]
  },
  {
   "cell_type": "code",
   "execution_count": null,
   "metadata": {
    "colab": {},
    "colab_type": "code",
    "id": "_6Ze9Uark70e"
   },
   "outputs": [],
   "source": []
  }
 ],
 "metadata": {
  "colab": {
   "name": "variadic functions.ipynb",
   "provenance": []
  },
  "kernelspec": {
   "display_name": "Python 3",
   "language": "python",
   "name": "python3"
  },
  "language_info": {
   "codemirror_mode": {
    "name": "ipython",
    "version": 3
   },
   "file_extension": ".py",
   "mimetype": "text/x-python",
   "name": "python",
   "nbconvert_exporter": "python",
   "pygments_lexer": "ipython3",
   "version": "3.7.3"
  }
 },
 "nbformat": 4,
 "nbformat_minor": 1
}
