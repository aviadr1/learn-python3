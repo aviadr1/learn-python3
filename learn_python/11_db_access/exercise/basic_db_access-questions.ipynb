{
  "nbformat": 4,
  "nbformat_minor": 0,
  "metadata": {
    "kernelspec": {
      "display_name": "Python 3",
      "language": "python",
      "name": "python3"
    },
    "language_info": {
      "codemirror_mode": {
        "name": "ipython",
        "version": 3
      },
      "file_extension": ".py",
      "mimetype": "text/x-python",
      "name": "python",
      "nbconvert_exporter": "python",
      "pygments_lexer": "ipython3",
      "version": "3.7.3"
    },
    "colab": {
      "name": "basic_db_access-questions.ipynb",
      "provenance": []
    }
  },
  "cells": [
    {
      "cell_type": "markdown",
      "metadata": {
        "id": "apZ3kbIxbFiz",
        "colab_type": "text"
      },
      "source": [
        "\n",
        "<a href=\"https://colab.research.google.com/github/aviadr1/learn-advanced-python/blob/master/content/11_db_access/exercise/basic_db_access-questions.ipynb\" target=\"_blank\">\n",
        "<img src=\"https://colab.research.google.com/assets/colab-badge.svg\" \n",
        "     title=\"Open this file in Google Colab\" alt=\"Colab\"/>\n",
        "</a>\n"
      ]
    },
    {
      "cell_type": "markdown",
      "metadata": {
        "id": "hkeReJZ7bFi1",
        "colab_type": "text"
      },
      "source": [
        "# Chinook sample SQLite database\n",
        "\n",
        "in this exercise we're going to experiment with the [Chinook sample DB](http://www.sqlitetutorial.net/sqlite-sample-database/).\n",
        "\n",
        "![Chinook](http://www.sqlitetutorial.net/wp-content/uploads/2015/11/sqlite-sample-database-color.jpg)\n",
        "\n",
        "First, run the code below to download the database locally"
      ]
    },
    {
      "cell_type": "code",
      "metadata": {
        "id": "zSxHzxkRbFi1",
        "colab_type": "code",
        "colab": {}
      },
      "source": [
        "### useful: download and extract chinook sample DB\n",
        "import urllib.request\n",
        "import zipfile\n",
        "from functools import partial\n",
        "import os\n",
        "\n",
        "chinook_url = 'http://www.sqlitetutorial.net/wp-content/uploads/2018/03/chinook.zip'\n",
        "if not os.path.exists('chinook.zip'):\n",
        "    print('downloading chinook.zip ', end='')\n",
        "    with urllib.request.urlopen(chinook_url) as response:\n",
        "        with open('chinook.zip', 'wb') as f:\n",
        "            for data in iter(partial(response.read, 4*1024), b''):\n",
        "                print('.', end='', flush=True)\n",
        "                f.write(data)\n",
        "\n",
        "zipfile.ZipFile('chinook.zip').extractall()\n",
        "assert os.path.exists('chinook.db')"
      ],
      "execution_count": 0,
      "outputs": []
    },
    {
      "cell_type": "markdown",
      "metadata": {
        "id": "G4zczGBKbFi7",
        "colab_type": "text"
      },
      "source": [
        "# 1. open the database\n",
        "1. connect to the database using the `sqlite3` or `pyodbc` module interface. place the connection object in a variable named `conn`\n",
        "2. create a cursor object and put it in the variable `cur`"
      ]
    },
    {
      "cell_type": "code",
      "metadata": {
        "id": "HfRB1LbcbFi8",
        "colab_type": "code",
        "colab": {}
      },
      "source": [
        ""
      ],
      "execution_count": 0,
      "outputs": []
    },
    {
      "cell_type": "markdown",
      "metadata": {
        "id": "T-GIv4nFbFi-",
        "colab_type": "text"
      },
      "source": [
        "# 2. table names\n",
        "run an SQL to print out all the table names and their schema"
      ]
    },
    {
      "cell_type": "code",
      "metadata": {
        "id": "P4a9CmtMbFi_",
        "colab_type": "code",
        "colab": {},
        "outputId": "9ba51871-c993-4536-827f-422362ed4ca3"
      },
      "source": [
        ""
      ],
      "execution_count": 0,
      "outputs": [
        {
          "output_type": "stream",
          "text": [
            "albums\n",
            "CREATE TABLE \"albums\"\r\n",
            "(\r\n",
            "    [AlbumId] INTEGER PRIMARY KEY AUTOINCREMENT NOT NULL,\r\n",
            "    [Title] NVARCHAR(160)  NOT NULL,\r\n",
            "    [ArtistId] INTEGER  NOT NULL,\r\n",
            "    FOREIGN KEY ([ArtistId]) REFERENCES \"artists\" ([ArtistId]) \r\n",
            "\t\tON DELETE NO ACTION ON UPDATE NO ACTION\r\n",
            ")\n",
            "\n",
            "artists\n",
            "CREATE TABLE \"artists\"\r\n",
            "(\r\n",
            "    [ArtistId] INTEGER PRIMARY KEY AUTOINCREMENT NOT NULL,\r\n",
            "    [Name] NVARCHAR(120)\r\n",
            ")\n",
            "\n",
            "customers\n",
            "CREATE TABLE \"customers\"\r\n",
            "(\r\n",
            "    [CustomerId] INTEGER PRIMARY KEY AUTOINCREMENT NOT NULL,\r\n",
            "    [FirstName] NVARCHAR(40)  NOT NULL,\r\n",
            "    [LastName] NVARCHAR(20)  NOT NULL,\r\n",
            "    [Company] NVARCHAR(80),\r\n",
            "    [Address] NVARCHAR(70),\r\n",
            "    [City] NVARCHAR(40),\r\n",
            "    [State] NVARCHAR(40),\r\n",
            "    [Country] NVARCHAR(40),\r\n",
            "    [PostalCode] NVARCHAR(10),\r\n",
            "    [Phone] NVARCHAR(24),\r\n",
            "    [Fax] NVARCHAR(24),\r\n",
            "    [Email] NVARCHAR(60)  NOT NULL,\r\n",
            "    [SupportRepId] INTEGER,\r\n",
            "    FOREIGN KEY ([SupportRepId]) REFERENCES \"employees\" ([EmployeeId]) \r\n",
            "\t\tON DELETE NO ACTION ON UPDATE NO ACTION\r\n",
            ")\n",
            "\n",
            "employees\n",
            "CREATE TABLE \"employees\"\r\n",
            "(\r\n",
            "    [EmployeeId] INTEGER PRIMARY KEY AUTOINCREMENT NOT NULL,\r\n",
            "    [LastName] NVARCHAR(20)  NOT NULL,\r\n",
            "    [FirstName] NVARCHAR(20)  NOT NULL,\r\n",
            "    [Title] NVARCHAR(30),\r\n",
            "    [ReportsTo] INTEGER,\r\n",
            "    [BirthDate] DATETIME,\r\n",
            "    [HireDate] DATETIME,\r\n",
            "    [Address] NVARCHAR(70),\r\n",
            "    [City] NVARCHAR(40),\r\n",
            "    [State] NVARCHAR(40),\r\n",
            "    [Country] NVARCHAR(40),\r\n",
            "    [PostalCode] NVARCHAR(10),\r\n",
            "    [Phone] NVARCHAR(24),\r\n",
            "    [Fax] NVARCHAR(24),\r\n",
            "    [Email] NVARCHAR(60),\r\n",
            "    FOREIGN KEY ([ReportsTo]) REFERENCES \"employees\" ([EmployeeId]) \r\n",
            "\t\tON DELETE NO ACTION ON UPDATE NO ACTION\r\n",
            ")\n",
            "\n",
            "genres\n",
            "CREATE TABLE \"genres\"\r\n",
            "(\r\n",
            "    [GenreId] INTEGER PRIMARY KEY AUTOINCREMENT NOT NULL,\r\n",
            "    [Name] NVARCHAR(120)\r\n",
            ")\n",
            "\n",
            "invoice_items\n",
            "CREATE TABLE \"invoice_items\"\r\n",
            "(\r\n",
            "    [InvoiceLineId] INTEGER PRIMARY KEY AUTOINCREMENT NOT NULL,\r\n",
            "    [InvoiceId] INTEGER  NOT NULL,\r\n",
            "    [TrackId] INTEGER  NOT NULL,\r\n",
            "    [UnitPrice] NUMERIC(10,2)  NOT NULL,\r\n",
            "    [Quantity] INTEGER  NOT NULL,\r\n",
            "    FOREIGN KEY ([InvoiceId]) REFERENCES \"invoices\" ([InvoiceId]) \r\n",
            "\t\tON DELETE NO ACTION ON UPDATE NO ACTION,\r\n",
            "    FOREIGN KEY ([TrackId]) REFERENCES \"tracks\" ([TrackId]) \r\n",
            "\t\tON DELETE NO ACTION ON UPDATE NO ACTION\r\n",
            ")\n",
            "\n",
            "invoices\n",
            "CREATE TABLE \"invoices\"\r\n",
            "(\r\n",
            "    [InvoiceId] INTEGER PRIMARY KEY AUTOINCREMENT NOT NULL,\r\n",
            "    [CustomerId] INTEGER  NOT NULL,\r\n",
            "    [InvoiceDate] DATETIME  NOT NULL,\r\n",
            "    [BillingAddress] NVARCHAR(70),\r\n",
            "    [BillingCity] NVARCHAR(40),\r\n",
            "    [BillingState] NVARCHAR(40),\r\n",
            "    [BillingCountry] NVARCHAR(40),\r\n",
            "    [BillingPostalCode] NVARCHAR(10),\r\n",
            "    [Total] NUMERIC(10,2)  NOT NULL,\r\n",
            "    FOREIGN KEY ([CustomerId]) REFERENCES \"customers\" ([CustomerId]) \r\n",
            "\t\tON DELETE NO ACTION ON UPDATE NO ACTION\r\n",
            ")\n",
            "\n",
            "media_types\n",
            "CREATE TABLE \"media_types\"\r\n",
            "(\r\n",
            "    [MediaTypeId] INTEGER PRIMARY KEY AUTOINCREMENT NOT NULL,\r\n",
            "    [Name] NVARCHAR(120)\r\n",
            ")\n",
            "\n",
            "playlist_track\n",
            "CREATE TABLE \"playlist_track\"\r\n",
            "(\r\n",
            "    [PlaylistId] INTEGER  NOT NULL,\r\n",
            "    [TrackId] INTEGER  NOT NULL,\r\n",
            "    CONSTRAINT [PK_PlaylistTrack] PRIMARY KEY  ([PlaylistId], [TrackId]),\r\n",
            "    FOREIGN KEY ([PlaylistId]) REFERENCES \"playlists\" ([PlaylistId]) \r\n",
            "\t\tON DELETE NO ACTION ON UPDATE NO ACTION,\r\n",
            "    FOREIGN KEY ([TrackId]) REFERENCES \"tracks\" ([TrackId]) \r\n",
            "\t\tON DELETE NO ACTION ON UPDATE NO ACTION\r\n",
            ")\n",
            "\n",
            "playlists\n",
            "CREATE TABLE \"playlists\"\r\n",
            "(\r\n",
            "    [PlaylistId] INTEGER PRIMARY KEY AUTOINCREMENT NOT NULL,\r\n",
            "    [Name] NVARCHAR(120)\r\n",
            ")\n",
            "\n",
            "sqlite_sequence\n",
            "CREATE TABLE sqlite_sequence(name,seq)\n",
            "\n",
            "sqlite_stat1\n",
            "CREATE TABLE sqlite_stat1(tbl,idx,stat)\n",
            "\n",
            "tracks\n",
            "CREATE TABLE \"tracks\"\r\n",
            "(\r\n",
            "    [TrackId] INTEGER PRIMARY KEY AUTOINCREMENT NOT NULL,\r\n",
            "    [Name] NVARCHAR(200)  NOT NULL,\r\n",
            "    [AlbumId] INTEGER,\r\n",
            "    [MediaTypeId] INTEGER  NOT NULL,\r\n",
            "    [GenreId] INTEGER,\r\n",
            "    [Composer] NVARCHAR(220),\r\n",
            "    [Milliseconds] INTEGER  NOT NULL,\r\n",
            "    [Bytes] INTEGER,\r\n",
            "    [UnitPrice] NUMERIC(10,2)  NOT NULL,\r\n",
            "    FOREIGN KEY ([AlbumId]) REFERENCES \"albums\" ([AlbumId]) \r\n",
            "\t\tON DELETE NO ACTION ON UPDATE NO ACTION,\r\n",
            "    FOREIGN KEY ([GenreId]) REFERENCES \"genres\" ([GenreId]) \r\n",
            "\t\tON DELETE NO ACTION ON UPDATE NO ACTION,\r\n",
            "    FOREIGN KEY ([MediaTypeId]) REFERENCES \"media_types\" ([MediaTypeId]) \r\n",
            "\t\tON DELETE NO ACTION ON UPDATE NO ACTION\r\n",
            ")\n",
            "\n"
          ],
          "name": "stdout"
        }
      ]
    },
    {
      "cell_type": "markdown",
      "metadata": {
        "id": "jCz2HUETbFjC",
        "colab_type": "text"
      },
      "source": [
        "# 3. Tracks\n",
        "print out the first three tracks in the `tracks` table"
      ]
    },
    {
      "cell_type": "code",
      "metadata": {
        "id": "ylczpLXEbFjC",
        "colab_type": "code",
        "colab": {},
        "outputId": "d0fc583d-8df3-4f41-f85c-0a5466d952be"
      },
      "source": [
        ""
      ],
      "execution_count": 0,
      "outputs": [
        {
          "output_type": "stream",
          "text": [
            "(1, 'For Those About To Rock (We Salute You)', 1, 1, 1, 'Angus Young, Malcolm Young, Brian Johnson', 343719, 11170334, 0.99)\n",
            "(2, 'Balls to the Wall', 2, 2, 1, None, 342562, 5510424, 0.99)\n",
            "(3, 'Fast As a Shark', 3, 2, 1, 'F. Baltes, S. Kaufman, U. Dirkscneider & W. Hoffman', 230619, 3990994, 0.99)\n"
          ],
          "name": "stdout"
        }
      ]
    },
    {
      "cell_type": "markdown",
      "metadata": {
        "id": "X4CkY6USbFjG",
        "colab_type": "text"
      },
      "source": [
        "# 4. Albums from Tracks\n",
        "print out the track name and albums title of the first 20 tracks in the `tracks` table\n",
        "\n"
      ]
    },
    {
      "cell_type": "code",
      "metadata": {
        "id": "VpNjStVpbFjH",
        "colab_type": "code",
        "colab": {},
        "outputId": "25e339a0-1012-4c81-f8cd-fe71765714a4"
      },
      "source": [
        ""
      ],
      "execution_count": 0,
      "outputs": [
        {
          "output_type": "stream",
          "text": [
            "('For Those About To Rock (We Salute You)', 1, 'For Those About To Rock We Salute You', 1)\n",
            "('Put The Finger On You', 1, 'For Those About To Rock We Salute You', 1)\n",
            "(\"Let's Get It Up\", 1, 'For Those About To Rock We Salute You', 1)\n",
            "('Inject The Venom', 1, 'For Those About To Rock We Salute You', 1)\n",
            "('Snowballed', 1, 'For Those About To Rock We Salute You', 1)\n",
            "('Evil Walks', 1, 'For Those About To Rock We Salute You', 1)\n",
            "('C.O.D.', 1, 'For Those About To Rock We Salute You', 1)\n",
            "('Breaking The Rules', 1, 'For Those About To Rock We Salute You', 1)\n",
            "('Night Of The Long Knives', 1, 'For Those About To Rock We Salute You', 1)\n",
            "('Spellbound', 1, 'For Those About To Rock We Salute You', 1)\n",
            "('Balls to the Wall', 2, 'Balls to the Wall', 2)\n",
            "('Fast As a Shark', 3, 'Restless and Wild', 2)\n",
            "('Restless and Wild', 3, 'Restless and Wild', 2)\n",
            "('Princess of the Dawn', 3, 'Restless and Wild', 2)\n",
            "('Go Down', 4, 'Let There Be Rock', 1)\n",
            "('Dog Eat Dog', 4, 'Let There Be Rock', 1)\n",
            "('Let There Be Rock', 4, 'Let There Be Rock', 1)\n",
            "('Bad Boy Boogie', 4, 'Let There Be Rock', 1)\n",
            "('Problem Child', 4, 'Let There Be Rock', 1)\n",
            "('Overdose', 4, 'Let There Be Rock', 1)\n"
          ],
          "name": "stdout"
        }
      ]
    },
    {
      "cell_type": "markdown",
      "metadata": {
        "id": "DLnFR3mWbFjJ",
        "colab_type": "text"
      },
      "source": [
        "# 5. Tracks sold\n",
        "\n",
        "1. print out the first 10 track sales from the `invoice_items` table\n",
        "2. for these first 10 sales, print what are the names of the track sold, and the quantity sold\n"
      ]
    },
    {
      "cell_type": "code",
      "metadata": {
        "id": "7LA_36e6bFjK",
        "colab_type": "code",
        "colab": {},
        "outputId": "459130ac-da9a-4f4e-f7ac-84d8821569d5"
      },
      "source": [
        ""
      ],
      "execution_count": 0,
      "outputs": [
        {
          "output_type": "stream",
          "text": [
            "(1, 1, 2, 0.99, 1)\n",
            "(2, 1, 4, 0.99, 1)\n",
            "(3, 2, 6, 0.99, 1)\n",
            "(4, 2, 8, 0.99, 1)\n",
            "(5, 2, 10, 0.99, 1)\n",
            "(6, 2, 12, 0.99, 1)\n",
            "(7, 3, 16, 0.99, 1)\n",
            "(8, 3, 20, 0.99, 1)\n",
            "(9, 3, 24, 0.99, 1)\n",
            "(10, 3, 28, 0.99, 1)\n",
            "\n",
            "('Balls to the Wall', 1)\n",
            "('Restless and Wild', 1)\n",
            "('Put The Finger On You', 1)\n",
            "('Inject The Venom', 1)\n",
            "('Evil Walks', 1)\n",
            "('Breaking The Rules', 1)\n",
            "('Dog Eat Dog', 1)\n",
            "('Overdose', 1)\n",
            "('Love In An Elevator', 1)\n",
            "(\"Janie's Got A Gun\", 1)\n"
          ],
          "name": "stdout"
        }
      ]
    },
    {
      "cell_type": "markdown",
      "metadata": {
        "id": "bwydVb3WbFjN",
        "colab_type": "text"
      },
      "source": [
        "# 6. Top tracks sold\n",
        "\n",
        "print the names of top 10 tracks sold, and how many they times they were sold"
      ]
    },
    {
      "cell_type": "code",
      "metadata": {
        "id": "D8qTG40PbFjO",
        "colab_type": "code",
        "colab": {},
        "outputId": "8b9357f6-62df-4e9d-97cb-e3b1bc6b51c4"
      },
      "source": [
        ""
      ],
      "execution_count": 0,
      "outputs": [
        {
          "output_type": "stream",
          "text": [
            "('Balls to the Wall', 2)\n",
            "('Inject The Venom', 2)\n",
            "('Snowballed', 2)\n",
            "('Overdose', 2)\n",
            "('Deuces Are Wild', 2)\n",
            "('Not The Doctor', 2)\n",
            "('Por Causa De Você', 2)\n",
            "('Welcome Home (Sanitarium)', 2)\n",
            "('Snowblind', 2)\n",
            "('Cornucopia', 2)\n"
          ],
          "name": "stdout"
        }
      ]
    },
    {
      "cell_type": "markdown",
      "metadata": {
        "id": "xfX8-_sBbFjQ",
        "colab_type": "text"
      },
      "source": [
        "# 7. top selling artists\n",
        "Who are the top 10 highest selling artists?\n",
        "\n",
        "> _hint: you need to join the invoice_items, tracks, albums and artists tables_\n"
      ]
    },
    {
      "cell_type": "code",
      "metadata": {
        "id": "BASpLQHNbFjR",
        "colab_type": "code",
        "colab": {},
        "outputId": "c7a26869-290d-4718-d6fd-ba0c91e6e816"
      },
      "source": [
        ""
      ],
      "execution_count": 0,
      "outputs": [
        {
          "output_type": "stream",
          "text": [
            "('Iron Maiden', 140)\n",
            "('U2', 107)\n",
            "('Metallica', 91)\n",
            "('Led Zeppelin', 87)\n",
            "('Os Paralamas Do Sucesso', 45)\n",
            "('Deep Purple', 44)\n",
            "('Faith No More', 42)\n",
            "('Lost', 41)\n",
            "('Eric Clapton', 40)\n",
            "('R.E.M.', 39)\n"
          ],
          "name": "stdout"
        }
      ]
    },
    {
      "cell_type": "code",
      "metadata": {
        "id": "Y3F3ap6dbFjT",
        "colab_type": "code",
        "colab": {}
      },
      "source": [
        ""
      ],
      "execution_count": 0,
      "outputs": []
    },
    {
      "cell_type": "code",
      "metadata": {
        "id": "dn664KqVbFjU",
        "colab_type": "code",
        "colab": {}
      },
      "source": [
        ""
      ],
      "execution_count": 0,
      "outputs": []
    },
    {
      "cell_type": "code",
      "metadata": {
        "id": "QbGHJ4tGbFjX",
        "colab_type": "code",
        "colab": {}
      },
      "source": [
        ""
      ],
      "execution_count": 0,
      "outputs": []
    }
  ]
}