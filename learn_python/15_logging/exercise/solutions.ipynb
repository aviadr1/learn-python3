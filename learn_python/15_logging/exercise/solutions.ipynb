{
 "cells": [
  {
   "cell_type": "markdown",
   "metadata": {},
   "source": [
    "\n",
    "<a href=\"https://colab.research.google.com/github/aviadr1/learn-advanced-python/blob/master/content/15_logging/exercise/solutions.ipynb\" target=\"_blank\">\n",
    "<img src=\"https://colab.research.google.com/assets/colab-badge.svg\" \n",
    "     title=\"Open this file in Google Colab\" alt=\"Colab\"/>\n",
    "</a>\n"
   ]
  },
  {
   "cell_type": "markdown",
   "metadata": {},
   "source": [
    "# setup\n",
    "1. import the logging module\n",
    "2. call `.basicConfig()`\n",
    "3. setup autoreload to help reloading .py files from disk"
   ]
  },
  {
   "cell_type": "code",
   "execution_count": 1,
   "metadata": {},
   "outputs": [],
   "source": [
    "### useful: please run this\n",
    "import logging\n",
    "logging.basicConfig()\n",
    "\n",
    "%load_ext autoreload\n",
    "%autoreload 2"
   ]
  },
  {
   "cell_type": "markdown",
   "metadata": {},
   "source": [
    "# Basic\n",
    "1. import \n",
    "1. Create a new python file named `ex1.py` which should:\n",
    "    1. Import the logging module\n",
    "    2. create a logger instance named `__name__`\n",
    "    3. Create a function called `say_something()` that logs a ‘warning’ message with the text: `\"This a warning message!\"`.\n",
    "2. use the file\n",
    "   1. `import ex1`\n",
    "   2. call `ex1.say_something()`\n",
    "\n"
   ]
  },
  {
   "cell_type": "code",
   "execution_count": 2,
   "metadata": {},
   "outputs": [
    {
     "name": "stdout",
     "output_type": "stream",
     "text": [
      "Overwriting ex1.py\n"
     ]
    }
   ],
   "source": [
    "%%file ex1.py\n",
    "\n",
    "import logging\n",
    "logger = logging.getLogger(__name__)\n",
    "\n",
    "def say_something():\n",
    "    logger.warning('this is a warning message')"
   ]
  },
  {
   "cell_type": "code",
   "execution_count": 3,
   "metadata": {},
   "outputs": [
    {
     "name": "stderr",
     "output_type": "stream",
     "text": [
      "WARNING:ex1:this is a warning message\n"
     ]
    }
   ],
   "source": [
    "### useful: run your ex1.py\n",
    "import ex1\n",
    "ex1.say_something()"
   ]
  },
  {
   "cell_type": "markdown",
   "metadata": {},
   "source": [
    "# Log level\n",
    "\n",
    "1. Create a new python file named ‘ex2.py‘ which should:\n",
    "    1. Import the logging module\n",
    "    2. create a logger instance named `__name__`\n",
    "    2. set the logger's level to `logging.DEBUG`\n",
    "    3. create a function called `say_something()` which logs an ‘info’ message with the text: “This an informative message!”.\n",
    "2. use this file\n",
    "   1. import ex2\n",
    "   1. call `ex2.say_something()`"
   ]
  },
  {
   "cell_type": "code",
   "execution_count": 4,
   "metadata": {},
   "outputs": [
    {
     "name": "stdout",
     "output_type": "stream",
     "text": [
      "Overwriting ex2.py\n"
     ]
    }
   ],
   "source": [
    "%%file ex2.py\n",
    "\n",
    "import logging\n",
    "\n",
    "logger = logging.getLogger(__name__)\n",
    "logger.setLevel(logging.DEBUG)\n",
    "\n",
    "def say_something():\n",
    "    logger.info('this is an informative message')"
   ]
  },
  {
   "cell_type": "code",
   "execution_count": 26,
   "metadata": {},
   "outputs": [
    {
     "name": "stderr",
     "output_type": "stream",
     "text": [
      "2019-12-26 03:59:51,749 :: INFO :: Module ex2 :: Line No 8 :: this is an informative message\n"
     ]
    }
   ],
   "source": [
    "### useful: run your ex2.py\n",
    "import ex2\n",
    "ex2.say_something()"
   ]
  },
  {
   "cell_type": "markdown",
   "metadata": {},
   "source": [
    "# Configuration\n",
    "1. setup\n",
    "   1. change the level of ex2's logger to DEBUG\n",
    "   2. call `ex2.say_something()` - this should write the usual output \n",
    "   <br><br>\n",
    "   \n",
    "1. Review this basic YAML configuration, and see that you understand how it will:\n",
    "   1. set a simple format that is the same as the default format\n",
    "   2. set a handler that logs to console\n",
    "   3. connect the root logger to the console handler, with level WARNING\n",
    "   4. modify the level for the ex2 logger to ERROR\n",
    "      ```\n",
    "      version: 1\n",
    "      disable_existing_loggers: False\n",
    "      formatters:\n",
    "        simple:\n",
    "          format: '%(levelname)s:%(name)s:%(message)s'\n",
    "      handlers:\n",
    "        console:\n",
    "          class: logging.StreamHandler\n",
    "          formatter: simple\n",
    "          stream: ext://sys.stderr\n",
    "      loggers:\n",
    "        ex2:\n",
    "          level: ERROR\n",
    "      root:\n",
    "        level: WARNING\n",
    "        handlers: [console]\n",
    "      ``` \n",
    "      <br><br>\n",
    "2. load this configuration\n",
    "   1. import the `yaml` module\n",
    "   2. use `yaml.load()` to read this configuration into a `dict` object\n",
    "   3. import logging.config module\n",
    "   4. use `logging.config.dictConfig()` function to load the configuration from your dict <br>\n",
    "   <br><br>\n",
    "   \n",
    "3. execute `ex2.say_something()` again. this time there should not be any output. \n",
    "   why?\n",
    "\n",
    "\n"
   ]
  },
  {
   "cell_type": "code",
   "execution_count": 6,
   "metadata": {},
   "outputs": [
    {
     "name": "stderr",
     "output_type": "stream",
     "text": [
      "INFO:ex2:this is an informative message\n"
     ]
    }
   ],
   "source": [
    "import yaml\n",
    "import logging.config\n",
    "\n",
    "ex2.logger.setLevel(logging.DEBUG)\n",
    "ex2.say_something()\n",
    "\n",
    "config_string = \"\"\"\n",
    "version: 1\n",
    "disable_existing_loggers: False\n",
    "formatters:\n",
    "  simple:\n",
    "    format: '%(levelname)s:%(name)s:%(message)s'\n",
    "handlers:\n",
    "  console:\n",
    "    class: logging.StreamHandler\n",
    "    formatter: simple\n",
    "    stream: ext://sys.stderr\n",
    "loggers:\n",
    "  ex2:\n",
    "    level: ERROR\n",
    "root:\n",
    "  level: INFO\n",
    "  handlers: [console]\n",
    "\"\"\"\n",
    "\n",
    "config_dict = yaml.safe_load(config_string)\n",
    "logging.config.dictConfig(config_dict)\n",
    "\n",
    "# now the log level is set to ERROR \n",
    "# so there should be no output from this logger\n",
    "ex2.say_something() \n"
   ]
  },
  {
   "cell_type": "markdown",
   "metadata": {},
   "source": [
    "# Format #1\n",
    "\n",
    "Copy the YAML configuration from the previous question, and change the formatter so that output from calling `ex1.say_something()` will look like this\n",
    "`2019-12-26 03:07:04,560 | WARNING | ex1 | this is a warning message`\n",
    "\n",
    "\n",
    "hints:\n",
    "- Read the [LogRecord](https://docs.python.org/3/library/logging.html#logrecord-attributes) documentaion, which shows the attributes available for formatting\n"
   ]
  },
  {
   "cell_type": "code",
   "execution_count": 9,
   "metadata": {},
   "outputs": [
    {
     "name": "stderr",
     "output_type": "stream",
     "text": [
      "2019-12-26 03:07:04,560 | WARNING | ex1 | this is a warning message\n"
     ]
    }
   ],
   "source": [
    "config_string = \"\"\"\n",
    "version: 1\n",
    "disable_existing_loggers: False\n",
    "formatters:\n",
    "  simple:\n",
    "    format: '%(asctime)s | %(levelname)s | %(name)s | %(message)s'\n",
    "handlers:\n",
    "  console:\n",
    "    class: logging.StreamHandler\n",
    "    formatter: simple\n",
    "    stream: ext://sys.stderr\n",
    "root:\n",
    "  handlers: [console]\n",
    "\"\"\"\n",
    "\n",
    "config_dict = yaml.safe_load(config_string)\n",
    "logging.config.dictConfig(config_dict)\n",
    "\n",
    "ex1.say_something()"
   ]
  },
  {
   "cell_type": "markdown",
   "metadata": {},
   "source": [
    "# Format #2\n",
    "Copy the YAML configuration from the previous question, and change the formatter so that output from calling `ex1.say_something()` will look like this: \n",
    "\n",
    "`2019-12-26 03:10:19,852 :: WARNING :: Module ex1 :: Line No 6 :: this is a warning message`"
   ]
  },
  {
   "cell_type": "code",
   "execution_count": 11,
   "metadata": {},
   "outputs": [
    {
     "name": "stderr",
     "output_type": "stream",
     "text": [
      "2019-12-26 03:10:19,852 :: WARNING :: Module ex1 :: Line No 6 :: this is a warning message\n"
     ]
    }
   ],
   "source": [
    "config_string = \"\"\"\n",
    "version: 1\n",
    "disable_existing_loggers: False\n",
    "formatters:\n",
    "  simple:\n",
    "    format: '%(asctime)s :: %(levelname)s :: Module %(module)s :: Line No %(lineno)s :: %(message)s'\n",
    "handlers:\n",
    "  console:\n",
    "    class: logging.StreamHandler\n",
    "    formatter: simple\n",
    "    stream: ext://sys.stderr\n",
    "root:\n",
    "  handlers: [console]\n",
    "\"\"\"\n",
    "\n",
    "config_dict = yaml.safe_load(config_string)\n",
    "logging.config.dictConfig(config_dict)\n",
    "\n",
    "ex1.say_something()"
   ]
  },
  {
   "cell_type": "markdown",
   "metadata": {},
   "source": [
    "# file handler\n",
    "\n",
    "- Use YAML configuration to\n",
    "  1. set the levels of both `ex1` and `ex2` loggers to DEBUG\n",
    "  2. setup file logging for `ex2` logger so that it writes to `ex2.log`\n",
    "  \n",
    "- test this by calling \n",
    "  ```python\n",
    "  ex1.say_something()\n",
    "  ex2.say_something()\n",
    "  ```\n",
    "  and reading `ex2.log`\n"
   ]
  },
  {
   "cell_type": "code",
   "execution_count": 25,
   "metadata": {},
   "outputs": [
    {
     "name": "stderr",
     "output_type": "stream",
     "text": [
      "2019-12-26 03:21:42,823 :: WARNING :: Module ex1 :: Line No 6 :: this is a warning message\n",
      "2019-12-26 03:21:42,824 :: INFO :: Module ex2 :: Line No 8 :: this is an informative message\n"
     ]
    },
    {
     "name": "stdout",
     "output_type": "stream",
     "text": [
      "ex2.log: 2019-12-26 03:21:42,824 :: INFO :: Module ex2 :: Line No 8 :: this is an informative message\n",
      "\n"
     ]
    }
   ],
   "source": [
    "from pathlib import Path\n",
    "\n",
    "config_string = \"\"\"\n",
    "version: 1\n",
    "disable_existing_loggers: False\n",
    "formatters:\n",
    "  simple:\n",
    "    format: '%(asctime)s :: %(levelname)s :: Module %(module)s :: Line No %(lineno)s :: %(message)s'\n",
    "handlers:\n",
    "  console:\n",
    "    class: logging.StreamHandler\n",
    "    formatter: simple\n",
    "    stream: ext://sys.stderr\n",
    "  ex2:\n",
    "    class: logging.FileHandler\n",
    "    formatter: simple\n",
    "    filename: ex2.log\n",
    "    mode: 'w'\n",
    "loggers:\n",
    "  ex2:\n",
    "    handlers: [ex2]\n",
    "    level: DEBUG\n",
    "  ex1:\n",
    "    level: DEBUG\n",
    "root:\n",
    "  handlers: [console]\n",
    "\"\"\"\n",
    "\n",
    "config_dict = yaml.safe_load(config_string)\n",
    "logging.config.dictConfig(config_dict)\n",
    "\n",
    "ex1.say_something()\n",
    "ex2.say_something()\n",
    "\n",
    "print('ex2.log:', Path('ex2.log').read_text())"
   ]
  },
  {
   "cell_type": "code",
   "execution_count": 18,
   "metadata": {},
   "outputs": [
    {
     "name": "stdout",
     "output_type": "stream",
     "text": [
      " Volume in drive E is New Volume\n",
      " Volume Serial Number is 5C7B-188A\n",
      "\n",
      " Directory of E:\\dev\\GitHub\\learn-advanced-python\\content\\15_logging\\exercise\n",
      "\n",
      "26-Dec-19  03:18 AM    <DIR>          .\n",
      "26-Dec-19  03:18 AM    <DIR>          ..\n",
      "26-Dec-19  01:00 AM    <DIR>          .ipynb_checkpoints\n",
      "26-Dec-19  03:06 AM               129 ex1.py\n",
      "26-Dec-19  03:18 AM                 0 ex2.log\n",
      "26-Dec-19  03:06 AM               165 ex2.py\n",
      "26-Dec-19  01:14 AM               124 example.py\n",
      "26-Dec-19  03:18 AM            30,516 solutions.ipynb\n",
      "26-Dec-19  03:06 AM    <DIR>          __pycache__\n",
      "               5 File(s)         30,934 bytes\n",
      "               4 Dir(s)  3,086,822,178,816 bytes free\n"
     ]
    }
   ],
   "source": [
    "!dir"
   ]
  },
  {
   "cell_type": "code",
   "execution_count": null,
   "metadata": {},
   "outputs": [],
   "source": []
  }
 ],
 "metadata": {
  "kernelspec": {
   "display_name": "Python 3",
   "language": "python",
   "name": "python3"
  },
  "language_info": {
   "codemirror_mode": {
    "name": "ipython",
    "version": 3
   },
   "file_extension": ".py",
   "mimetype": "text/x-python",
   "name": "python",
   "nbconvert_exporter": "python",
   "pygments_lexer": "ipython3",
   "version": "3.7.3"
  }
 },
 "nbformat": 4,
 "nbformat_minor": 2
}
